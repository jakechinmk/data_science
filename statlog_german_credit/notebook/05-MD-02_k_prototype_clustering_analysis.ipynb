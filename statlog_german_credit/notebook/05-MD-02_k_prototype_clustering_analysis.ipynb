{
 "cells": [
  {
   "cell_type": "markdown",
   "id": "0b2aa8da",
   "metadata": {},
   "source": [
    "# Setup"
   ]
  },
  {
   "cell_type": "markdown",
   "id": "2657fdf4",
   "metadata": {},
   "source": [
    "## Import Libraries"
   ]
  },
  {
   "cell_type": "code",
   "execution_count": 1,
   "id": "cdc8c87a",
   "metadata": {
    "ExecuteTime": {
     "end_time": "2022-01-17T13:01:10.063764Z",
     "start_time": "2022-01-17T13:01:08.330692Z"
    }
   },
   "outputs": [],
   "source": [
    "import numpy as np\n",
    "import pandas as pd\n",
    "\n",
    "import matplotlib.pyplot as plt\n",
    "import seaborn as sns\n",
    "import plotly.express as px\n",
    "\n",
    "import os\n",
    "import re\n",
    "import joblib\n",
    "\n",
    "from sklearn.cluster import KMeans\n",
    "from yellowbrick.cluster import KElbowVisualizer, SilhouetteVisualizer, InterclusterDistance\n",
    "from kmodes.kprototypes import KPrototypes\n",
    "from gap_statistic import OptimalK\n",
    "\n",
    "from sklearn.pipeline import Pipeline\n",
    "from sklearn.metrics import (\n",
    "    silhouette_score,\n",
    "    adjusted_rand_score,\n",
    "    adjusted_mutual_info_score,\n",
    "    homogeneity_completeness_v_measure,\n",
    "    fowlkes_mallows_score,\n",
    "    classification_report,\n",
    "    roc_auc_score\n",
    ")\n",
    "\n",
    "from sklearn import tree\n"
   ]
  },
  {
   "cell_type": "markdown",
   "id": "288483e5",
   "metadata": {},
   "source": [
    "## Global Configuration"
   ]
  },
  {
   "cell_type": "code",
   "execution_count": 13,
   "id": "f6c145a7",
   "metadata": {
    "ExecuteTime": {
     "end_time": "2022-01-17T13:11:02.068547Z",
     "start_time": "2022-01-17T13:11:02.063813Z"
    }
   },
   "outputs": [],
   "source": [
    "INPUT_DIR = '../data/input/'\n",
    "INPUT_PATH = f'{INPUT_DIR}german_data.csv'\n",
    "OUTPUT_DIR = INPUT_DIR\n",
    "\n",
    "EDA_DIR = '../data/EDA/'\n",
    "\n",
    "FEATURE_INPUT_DIR = '../data/feature/step2/'\n",
    "PIPELINE_INPUT_DIR = '../data/pipeline/step2/'\n",
    "\n",
    "FEATURE_OUTPUT_DIR = '../data/feature/step3/'\n",
    "PIPELINE_OUTPUT_DIR = '../data/pipeline/step3/'\n",
    "\n",
    "FEATURE_TRAIN_PATH = '../data/feature/step1/02_pipeline_smote_train.csv'\n",
    "FEATURE_TEST_PATH = '../data/feature/step1/02_pipeline_smote_test.csv'\n",
    "ENC_TRAIN_PATH = '../data/feature/step1/03_pipeline_rare_freq_train.csv'\n",
    "ENC_TEST_PATH = '../data/feature/step1/03_pipeline_rare_freq_test.csv'\n",
    "\n",
    "OUTPUT = False\n",
    "SEED = 888"
   ]
  },
  {
   "cell_type": "code",
   "execution_count": 3,
   "id": "79f9425b",
   "metadata": {
    "ExecuteTime": {
     "end_time": "2022-01-17T13:01:10.076171Z",
     "start_time": "2022-01-17T13:01:10.071008Z"
    }
   },
   "outputs": [],
   "source": [
    "if not os.path.exists(FEATURE_OUTPUT_DIR):\n",
    "    os.makedirs(FEATURE_OUTPUT_DIR)\n",
    "    \n",
    "if not os.path.exists(PIPELINE_OUTPUT_DIR):\n",
    "    os.makedirs(PIPELINE_OUTPUT_DIR)"
   ]
  },
  {
   "cell_type": "code",
   "execution_count": 4,
   "id": "8078ef7f",
   "metadata": {
    "ExecuteTime": {
     "end_time": "2022-01-17T13:01:10.087473Z",
     "start_time": "2022-01-17T13:01:10.079859Z"
    }
   },
   "outputs": [],
   "source": [
    "pd.options.display.max_columns = None"
   ]
  },
  {
   "cell_type": "code",
   "execution_count": 5,
   "id": "5b47439b",
   "metadata": {
    "ExecuteTime": {
     "end_time": "2022-01-17T13:01:10.094912Z",
     "start_time": "2022-01-17T13:01:10.090024Z"
    }
   },
   "outputs": [],
   "source": [
    "COLOR_MAP = {0: '#00BFC4', 1: '#F8766D'}"
   ]
  },
  {
   "cell_type": "markdown",
   "id": "38e78cf6",
   "metadata": {},
   "source": [
    "## Global Function"
   ]
  },
  {
   "cell_type": "code",
   "execution_count": 6,
   "id": "613b143c",
   "metadata": {
    "ExecuteTime": {
     "end_time": "2022-01-17T13:01:10.101152Z",
     "start_time": "2022-01-17T13:01:10.097098Z"
    }
   },
   "outputs": [],
   "source": [
    "def kmeans_optimalK(data, K):\n",
    "    model = KMeans(random_state=SEED, max_iter=300)\n",
    "    model.fit(data)\n",
    "    return model.cluster_centers_, model.predict(data)"
   ]
  },
  {
   "cell_type": "markdown",
   "id": "23f1c49e",
   "metadata": {},
   "source": [
    "# Data"
   ]
  },
  {
   "cell_type": "markdown",
   "id": "e747f925",
   "metadata": {},
   "source": [
    "We decided to take rare encoding + frequency encoding -> pca pipeline due to the reason that they have obvious clustering patterns over their PC plots. From the PC components plot, we can somehow decide that thre will be 2-4 clusters, but we can still use other methods to judge whether if which k will be optimal."
   ]
  },
  {
   "cell_type": "code",
   "execution_count": 14,
   "id": "f85fba77",
   "metadata": {
    "ExecuteTime": {
     "end_time": "2022-01-17T13:12:04.463507Z",
     "start_time": "2022-01-17T13:12:04.423893Z"
    }
   },
   "outputs": [],
   "source": [
    "df_train = pd.read_csv(FEATURE_TRAIN_PATH)\n",
    "df_test = pd.read_csv(FEATURE_TEST_PATH)\n",
    "\n",
    "df_train_enc = pd.read_csv(ENC_TRAIN_PATH)\n",
    "df_test_enc = pd.read_csv(ENC_TEST_PATH)\n",
    "\n",
    "X_train = df_train.drop('label', axis=1)\n",
    "y_train = df_train.label\n",
    "\n",
    "X_test = df_test.drop('label', axis=1)\n",
    "y_test = df_test.label\n",
    "\n",
    "X_train_enc = df_train_enc.drop('label', axis=1)\n",
    "X_test_enc = df_test_enc.drop('label', axis=1)"
   ]
  },
  {
   "cell_type": "code",
   "execution_count": 8,
   "id": "f7170494",
   "metadata": {
    "ExecuteTime": {
     "end_time": "2022-01-17T13:01:10.146205Z",
     "start_time": "2022-01-17T13:01:10.134707Z"
    }
   },
   "outputs": [
    {
     "data": {
      "text/plain": [
       "(978, 21)"
      ]
     },
     "metadata": {},
     "output_type": "display_data"
    },
    {
     "data": {
      "text/plain": [
       "(300, 21)"
      ]
     },
     "metadata": {},
     "output_type": "display_data"
    },
    {
     "data": {
      "text/plain": [
       "(978, 20)"
      ]
     },
     "metadata": {},
     "output_type": "display_data"
    },
    {
     "data": {
      "text/plain": [
       "(300, 20)"
      ]
     },
     "metadata": {},
     "output_type": "display_data"
    }
   ],
   "source": [
    "display(\n",
    "    df_train.shape,\n",
    "    df_test.shape,\n",
    "#     X_train_pca.shape,\n",
    "#     X_test_pca.shape,\n",
    "    X_train.shape,\n",
    "    X_test.shape\n",
    ")"
   ]
  },
  {
   "cell_type": "markdown",
   "id": "ac76b281",
   "metadata": {},
   "source": [
    "# K Prototype Clustering"
   ]
  },
  {
   "cell_type": "code",
   "execution_count": 9,
   "id": "1e828fbd",
   "metadata": {
    "ExecuteTime": {
     "end_time": "2022-01-17T13:01:10.154679Z",
     "start_time": "2022-01-17T13:01:10.147786Z"
    }
   },
   "outputs": [
    {
     "name": "stdout",
     "output_type": "stream",
     "text": [
      "[0, 2, 3, 5, 6, 8, 9, 11, 13, 14, 16, 18]\n"
     ]
    }
   ],
   "source": [
    "categorical_cols = X_train.select_dtypes(object).columns.tolist()\n",
    "categorical_cols_boolean = [col in categorical_cols for col in X_train.columns]\n",
    "categorical_cols_index = [i for i,x in enumerate(categorical_cols_boolean) if x]\n",
    "print(categorical_cols_index)"
   ]
  },
  {
   "cell_type": "markdown",
   "id": "759eb089",
   "metadata": {},
   "source": [
    "## Elbow Method"
   ]
  },
  {
   "cell_type": "code",
   "execution_count": 16,
   "id": "bc8e8940",
   "metadata": {
    "ExecuteTime": {
     "end_time": "2022-01-17T13:16:50.178392Z",
     "start_time": "2022-01-17T13:12:22.150686Z"
    }
   },
   "outputs": [
    {
     "data": {
      "image/png": "[encoded data removed]",
      "text/plain": [
       "<Figure size 576x396 with 2 Axes>"
      ]
     },
     "metadata": {},
     "output_type": "display_data"
    },
    {
     "data": {
      "image/png": "[encoded data removed]",
      "text/plain": [
       "<Figure size 576x396 with 2 Axes>"
      ]
     },
     "metadata": {},
     "output_type": "display_data"
    },
    {
     "data": {
      "image/png": "[encoded data removed]",
      "text/plain": [
       "<Figure size 576x396 with 2 Axes>"
      ]
     },
     "metadata": {},
     "output_type": "display_data"
    }
   ],
   "source": [
    "n_cluster_range = (2, 10)\n",
    "metric_list = [\n",
    "    'distortion',\n",
    "    'silhouette',\n",
    "    'calinski_harabasz'\n",
    "]\n",
    "\n",
    "model = KPrototypes(\n",
    "    random_state=SEED,\n",
    "    n_jobs=-1,\n",
    ")\n",
    "\n",
    "optimal_k_set = set()\n",
    "\n",
    "for metric in metric_list:\n",
    "    visualizer = KElbowVisualizer(\n",
    "        model, \n",
    "        k=n_cluster_range,\n",
    "        timings=True,\n",
    "        metric=metric\n",
    "    )\n",
    "    visualizer.fit(X_train_enc, categorical=categorical_cols_index)\n",
    "    visualizer.show()\n",
    "    optimal_k_set.add(visualizer.elbow_value_)\n",
    "    plt.show()"
   ]
  },
  {
   "cell_type": "code",
   "execution_count": 17,
   "id": "f289901e",
   "metadata": {
    "ExecuteTime": {
     "end_time": "2022-01-17T13:17:16.701600Z",
     "start_time": "2022-01-17T13:17:16.694172Z"
    }
   },
   "outputs": [
    {
     "data": {
      "text/plain": [
       "{2, 4}"
      ]
     },
     "execution_count": 17,
     "metadata": {},
     "output_type": "execute_result"
    }
   ],
   "source": [
    "optimal_k_set"
   ]
  },
  {
   "cell_type": "markdown",
   "id": "5cf262fc",
   "metadata": {},
   "source": [
    "## Intercluster Distance"
   ]
  },
  {
   "cell_type": "code",
   "execution_count": 31,
   "id": "6ab18051",
   "metadata": {
    "ExecuteTime": {
     "end_time": "2022-01-17T13:31:16.083753Z",
     "start_time": "2022-01-17T13:30:59.954489Z"
    }
   },
   "outputs": [
    {
     "data": {
      "image/png": "[encoded data removed]",
      "text/plain": [
       "<Figure size 576x396 with 2 Axes>"
      ]
     },
     "metadata": {},
     "output_type": "display_data"
    },
    {
     "data": {
      "image/png": "[encoded data removed]",
      "text/plain": [
       "<Figure size 576x396 with 2 Axes>"
      ]
     },
     "metadata": {},
     "output_type": "display_data"
    }
   ],
   "source": [
    "for i in optimal_k_set:\n",
    "    model = KPrototypes(\n",
    "        random_state=SEED,\n",
    "        n_jobs=-1,\n",
    "        n_clusters=i\n",
    "    )\n",
    "    model.fit(X_train_enc, categorical=categorical_cols_index)\n",
    "    model.cluster_centers_ = model.cluster_centroids_\n",
    "    visualizer = InterclusterDistance(model)\n",
    "    visualizer.fit(X_train_enc)\n",
    "    visualizer.show()"
   ]
  },
  {
   "cell_type": "markdown",
   "id": "75d2be2a",
   "metadata": {},
   "source": [
    "# Feature Selection"
   ]
  },
  {
   "cell_type": "markdown",
   "id": "017781d8",
   "metadata": {},
   "source": [
    "As suggested by PCA loadings, we knew that \n",
    "- for categorical variables appear at least 4 times in top 3 highest / lowest loadings within each PC\n",
    "    - credit_history\n",
    "    - saving_accounts_or_bonds\n",
    "    - other_installment_plans\n",
    "    - housing\n",
    "    - job\n",
    "- for numerical variables appear at least 4 times in top 3 highest / lowest loading within each PC\n",
    "    - duration_mth\n",
    "    - installment_rate_percent\n",
    "    - present_residence_since\n",
    "    - monthly_affordability_amount\n",
    "\n",
    "However, since our focus is to do a clustering over categorical variables to increase the explainability."
   ]
  },
  {
   "cell_type": "code",
   "execution_count": 33,
   "id": "3d8c0484",
   "metadata": {
    "ExecuteTime": {
     "end_time": "2022-01-17T13:32:01.154806Z",
     "start_time": "2022-01-17T13:32:01.151112Z"
    }
   },
   "outputs": [],
   "source": [
    "pca_suggested_categorical_features = [\n",
    "    'credit_history', \n",
    "    'saving_accounts_or_bonds',\n",
    "    'other_installment_plans',\n",
    "    'housing',\n",
    "    'job'\n",
    "]\n",
    "\n",
    "pca_suggested_numerical_features = [\n",
    "    'duration_mth',\n",
    "    'installment_rate_percent',\n",
    "    'present_residence_since',\n",
    "    'monthly_affordability_amount'\n",
    "]"
   ]
  },
  {
   "cell_type": "markdown",
   "id": "7cdc8c92",
   "metadata": {},
   "source": [
    "# Model Selection (KMeans)"
   ]
  },
  {
   "cell_type": "code",
   "execution_count": 37,
   "id": "11aaab36",
   "metadata": {
    "ExecuteTime": {
     "end_time": "2022-01-17T13:32:57.247174Z",
     "start_time": "2022-01-17T13:32:57.240000Z"
    }
   },
   "outputs": [],
   "source": [
    "selected_features = pca_suggested_categorical_features + pca_suggested_numerical_features"
   ]
  },
  {
   "cell_type": "code",
   "execution_count": 38,
   "id": "e4838c31",
   "metadata": {
    "ExecuteTime": {
     "end_time": "2022-01-17T13:32:57.716091Z",
     "start_time": "2022-01-17T13:32:57.708558Z"
    }
   },
   "outputs": [
    {
     "data": {
      "text/plain": [
       "['credit_history',\n",
       " 'saving_accounts_or_bonds',\n",
       " 'other_installment_plans',\n",
       " 'housing',\n",
       " 'job',\n",
       " 'duration_mth',\n",
       " 'installment_rate_percent',\n",
       " 'present_residence_since',\n",
       " 'monthly_affordability_amount']"
      ]
     },
     "execution_count": 38,
     "metadata": {},
     "output_type": "execute_result"
    }
   ],
   "source": [
    "selected_features"
   ]
  },
  {
   "cell_type": "markdown",
   "id": "df840f47",
   "metadata": {},
   "source": [
    "## All"
   ]
  },
  {
   "cell_type": "code",
   "execution_count": 49,
   "id": "6c733a64",
   "metadata": {
    "ExecuteTime": {
     "end_time": "2022-01-17T13:36:14.468106Z",
     "start_time": "2022-01-17T13:36:14.462907Z"
    }
   },
   "outputs": [],
   "source": [
    "X_train1 = X_train.loc[:, selected_features]\n",
    "X_test1 = X_test.loc[:, selected_features]"
   ]
  },
  {
   "cell_type": "code",
   "execution_count": 45,
   "id": "09dd8971",
   "metadata": {
    "ExecuteTime": {
     "end_time": "2022-01-17T13:34:29.806098Z",
     "start_time": "2022-01-17T13:34:29.798610Z"
    }
   },
   "outputs": [
    {
     "name": "stdout",
     "output_type": "stream",
     "text": [
      "[0, 1, 2, 3, 4]\n"
     ]
    }
   ],
   "source": [
    "categorical_cols = X_train1.select_dtypes(object).columns.tolist()\n",
    "categorical_cols_boolean = [col in categorical_cols for col in X_train1.columns]\n",
    "categorical_cols_index = [i for i,x in enumerate(categorical_cols_boolean) if x]\n",
    "print(categorical_cols_index)"
   ]
  },
  {
   "cell_type": "markdown",
   "id": "590e38ea",
   "metadata": {},
   "source": [
    "### K=2"
   ]
  },
  {
   "cell_type": "code",
   "execution_count": 50,
   "id": "d77f338e",
   "metadata": {
    "ExecuteTime": {
     "end_time": "2022-01-17T13:36:18.884476Z",
     "start_time": "2022-01-17T13:36:16.650835Z"
    }
   },
   "outputs": [],
   "source": [
    "model = KPrototypes(\n",
    "    random_state=SEED,\n",
    "    n_jobs=-1,\n",
    "    n_clusters=2\n",
    ")\n",
    "\n",
    "model.fit(X_train1, categorical=categorical_cols_index)\n",
    "\n",
    "y_pred_train = pd.Series(model.predict(X_train1, categorical=categorical_cols_index), \n",
    "                         name='cluster')\n",
    "y_pred_test = pd.Series(model.predict(X_test1, categorical=categorical_cols_index), \n",
    "                        name='cluster')\n",
    "\n",
    "y_eval_train = pd.concat([y_train, y_pred_train], axis=1)\n",
    "y_eval_test = pd.concat([y_test, y_pred_test], axis=1)"
   ]
  },
  {
   "cell_type": "code",
   "execution_count": 51,
   "id": "9d0c25ff",
   "metadata": {
    "ExecuteTime": {
     "end_time": "2022-01-17T13:36:36.980500Z",
     "start_time": "2022-01-17T13:36:36.968148Z"
    }
   },
   "outputs": [
    {
     "data": {
      "text/plain": [
       "0    520\n",
       "1    458\n",
       "Name: cluster, dtype: int64"
      ]
     },
     "metadata": {},
     "output_type": "display_data"
    },
    {
     "data": {
      "text/plain": [
       "cluster  label\n",
       "0        1        0.548077\n",
       "         0        0.451923\n",
       "1        0        0.554585\n",
       "         1        0.445415\n",
       "Name: label, dtype: float64"
      ]
     },
     "metadata": {},
     "output_type": "display_data"
    }
   ],
   "source": [
    "display(\n",
    "    y_eval_train.cluster.value_counts(),\n",
    "    y_eval_train.groupby('cluster').label.value_counts(normalize=True)\n",
    ")"
   ]
  },
  {
   "cell_type": "code",
   "execution_count": 52,
   "id": "60e92399",
   "metadata": {
    "ExecuteTime": {
     "end_time": "2022-01-17T13:36:37.804135Z",
     "start_time": "2022-01-17T13:36:37.790751Z"
    }
   },
   "outputs": [
    {
     "data": {
      "text/plain": [
       "0    163\n",
       "1    137\n",
       "Name: cluster, dtype: int64"
      ]
     },
     "metadata": {},
     "output_type": "display_data"
    },
    {
     "data": {
      "text/plain": [
       "cluster  label\n",
       "0        0        0.693252\n",
       "         1        0.306748\n",
       "1        0        0.715328\n",
       "         1        0.284672\n",
       "Name: label, dtype: float64"
      ]
     },
     "metadata": {},
     "output_type": "display_data"
    }
   ],
   "source": [
    "display(\n",
    "    y_eval_test.cluster.value_counts(),\n",
    "    y_eval_test.groupby('cluster').label.value_counts(normalize=True)\n",
    ")"
   ]
  },
  {
   "cell_type": "markdown",
   "id": "91f3c24a",
   "metadata": {},
   "source": [
    "- cluster 0: Good Payer\n",
    "- cluster 1: Bad Payer"
   ]
  },
  {
   "cell_type": "markdown",
   "id": "c74a883b",
   "metadata": {},
   "source": [
    "### K=4"
   ]
  },
  {
   "cell_type": "code",
   "execution_count": 54,
   "id": "d207d414",
   "metadata": {
    "ExecuteTime": {
     "end_time": "2022-01-17T13:36:57.966380Z",
     "start_time": "2022-01-17T13:36:53.740976Z"
    }
   },
   "outputs": [],
   "source": [
    "model = KPrototypes(\n",
    "    random_state=SEED,\n",
    "    n_jobs=-1,\n",
    "    n_clusters=4\n",
    ")\n",
    "\n",
    "model.fit(X_train1, categorical=categorical_cols_index)\n",
    "\n",
    "y_pred_train = pd.Series(model.predict(X_train1, categorical=categorical_cols_index), \n",
    "                         name='cluster')\n",
    "y_pred_test = pd.Series(model.predict(X_test1, categorical=categorical_cols_index), \n",
    "                        name='cluster')\n",
    "\n",
    "y_eval_train = pd.concat([y_train, y_pred_train], axis=1)\n",
    "y_eval_test = pd.concat([y_test, y_pred_test], axis=1)"
   ]
  },
  {
   "cell_type": "code",
   "execution_count": 55,
   "id": "b1bb655a",
   "metadata": {
    "ExecuteTime": {
     "end_time": "2022-01-17T13:37:12.675104Z",
     "start_time": "2022-01-17T13:37:12.663980Z"
    }
   },
   "outputs": [
    {
     "data": {
      "text/plain": [
       "0    293\n",
       "2    248\n",
       "1    230\n",
       "3    207\n",
       "Name: cluster, dtype: int64"
      ]
     },
     "metadata": {},
     "output_type": "display_data"
    },
    {
     "data": {
      "text/plain": [
       "cluster  label\n",
       "0        1        0.532423\n",
       "         0        0.467577\n",
       "1        1        0.695652\n",
       "         0        0.304348\n",
       "2        0        0.741935\n",
       "         1        0.258065\n",
       "3        1        0.526570\n",
       "         0        0.473430\n",
       "Name: label, dtype: float64"
      ]
     },
     "metadata": {},
     "output_type": "display_data"
    }
   ],
   "source": [
    "display(\n",
    "    y_eval_train.cluster.value_counts(),\n",
    "    y_eval_train.groupby('cluster').label.value_counts(normalize=True)\n",
    ")"
   ]
  },
  {
   "cell_type": "code",
   "execution_count": 56,
   "id": "1f06179e",
   "metadata": {
    "ExecuteTime": {
     "end_time": "2022-01-17T13:37:13.729787Z",
     "start_time": "2022-01-17T13:37:13.716631Z"
    }
   },
   "outputs": [
    {
     "data": {
      "text/plain": [
       "2    96\n",
       "3    77\n",
       "0    74\n",
       "1    53\n",
       "Name: cluster, dtype: int64"
      ]
     },
     "metadata": {},
     "output_type": "display_data"
    },
    {
     "data": {
      "text/plain": [
       "cluster  label\n",
       "0        0        0.702703\n",
       "         1        0.297297\n",
       "1        0        0.641509\n",
       "         1        0.358491\n",
       "2        0        0.760417\n",
       "         1        0.239583\n",
       "3        0        0.675325\n",
       "         1        0.324675\n",
       "Name: label, dtype: float64"
      ]
     },
     "metadata": {},
     "output_type": "display_data"
    }
   ],
   "source": [
    "display(\n",
    "    y_eval_test.cluster.value_counts(),\n",
    "    y_eval_test.groupby('cluster').label.value_counts(normalize=True)\n",
    ")"
   ]
  },
  {
   "cell_type": "markdown",
   "id": "bbb56a32",
   "metadata": {},
   "source": [
    "Train Data Set\n",
    "- Cluster 0, 1, 3: bad payer\n",
    "- Cluster 2: bad payer\n",
    "\n",
    "Test Data Set\n",
    "- Cluster 0, 1, 2, 3 are good payer\n",
    "\n",
    "Finalize to use k = 3 for categorical variables"
   ]
  },
  {
   "cell_type": "markdown",
   "id": "c66a1244",
   "metadata": {},
   "source": [
    "## Cluster Analysis"
   ]
  },
  {
   "cell_type": "code",
   "execution_count": 96,
   "id": "21e7665d",
   "metadata": {
    "ExecuteTime": {
     "end_time": "2022-01-17T14:09:18.604762Z",
     "start_time": "2022-01-17T14:09:14.469570Z"
    }
   },
   "outputs": [],
   "source": [
    "model = KPrototypes(\n",
    "    random_state=SEED,\n",
    "    n_jobs=-1,\n",
    "    n_clusters=4\n",
    ")\n",
    "\n",
    "model.fit(X_train1, categorical=categorical_cols_index)\n",
    "\n",
    "y_pred_train = pd.Series(model.predict(X_train1, categorical=categorical_cols_index), \n",
    "                         name='cluster')\n",
    "y_pred_test = pd.Series(model.predict(X_test1, categorical=categorical_cols_index), \n",
    "                        name='cluster')"
   ]
  },
  {
   "cell_type": "code",
   "execution_count": 97,
   "id": "2dabbcca",
   "metadata": {
    "ExecuteTime": {
     "end_time": "2022-01-17T14:09:19.067578Z",
     "start_time": "2022-01-17T14:09:19.057412Z"
    }
   },
   "outputs": [],
   "source": [
    "df_train_analysis = pd.concat([df_train, y_pred_train], axis=1)\n",
    "df_test_analysis = pd.concat([df_test, y_pred_test], axis=1)"
   ]
  },
  {
   "cell_type": "code",
   "execution_count": 104,
   "id": "c1271747",
   "metadata": {
    "ExecuteTime": {
     "end_time": "2022-01-17T14:20:17.962927Z",
     "start_time": "2022-01-17T14:20:17.469116Z"
    }
   },
   "outputs": [
    {
     "name": "stdout",
     "output_type": "stream",
     "text": [
      "\n",
      "\n",
      "Cluster 0: 293\n"
     ]
    },
    {
     "data": {
      "text/html": [
       "<div>\n",
       "<style scoped>\n",
       "    .dataframe tbody tr th:only-of-type {\n",
       "        vertical-align: middle;\n",
       "    }\n",
       "\n",
       "    .dataframe tbody tr th {\n",
       "        vertical-align: top;\n",
       "    }\n",
       "\n",
       "    .dataframe thead th {\n",
       "        text-align: right;\n",
       "    }\n",
       "</style>\n",
       "<table border=\"1\" class=\"dataframe\">\n",
       "  <thead>\n",
       "    <tr style=\"text-align: right;\">\n",
       "      <th></th>\n",
       "      <th>credit_history</th>\n",
       "      <th>saving_accounts_or_bonds</th>\n",
       "      <th>other_installment_plans</th>\n",
       "      <th>housing</th>\n",
       "      <th>job</th>\n",
       "      <th>duration_mth</th>\n",
       "      <th>installment_rate_percent</th>\n",
       "      <th>present_residence_since</th>\n",
       "      <th>monthly_affordability_amount</th>\n",
       "    </tr>\n",
       "  </thead>\n",
       "  <tbody>\n",
       "    <tr>\n",
       "      <th>count</th>\n",
       "      <td>293</td>\n",
       "      <td>293</td>\n",
       "      <td>293</td>\n",
       "      <td>293</td>\n",
       "      <td>293</td>\n",
       "      <td>293.000000</td>\n",
       "      <td>293.000000</td>\n",
       "      <td>293.000000</td>\n",
       "      <td>293.000000</td>\n",
       "    </tr>\n",
       "    <tr>\n",
       "      <th>unique</th>\n",
       "      <td>5</td>\n",
       "      <td>5</td>\n",
       "      <td>3</td>\n",
       "      <td>3</td>\n",
       "      <td>4</td>\n",
       "      <td>NaN</td>\n",
       "      <td>NaN</td>\n",
       "      <td>NaN</td>\n",
       "      <td>NaN</td>\n",
       "    </tr>\n",
       "    <tr>\n",
       "      <th>top</th>\n",
       "      <td>A32</td>\n",
       "      <td>A61</td>\n",
       "      <td>A143</td>\n",
       "      <td>A152</td>\n",
       "      <td>A173</td>\n",
       "      <td>NaN</td>\n",
       "      <td>NaN</td>\n",
       "      <td>NaN</td>\n",
       "      <td>NaN</td>\n",
       "    </tr>\n",
       "    <tr>\n",
       "      <th>freq</th>\n",
       "      <td>211</td>\n",
       "      <td>223</td>\n",
       "      <td>260</td>\n",
       "      <td>266</td>\n",
       "      <td>222</td>\n",
       "      <td>NaN</td>\n",
       "      <td>NaN</td>\n",
       "      <td>NaN</td>\n",
       "      <td>NaN</td>\n",
       "    </tr>\n",
       "    <tr>\n",
       "      <th>mean</th>\n",
       "      <td>NaN</td>\n",
       "      <td>NaN</td>\n",
       "      <td>NaN</td>\n",
       "      <td>NaN</td>\n",
       "      <td>NaN</td>\n",
       "      <td>-0.105095</td>\n",
       "      <td>3.805461</td>\n",
       "      <td>1.825939</td>\n",
       "      <td>-0.206163</td>\n",
       "    </tr>\n",
       "    <tr>\n",
       "      <th>std</th>\n",
       "      <td>NaN</td>\n",
       "      <td>NaN</td>\n",
       "      <td>NaN</td>\n",
       "      <td>NaN</td>\n",
       "      <td>NaN</td>\n",
       "      <td>0.766983</td>\n",
       "      <td>0.413436</td>\n",
       "      <td>0.422496</td>\n",
       "      <td>0.789574</td>\n",
       "    </tr>\n",
       "    <tr>\n",
       "      <th>min</th>\n",
       "      <td>NaN</td>\n",
       "      <td>NaN</td>\n",
       "      <td>NaN</td>\n",
       "      <td>NaN</td>\n",
       "      <td>NaN</td>\n",
       "      <td>-1.865220</td>\n",
       "      <td>2.000000</td>\n",
       "      <td>1.000000</td>\n",
       "      <td>-2.813235</td>\n",
       "    </tr>\n",
       "    <tr>\n",
       "      <th>25%</th>\n",
       "      <td>NaN</td>\n",
       "      <td>NaN</td>\n",
       "      <td>NaN</td>\n",
       "      <td>NaN</td>\n",
       "      <td>NaN</td>\n",
       "      <td>-0.671355</td>\n",
       "      <td>4.000000</td>\n",
       "      <td>2.000000</td>\n",
       "      <td>-0.729960</td>\n",
       "    </tr>\n",
       "    <tr>\n",
       "      <th>50%</th>\n",
       "      <td>NaN</td>\n",
       "      <td>NaN</td>\n",
       "      <td>NaN</td>\n",
       "      <td>NaN</td>\n",
       "      <td>NaN</td>\n",
       "      <td>-0.093450</td>\n",
       "      <td>4.000000</td>\n",
       "      <td>2.000000</td>\n",
       "      <td>-0.188655</td>\n",
       "    </tr>\n",
       "    <tr>\n",
       "      <th>75%</th>\n",
       "      <td>NaN</td>\n",
       "      <td>NaN</td>\n",
       "      <td>NaN</td>\n",
       "      <td>NaN</td>\n",
       "      <td>NaN</td>\n",
       "      <td>0.522509</td>\n",
       "      <td>4.000000</td>\n",
       "      <td>2.000000</td>\n",
       "      <td>0.277823</td>\n",
       "    </tr>\n",
       "    <tr>\n",
       "      <th>max</th>\n",
       "      <td>NaN</td>\n",
       "      <td>NaN</td>\n",
       "      <td>NaN</td>\n",
       "      <td>NaN</td>\n",
       "      <td>NaN</td>\n",
       "      <td>1.716374</td>\n",
       "      <td>4.000000</td>\n",
       "      <td>3.000000</td>\n",
       "      <td>2.154433</td>\n",
       "    </tr>\n",
       "  </tbody>\n",
       "</table>\n",
       "</div>"
      ],
      "text/plain": [
       "       credit_history saving_accounts_or_bonds other_installment_plans  \\\n",
       "count             293                      293                     293   \n",
       "unique              5                        5                       3   \n",
       "top               A32                      A61                    A143   \n",
       "freq              211                      223                     260   \n",
       "mean              NaN                      NaN                     NaN   \n",
       "std               NaN                      NaN                     NaN   \n",
       "min               NaN                      NaN                     NaN   \n",
       "25%               NaN                      NaN                     NaN   \n",
       "50%               NaN                      NaN                     NaN   \n",
       "75%               NaN                      NaN                     NaN   \n",
       "max               NaN                      NaN                     NaN   \n",
       "\n",
       "       housing   job  duration_mth  installment_rate_percent  \\\n",
       "count      293   293    293.000000                293.000000   \n",
       "unique       3     4           NaN                       NaN   \n",
       "top       A152  A173           NaN                       NaN   \n",
       "freq       266   222           NaN                       NaN   \n",
       "mean       NaN   NaN     -0.105095                  3.805461   \n",
       "std        NaN   NaN      0.766983                  0.413436   \n",
       "min        NaN   NaN     -1.865220                  2.000000   \n",
       "25%        NaN   NaN     -0.671355                  4.000000   \n",
       "50%        NaN   NaN     -0.093450                  4.000000   \n",
       "75%        NaN   NaN      0.522509                  4.000000   \n",
       "max        NaN   NaN      1.716374                  4.000000   \n",
       "\n",
       "        present_residence_since  monthly_affordability_amount  \n",
       "count                293.000000                    293.000000  \n",
       "unique                      NaN                           NaN  \n",
       "top                         NaN                           NaN  \n",
       "freq                        NaN                           NaN  \n",
       "mean                   1.825939                     -0.206163  \n",
       "std                    0.422496                      0.789574  \n",
       "min                    1.000000                     -2.813235  \n",
       "25%                    2.000000                     -0.729960  \n",
       "50%                    2.000000                     -0.188655  \n",
       "75%                    2.000000                      0.277823  \n",
       "max                    3.000000                      2.154433  "
      ]
     },
     "metadata": {},
     "output_type": "display_data"
    },
    {
     "name": "stdout",
     "output_type": "stream",
     "text": [
      "\n",
      "\n",
      "Cluster 1: 230\n"
     ]
    },
    {
     "data": {
      "text/html": [
       "<div>\n",
       "<style scoped>\n",
       "    .dataframe tbody tr th:only-of-type {\n",
       "        vertical-align: middle;\n",
       "    }\n",
       "\n",
       "    .dataframe tbody tr th {\n",
       "        vertical-align: top;\n",
       "    }\n",
       "\n",
       "    .dataframe thead th {\n",
       "        text-align: right;\n",
       "    }\n",
       "</style>\n",
       "<table border=\"1\" class=\"dataframe\">\n",
       "  <thead>\n",
       "    <tr style=\"text-align: right;\">\n",
       "      <th></th>\n",
       "      <th>credit_history</th>\n",
       "      <th>saving_accounts_or_bonds</th>\n",
       "      <th>other_installment_plans</th>\n",
       "      <th>housing</th>\n",
       "      <th>job</th>\n",
       "      <th>duration_mth</th>\n",
       "      <th>installment_rate_percent</th>\n",
       "      <th>present_residence_since</th>\n",
       "      <th>monthly_affordability_amount</th>\n",
       "    </tr>\n",
       "  </thead>\n",
       "  <tbody>\n",
       "    <tr>\n",
       "      <th>count</th>\n",
       "      <td>230</td>\n",
       "      <td>230</td>\n",
       "      <td>230</td>\n",
       "      <td>230</td>\n",
       "      <td>230</td>\n",
       "      <td>230.000000</td>\n",
       "      <td>230.000000</td>\n",
       "      <td>230.00000</td>\n",
       "      <td>230.000000</td>\n",
       "    </tr>\n",
       "    <tr>\n",
       "      <th>unique</th>\n",
       "      <td>5</td>\n",
       "      <td>5</td>\n",
       "      <td>3</td>\n",
       "      <td>3</td>\n",
       "      <td>4</td>\n",
       "      <td>NaN</td>\n",
       "      <td>NaN</td>\n",
       "      <td>NaN</td>\n",
       "      <td>NaN</td>\n",
       "    </tr>\n",
       "    <tr>\n",
       "      <th>top</th>\n",
       "      <td>A32</td>\n",
       "      <td>A61</td>\n",
       "      <td>A143</td>\n",
       "      <td>A152</td>\n",
       "      <td>A173</td>\n",
       "      <td>NaN</td>\n",
       "      <td>NaN</td>\n",
       "      <td>NaN</td>\n",
       "      <td>NaN</td>\n",
       "    </tr>\n",
       "    <tr>\n",
       "      <th>freq</th>\n",
       "      <td>165</td>\n",
       "      <td>179</td>\n",
       "      <td>210</td>\n",
       "      <td>177</td>\n",
       "      <td>184</td>\n",
       "      <td>NaN</td>\n",
       "      <td>NaN</td>\n",
       "      <td>NaN</td>\n",
       "      <td>NaN</td>\n",
       "    </tr>\n",
       "    <tr>\n",
       "      <th>mean</th>\n",
       "      <td>NaN</td>\n",
       "      <td>NaN</td>\n",
       "      <td>NaN</td>\n",
       "      <td>NaN</td>\n",
       "      <td>NaN</td>\n",
       "      <td>0.931473</td>\n",
       "      <td>3.752174</td>\n",
       "      <td>3.83913</td>\n",
       "      <td>0.631522</td>\n",
       "    </tr>\n",
       "    <tr>\n",
       "      <th>std</th>\n",
       "      <td>NaN</td>\n",
       "      <td>NaN</td>\n",
       "      <td>NaN</td>\n",
       "      <td>NaN</td>\n",
       "      <td>NaN</td>\n",
       "      <td>0.645785</td>\n",
       "      <td>0.532252</td>\n",
       "      <td>0.48130</td>\n",
       "      <td>0.756763</td>\n",
       "    </tr>\n",
       "    <tr>\n",
       "      <th>min</th>\n",
       "      <td>NaN</td>\n",
       "      <td>NaN</td>\n",
       "      <td>NaN</td>\n",
       "      <td>NaN</td>\n",
       "      <td>NaN</td>\n",
       "      <td>-1.819211</td>\n",
       "      <td>2.000000</td>\n",
       "      <td>2.00000</td>\n",
       "      <td>-0.620362</td>\n",
       "    </tr>\n",
       "    <tr>\n",
       "      <th>25%</th>\n",
       "      <td>NaN</td>\n",
       "      <td>NaN</td>\n",
       "      <td>NaN</td>\n",
       "      <td>NaN</td>\n",
       "      <td>NaN</td>\n",
       "      <td>0.522509</td>\n",
       "      <td>4.000000</td>\n",
       "      <td>4.00000</td>\n",
       "      <td>0.065506</td>\n",
       "    </tr>\n",
       "    <tr>\n",
       "      <th>50%</th>\n",
       "      <td>NaN</td>\n",
       "      <td>NaN</td>\n",
       "      <td>NaN</td>\n",
       "      <td>NaN</td>\n",
       "      <td>NaN</td>\n",
       "      <td>0.922890</td>\n",
       "      <td>4.000000</td>\n",
       "      <td>4.00000</td>\n",
       "      <td>0.540777</td>\n",
       "    </tr>\n",
       "    <tr>\n",
       "      <th>75%</th>\n",
       "      <td>NaN</td>\n",
       "      <td>NaN</td>\n",
       "      <td>NaN</td>\n",
       "      <td>NaN</td>\n",
       "      <td>NaN</td>\n",
       "      <td>1.454626</td>\n",
       "      <td>4.000000</td>\n",
       "      <td>4.00000</td>\n",
       "      <td>1.094994</td>\n",
       "    </tr>\n",
       "    <tr>\n",
       "      <th>max</th>\n",
       "      <td>NaN</td>\n",
       "      <td>NaN</td>\n",
       "      <td>NaN</td>\n",
       "      <td>NaN</td>\n",
       "      <td>NaN</td>\n",
       "      <td>2.100712</td>\n",
       "      <td>4.000000</td>\n",
       "      <td>4.00000</td>\n",
       "      <td>2.793302</td>\n",
       "    </tr>\n",
       "  </tbody>\n",
       "</table>\n",
       "</div>"
      ],
      "text/plain": [
       "       credit_history saving_accounts_or_bonds other_installment_plans  \\\n",
       "count             230                      230                     230   \n",
       "unique              5                        5                       3   \n",
       "top               A32                      A61                    A143   \n",
       "freq              165                      179                     210   \n",
       "mean              NaN                      NaN                     NaN   \n",
       "std               NaN                      NaN                     NaN   \n",
       "min               NaN                      NaN                     NaN   \n",
       "25%               NaN                      NaN                     NaN   \n",
       "50%               NaN                      NaN                     NaN   \n",
       "75%               NaN                      NaN                     NaN   \n",
       "max               NaN                      NaN                     NaN   \n",
       "\n",
       "       housing   job  duration_mth  installment_rate_percent  \\\n",
       "count      230   230    230.000000                230.000000   \n",
       "unique       3     4           NaN                       NaN   \n",
       "top       A152  A173           NaN                       NaN   \n",
       "freq       177   184           NaN                       NaN   \n",
       "mean       NaN   NaN      0.931473                  3.752174   \n",
       "std        NaN   NaN      0.645785                  0.532252   \n",
       "min        NaN   NaN     -1.819211                  2.000000   \n",
       "25%        NaN   NaN      0.522509                  4.000000   \n",
       "50%        NaN   NaN      0.922890                  4.000000   \n",
       "75%        NaN   NaN      1.454626                  4.000000   \n",
       "max        NaN   NaN      2.100712                  4.000000   \n",
       "\n",
       "        present_residence_since  monthly_affordability_amount  \n",
       "count                 230.00000                    230.000000  \n",
       "unique                      NaN                           NaN  \n",
       "top                         NaN                           NaN  \n",
       "freq                        NaN                           NaN  \n",
       "mean                    3.83913                      0.631522  \n",
       "std                     0.48130                      0.756763  \n",
       "min                     2.00000                     -0.620362  \n",
       "25%                     4.00000                      0.065506  \n",
       "50%                     4.00000                      0.540777  \n",
       "75%                     4.00000                      1.094994  \n",
       "max                     4.00000                      2.793302  "
      ]
     },
     "metadata": {},
     "output_type": "display_data"
    },
    {
     "name": "stdout",
     "output_type": "stream",
     "text": [
      "\n",
      "\n",
      "Cluster 2: 248\n"
     ]
    },
    {
     "data": {
      "text/html": [
       "<div>\n",
       "<style scoped>\n",
       "    .dataframe tbody tr th:only-of-type {\n",
       "        vertical-align: middle;\n",
       "    }\n",
       "\n",
       "    .dataframe tbody tr th {\n",
       "        vertical-align: top;\n",
       "    }\n",
       "\n",
       "    .dataframe thead th {\n",
       "        text-align: right;\n",
       "    }\n",
       "</style>\n",
       "<table border=\"1\" class=\"dataframe\">\n",
       "  <thead>\n",
       "    <tr style=\"text-align: right;\">\n",
       "      <th></th>\n",
       "      <th>credit_history</th>\n",
       "      <th>saving_accounts_or_bonds</th>\n",
       "      <th>other_installment_plans</th>\n",
       "      <th>housing</th>\n",
       "      <th>job</th>\n",
       "      <th>duration_mth</th>\n",
       "      <th>installment_rate_percent</th>\n",
       "      <th>present_residence_since</th>\n",
       "      <th>monthly_affordability_amount</th>\n",
       "    </tr>\n",
       "  </thead>\n",
       "  <tbody>\n",
       "    <tr>\n",
       "      <th>count</th>\n",
       "      <td>248</td>\n",
       "      <td>248</td>\n",
       "      <td>248</td>\n",
       "      <td>248</td>\n",
       "      <td>248</td>\n",
       "      <td>248.000000</td>\n",
       "      <td>248.000000</td>\n",
       "      <td>248.000000</td>\n",
       "      <td>248.000000</td>\n",
       "    </tr>\n",
       "    <tr>\n",
       "      <th>unique</th>\n",
       "      <td>5</td>\n",
       "      <td>5</td>\n",
       "      <td>3</td>\n",
       "      <td>3</td>\n",
       "      <td>4</td>\n",
       "      <td>NaN</td>\n",
       "      <td>NaN</td>\n",
       "      <td>NaN</td>\n",
       "      <td>NaN</td>\n",
       "    </tr>\n",
       "    <tr>\n",
       "      <th>top</th>\n",
       "      <td>A32</td>\n",
       "      <td>A61</td>\n",
       "      <td>A143</td>\n",
       "      <td>A152</td>\n",
       "      <td>A173</td>\n",
       "      <td>NaN</td>\n",
       "      <td>NaN</td>\n",
       "      <td>NaN</td>\n",
       "      <td>NaN</td>\n",
       "    </tr>\n",
       "    <tr>\n",
       "      <th>freq</th>\n",
       "      <td>129</td>\n",
       "      <td>152</td>\n",
       "      <td>207</td>\n",
       "      <td>174</td>\n",
       "      <td>151</td>\n",
       "      <td>NaN</td>\n",
       "      <td>NaN</td>\n",
       "      <td>NaN</td>\n",
       "      <td>NaN</td>\n",
       "    </tr>\n",
       "    <tr>\n",
       "      <th>mean</th>\n",
       "      <td>NaN</td>\n",
       "      <td>NaN</td>\n",
       "      <td>NaN</td>\n",
       "      <td>NaN</td>\n",
       "      <td>NaN</td>\n",
       "      <td>-0.257118</td>\n",
       "      <td>1.629032</td>\n",
       "      <td>2.693548</td>\n",
       "      <td>0.326787</td>\n",
       "    </tr>\n",
       "    <tr>\n",
       "      <th>std</th>\n",
       "      <td>NaN</td>\n",
       "      <td>NaN</td>\n",
       "      <td>NaN</td>\n",
       "      <td>NaN</td>\n",
       "      <td>NaN</td>\n",
       "      <td>1.100156</td>\n",
       "      <td>0.500490</td>\n",
       "      <td>1.117961</td>\n",
       "      <td>0.936065</td>\n",
       "    </tr>\n",
       "    <tr>\n",
       "      <th>min</th>\n",
       "      <td>NaN</td>\n",
       "      <td>NaN</td>\n",
       "      <td>NaN</td>\n",
       "      <td>NaN</td>\n",
       "      <td>NaN</td>\n",
       "      <td>-2.563586</td>\n",
       "      <td>1.000000</td>\n",
       "      <td>1.000000</td>\n",
       "      <td>-2.625385</td>\n",
       "    </tr>\n",
       "    <tr>\n",
       "      <th>25%</th>\n",
       "      <td>NaN</td>\n",
       "      <td>NaN</td>\n",
       "      <td>NaN</td>\n",
       "      <td>NaN</td>\n",
       "      <td>NaN</td>\n",
       "      <td>-0.985383</td>\n",
       "      <td>1.000000</td>\n",
       "      <td>2.000000</td>\n",
       "      <td>-0.259741</td>\n",
       "    </tr>\n",
       "    <tr>\n",
       "      <th>50%</th>\n",
       "      <td>NaN</td>\n",
       "      <td>NaN</td>\n",
       "      <td>NaN</td>\n",
       "      <td>NaN</td>\n",
       "      <td>NaN</td>\n",
       "      <td>-0.287017</td>\n",
       "      <td>2.000000</td>\n",
       "      <td>3.000000</td>\n",
       "      <td>0.272498</td>\n",
       "    </tr>\n",
       "    <tr>\n",
       "      <th>75%</th>\n",
       "      <td>NaN</td>\n",
       "      <td>NaN</td>\n",
       "      <td>NaN</td>\n",
       "      <td>NaN</td>\n",
       "      <td>NaN</td>\n",
       "      <td>0.522509</td>\n",
       "      <td>2.000000</td>\n",
       "      <td>4.000000</td>\n",
       "      <td>0.884504</td>\n",
       "    </tr>\n",
       "    <tr>\n",
       "      <th>max</th>\n",
       "      <td>NaN</td>\n",
       "      <td>NaN</td>\n",
       "      <td>NaN</td>\n",
       "      <td>NaN</td>\n",
       "      <td>NaN</td>\n",
       "      <td>2.100712</td>\n",
       "      <td>3.000000</td>\n",
       "      <td>4.000000</td>\n",
       "      <td>4.267346</td>\n",
       "    </tr>\n",
       "  </tbody>\n",
       "</table>\n",
       "</div>"
      ],
      "text/plain": [
       "       credit_history saving_accounts_or_bonds other_installment_plans  \\\n",
       "count             248                      248                     248   \n",
       "unique              5                        5                       3   \n",
       "top               A32                      A61                    A143   \n",
       "freq              129                      152                     207   \n",
       "mean              NaN                      NaN                     NaN   \n",
       "std               NaN                      NaN                     NaN   \n",
       "min               NaN                      NaN                     NaN   \n",
       "25%               NaN                      NaN                     NaN   \n",
       "50%               NaN                      NaN                     NaN   \n",
       "75%               NaN                      NaN                     NaN   \n",
       "max               NaN                      NaN                     NaN   \n",
       "\n",
       "       housing   job  duration_mth  installment_rate_percent  \\\n",
       "count      248   248    248.000000                248.000000   \n",
       "unique       3     4           NaN                       NaN   \n",
       "top       A152  A173           NaN                       NaN   \n",
       "freq       174   151           NaN                       NaN   \n",
       "mean       NaN   NaN     -0.257118                  1.629032   \n",
       "std        NaN   NaN      1.100156                  0.500490   \n",
       "min        NaN   NaN     -2.563586                  1.000000   \n",
       "25%        NaN   NaN     -0.985383                  1.000000   \n",
       "50%        NaN   NaN     -0.287017                  2.000000   \n",
       "75%        NaN   NaN      0.522509                  2.000000   \n",
       "max        NaN   NaN      2.100712                  3.000000   \n",
       "\n",
       "        present_residence_since  monthly_affordability_amount  \n",
       "count                248.000000                    248.000000  \n",
       "unique                      NaN                           NaN  \n",
       "top                         NaN                           NaN  \n",
       "freq                        NaN                           NaN  \n",
       "mean                   2.693548                      0.326787  \n",
       "std                    1.117961                      0.936065  \n",
       "min                    1.000000                     -2.625385  \n",
       "25%                    2.000000                     -0.259741  \n",
       "50%                    3.000000                      0.272498  \n",
       "75%                    4.000000                      0.884504  \n",
       "max                    4.000000                      4.267346  "
      ]
     },
     "metadata": {},
     "output_type": "display_data"
    },
    {
     "name": "stdout",
     "output_type": "stream",
     "text": [
      "\n",
      "\n",
      "Cluster 3: 207\n"
     ]
    },
    {
     "data": {
      "text/html": [
       "<div>\n",
       "<style scoped>\n",
       "    .dataframe tbody tr th:only-of-type {\n",
       "        vertical-align: middle;\n",
       "    }\n",
       "\n",
       "    .dataframe tbody tr th {\n",
       "        vertical-align: top;\n",
       "    }\n",
       "\n",
       "    .dataframe thead th {\n",
       "        text-align: right;\n",
       "    }\n",
       "</style>\n",
       "<table border=\"1\" class=\"dataframe\">\n",
       "  <thead>\n",
       "    <tr style=\"text-align: right;\">\n",
       "      <th></th>\n",
       "      <th>credit_history</th>\n",
       "      <th>saving_accounts_or_bonds</th>\n",
       "      <th>other_installment_plans</th>\n",
       "      <th>housing</th>\n",
       "      <th>job</th>\n",
       "      <th>duration_mth</th>\n",
       "      <th>installment_rate_percent</th>\n",
       "      <th>present_residence_since</th>\n",
       "      <th>monthly_affordability_amount</th>\n",
       "    </tr>\n",
       "  </thead>\n",
       "  <tbody>\n",
       "    <tr>\n",
       "      <th>count</th>\n",
       "      <td>207</td>\n",
       "      <td>207</td>\n",
       "      <td>207</td>\n",
       "      <td>207</td>\n",
       "      <td>207</td>\n",
       "      <td>207.000000</td>\n",
       "      <td>207.000000</td>\n",
       "      <td>207.000000</td>\n",
       "      <td>207.000000</td>\n",
       "    </tr>\n",
       "    <tr>\n",
       "      <th>unique</th>\n",
       "      <td>5</td>\n",
       "      <td>5</td>\n",
       "      <td>3</td>\n",
       "      <td>3</td>\n",
       "      <td>4</td>\n",
       "      <td>NaN</td>\n",
       "      <td>NaN</td>\n",
       "      <td>NaN</td>\n",
       "      <td>NaN</td>\n",
       "    </tr>\n",
       "    <tr>\n",
       "      <th>top</th>\n",
       "      <td>A32</td>\n",
       "      <td>A61</td>\n",
       "      <td>A143</td>\n",
       "      <td>A152</td>\n",
       "      <td>A173</td>\n",
       "      <td>NaN</td>\n",
       "      <td>NaN</td>\n",
       "      <td>NaN</td>\n",
       "      <td>NaN</td>\n",
       "    </tr>\n",
       "    <tr>\n",
       "      <th>freq</th>\n",
       "      <td>138</td>\n",
       "      <td>148</td>\n",
       "      <td>181</td>\n",
       "      <td>163</td>\n",
       "      <td>160</td>\n",
       "      <td>NaN</td>\n",
       "      <td>NaN</td>\n",
       "      <td>NaN</td>\n",
       "      <td>NaN</td>\n",
       "    </tr>\n",
       "    <tr>\n",
       "      <th>mean</th>\n",
       "      <td>NaN</td>\n",
       "      <td>NaN</td>\n",
       "      <td>NaN</td>\n",
       "      <td>NaN</td>\n",
       "      <td>NaN</td>\n",
       "      <td>-0.194967</td>\n",
       "      <td>3.879227</td>\n",
       "      <td>3.845411</td>\n",
       "      <td>-0.881259</td>\n",
       "    </tr>\n",
       "    <tr>\n",
       "      <th>std</th>\n",
       "      <td>NaN</td>\n",
       "      <td>NaN</td>\n",
       "      <td>NaN</td>\n",
       "      <td>NaN</td>\n",
       "      <td>NaN</td>\n",
       "      <td>0.693773</td>\n",
       "      <td>0.368549</td>\n",
       "      <td>0.362389</td>\n",
       "      <td>0.613097</td>\n",
       "    </tr>\n",
       "    <tr>\n",
       "      <th>min</th>\n",
       "      <td>NaN</td>\n",
       "      <td>NaN</td>\n",
       "      <td>NaN</td>\n",
       "      <td>NaN</td>\n",
       "      <td>NaN</td>\n",
       "      <td>-1.865220</td>\n",
       "      <td>2.000000</td>\n",
       "      <td>3.000000</td>\n",
       "      <td>-2.817465</td>\n",
       "    </tr>\n",
       "    <tr>\n",
       "      <th>25%</th>\n",
       "      <td>NaN</td>\n",
       "      <td>NaN</td>\n",
       "      <td>NaN</td>\n",
       "      <td>NaN</td>\n",
       "      <td>NaN</td>\n",
       "      <td>-0.671355</td>\n",
       "      <td>4.000000</td>\n",
       "      <td>4.000000</td>\n",
       "      <td>-1.239004</td>\n",
       "    </tr>\n",
       "    <tr>\n",
       "      <th>50%</th>\n",
       "      <td>NaN</td>\n",
       "      <td>NaN</td>\n",
       "      <td>NaN</td>\n",
       "      <td>NaN</td>\n",
       "      <td>NaN</td>\n",
       "      <td>-0.064440</td>\n",
       "      <td>4.000000</td>\n",
       "      <td>4.000000</td>\n",
       "      <td>-0.875525</td>\n",
       "    </tr>\n",
       "    <tr>\n",
       "      <th>75%</th>\n",
       "      <td>NaN</td>\n",
       "      <td>NaN</td>\n",
       "      <td>NaN</td>\n",
       "      <td>NaN</td>\n",
       "      <td>NaN</td>\n",
       "      <td>0.427851</td>\n",
       "      <td>4.000000</td>\n",
       "      <td>4.000000</td>\n",
       "      <td>-0.449454</td>\n",
       "    </tr>\n",
       "    <tr>\n",
       "      <th>max</th>\n",
       "      <td>NaN</td>\n",
       "      <td>NaN</td>\n",
       "      <td>NaN</td>\n",
       "      <td>NaN</td>\n",
       "      <td>NaN</td>\n",
       "      <td>1.252167</td>\n",
       "      <td>4.000000</td>\n",
       "      <td>4.000000</td>\n",
       "      <td>0.990073</td>\n",
       "    </tr>\n",
       "  </tbody>\n",
       "</table>\n",
       "</div>"
      ],
      "text/plain": [
       "       credit_history saving_accounts_or_bonds other_installment_plans  \\\n",
       "count             207                      207                     207   \n",
       "unique              5                        5                       3   \n",
       "top               A32                      A61                    A143   \n",
       "freq              138                      148                     181   \n",
       "mean              NaN                      NaN                     NaN   \n",
       "std               NaN                      NaN                     NaN   \n",
       "min               NaN                      NaN                     NaN   \n",
       "25%               NaN                      NaN                     NaN   \n",
       "50%               NaN                      NaN                     NaN   \n",
       "75%               NaN                      NaN                     NaN   \n",
       "max               NaN                      NaN                     NaN   \n",
       "\n",
       "       housing   job  duration_mth  installment_rate_percent  \\\n",
       "count      207   207    207.000000                207.000000   \n",
       "unique       3     4           NaN                       NaN   \n",
       "top       A152  A173           NaN                       NaN   \n",
       "freq       163   160           NaN                       NaN   \n",
       "mean       NaN   NaN     -0.194967                  3.879227   \n",
       "std        NaN   NaN      0.693773                  0.368549   \n",
       "min        NaN   NaN     -1.865220                  2.000000   \n",
       "25%        NaN   NaN     -0.671355                  4.000000   \n",
       "50%        NaN   NaN     -0.064440                  4.000000   \n",
       "75%        NaN   NaN      0.427851                  4.000000   \n",
       "max        NaN   NaN      1.252167                  4.000000   \n",
       "\n",
       "        present_residence_since  monthly_affordability_amount  \n",
       "count                207.000000                    207.000000  \n",
       "unique                      NaN                           NaN  \n",
       "top                         NaN                           NaN  \n",
       "freq                        NaN                           NaN  \n",
       "mean                   3.845411                     -0.881259  \n",
       "std                    0.362389                      0.613097  \n",
       "min                    3.000000                     -2.817465  \n",
       "25%                    4.000000                     -1.239004  \n",
       "50%                    4.000000                     -0.875525  \n",
       "75%                    4.000000                     -0.449454  \n",
       "max                    4.000000                      0.990073  "
      ]
     },
     "metadata": {},
     "output_type": "display_data"
    }
   ],
   "source": [
    "for cluster in sorted(y_pred_train.unique()):\n",
    "    mask = df_train_analysis.cluster == cluster\n",
    "    print('\\n')\n",
    "    print(f'Cluster {cluster}: {mask.sum()}')\n",
    "    display(\n",
    "        df_train_analysis.loc[mask, :].describe(include='all')[pca_suggested_categorical_features+pca_suggested_numerical_features],\n",
    "    )"
   ]
  },
  {
   "cell_type": "code",
   "execution_count": null,
   "id": "65bd0bcf",
   "metadata": {},
   "outputs": [],
   "source": []
  }
 ],
 "metadata": {
  "kernelspec": {
   "display_name": "research",
   "language": "python",
   "name": "research"
  },
  "language_info": {
   "codemirror_mode": {
    "name": "ipython",
    "version": 3
   },
   "file_extension": ".py",
   "mimetype": "text/x-python",
   "name": "python",
   "nbconvert_exporter": "python",
   "pygments_lexer": "ipython3",
   "version": "3.9.7"
  },
  "toc": {
   "base_numbering": 1,
   "nav_menu": {},
   "number_sections": true,
   "sideBar": true,
   "skip_h1_title": false,
   "title_cell": "Table of Contents",
   "title_sidebar": "Contents",
   "toc_cell": false,
   "toc_position": {
    "height": "calc(100% - 180px)",
    "left": "10px",
    "top": "150px",
    "width": "314.333px"
   },
   "toc_section_display": true,
   "toc_window_display": true
  },
  "varInspector": {
   "cols": {
    "lenName": 16,
    "lenType": 16,
    "lenVar": 40
   },
   "kernels_config": {
    "python": {
     "delete_cmd_postfix": "",
     "delete_cmd_prefix": "del ",
     "library": "var_list.py",
     "varRefreshCmd": "print(var_dic_list())"
    },
    "r": {
     "delete_cmd_postfix": ") ",
     "delete_cmd_prefix": "rm(",
     "library": "var_list.r",
     "varRefreshCmd": "cat(var_dic_list()) "
    }
   },
   "types_to_exclude": [
    "module",
    "function",
    "builtin_function_or_method",
    "instance",
    "_Feature"
   ],
   "window_display": false
  }
 },
 "nbformat": 4,
 "nbformat_minor": 5
}
