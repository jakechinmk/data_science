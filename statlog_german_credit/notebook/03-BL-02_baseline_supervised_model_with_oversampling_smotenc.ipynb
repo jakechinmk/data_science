{
 "cells": [
  {
   "cell_type": "markdown",
   "id": "67cb1a14",
   "metadata": {},
   "source": [
    "# Setup"
   ]
  },
  {
   "cell_type": "markdown",
   "id": "d656c99b",
   "metadata": {},
   "source": [
    "## Import Libraries"
   ]
  },
  {
   "cell_type": "code",
   "execution_count": 1,
   "id": "5d4ffa84",
   "metadata": {
    "ExecuteTime": {
     "end_time": "2022-01-14T13:42:57.528837Z",
     "start_time": "2022-01-14T13:42:56.795524Z"
    }
   },
   "outputs": [],
   "source": [
    "import numpy as np\n",
    "import pandas as pd\n",
    "\n",
    "import os\n",
    "\n",
    "from imblearn.combine import SMOTEENN\n",
    "from imblearn.over_sampling import SMOTENC\n",
    "from imblearn.under_sampling import EditedNearestNeighbours\n",
    "\n",
    "from sklearn.linear_model import LogisticRegression\n",
    "from sklearn.tree import DecisionTreeClassifier\n",
    "from sklearn.svm import SVC\n",
    "\n",
    "from sklearn.metrics import classification_report, roc_auc_score\n",
    "from sklearn.model_selection import cross_val_score, RepeatedStratifiedKFold\n",
    "from sklearn.model_selection import train_test_split"
   ]
  },
  {
   "cell_type": "markdown",
   "id": "a40c8081",
   "metadata": {},
   "source": [
    "## Global Configuration"
   ]
  },
  {
   "cell_type": "code",
   "execution_count": 2,
   "id": "654b8630",
   "metadata": {
    "ExecuteTime": {
     "end_time": "2022-01-14T13:42:57.533109Z",
     "start_time": "2022-01-14T13:42:57.530255Z"
    }
   },
   "outputs": [],
   "source": [
    "INPUT_DIR = '../data/input/'\n",
    "INPUT_PATH = f'{INPUT_DIR}german_data.csv'\n",
    "OUTPUT_DIR = INPUT_DIR\n",
    "EDA_DIR = '../data/EDA/'\n",
    "PIPELINE_DIR = '../data/pipeline/'\n",
    "OUTPUT = False\n",
    "SEED = 888"
   ]
  },
  {
   "cell_type": "code",
   "execution_count": 3,
   "id": "c50b3469",
   "metadata": {
    "ExecuteTime": {
     "end_time": "2022-01-14T13:42:57.537783Z",
     "start_time": "2022-01-14T13:42:57.535059Z"
    }
   },
   "outputs": [],
   "source": [
    "pd.options.display.max_columns = None"
   ]
  },
  {
   "cell_type": "markdown",
   "id": "a40c7612",
   "metadata": {},
   "source": [
    "## Global Function"
   ]
  },
  {
   "cell_type": "code",
   "execution_count": 4,
   "id": "1b03a57c",
   "metadata": {
    "ExecuteTime": {
     "end_time": "2022-01-14T13:42:57.544195Z",
     "start_time": "2022-01-14T13:42:57.539261Z"
    }
   },
   "outputs": [],
   "source": [
    "def display_scores(title, scores, y_test, y_pred):\n",
    "    print(f'Model: {title}')\n",
    "    print('Cross Validation Performance')\n",
    "    print(f'CV Mean ROC AUC: {np.mean(scores):.4f}')\n",
    "    print(f'CV Variance ROC AUC: {np.var(scores):.4f}')\n",
    "    print('\\n')\n",
    "\n",
    "    print('Test Performance')\n",
    "    print(f'Test AUC: {roc_auc_score(y_test, y_pred ):.4f}')\n",
    "    print('\\n')\n",
    "    print(classification_report(y_test, y_pred))\n",
    "\n",
    "\n",
    "def display_model_scores(model, X_train, y_train, X_test, y_test, title):\n",
    "    cv = RepeatedStratifiedKFold(n_splits=10,\n",
    "                                 n_repeats=5,\n",
    "                                 random_state=SEED\n",
    "                                 )\n",
    "    scores = cross_val_score(model, X_train, y_train,\n",
    "                             scoring='roc_auc', cv=cv, n_jobs=-1\n",
    "                             )\n",
    "    model.fit(X_train, y_train)\n",
    "    y_pred = model.predict(X_test)\n",
    "    display_scores(title, scores, y_test, y_pred)"
   ]
  },
  {
   "cell_type": "markdown",
   "id": "bc08223a",
   "metadata": {},
   "source": [
    "# Data"
   ]
  },
  {
   "cell_type": "code",
   "execution_count": 5,
   "id": "3a0520f5",
   "metadata": {
    "ExecuteTime": {
     "end_time": "2022-01-14T13:42:57.559353Z",
     "start_time": "2022-01-14T13:42:57.546168Z"
    }
   },
   "outputs": [],
   "source": [
    "df = pd.read_csv(INPUT_PATH)\n",
    "\n",
    "cols = ['label', 'foreign_worker']\n",
    "X = df.drop(cols, axis=1)\n",
    "y = df.label\n",
    "\n",
    "X_train, X_test, y_train, y_test = train_test_split(X, y,\n",
    "                                                    test_size=0.30,\n",
    "                                                    random_state=SEED\n",
    "                                                   )"
   ]
  },
  {
   "cell_type": "code",
   "execution_count": 6,
   "id": "498eb5e5",
   "metadata": {
    "ExecuteTime": {
     "end_time": "2022-01-14T13:42:57.566677Z",
     "start_time": "2022-01-14T13:42:57.561115Z"
    }
   },
   "outputs": [
    {
     "name": "stdout",
     "output_type": "stream",
     "text": [
      "Categorical Columns: ['existing_checking_account_status', 'credit_history', 'purpose', 'saving_accounts_or_bonds', 'present_employment_since', 'personal_status_sex', 'other_debtors_or_guarantors', 'property', 'other_installment_plans', 'housing', 'job', 'telephone']\n",
      "\n",
      "\n",
      "Numerical Columns: ['duration_mth', 'credit_amount', 'installment_rate_percent', 'present_residence_since', 'age_years', 'no_of_existing_credits', 'no_of_ppl_liable', 'monthly_affordability_amount']\n"
     ]
    }
   ],
   "source": [
    "categorical_cols = X_train.select_dtypes(object).columns.tolist()\n",
    "numerical_cols = [col for col in X_train if col not in categorical_cols]\n",
    "categorical_cols_index = [col in categorical_cols for col in X_train.columns]\n",
    "print(f'Categorical Columns: {categorical_cols}')\n",
    "print('\\n')\n",
    "print(f'Numerical Columns: {numerical_cols}')"
   ]
  },
  {
   "cell_type": "markdown",
   "id": "e4a7a08f",
   "metadata": {},
   "source": [
    "# Oversampling"
   ]
  },
  {
   "cell_type": "code",
   "execution_count": 7,
   "id": "25a162b9",
   "metadata": {
    "ExecuteTime": {
     "end_time": "2022-01-14T13:42:57.571692Z",
     "start_time": "2022-01-14T13:42:57.568025Z"
    }
   },
   "outputs": [],
   "source": [
    "smote = SMOTENC(sampling_strategy='auto',  # not majority\n",
    "                random_state=SEED,\n",
    "                categorical_features=categorical_cols_index,\n",
    "                n_jobs=-1,\n",
    "                k_neighbors=100\n",
    "                )"
   ]
  },
  {
   "cell_type": "code",
   "execution_count": 8,
   "id": "d3957652",
   "metadata": {
    "ExecuteTime": {
     "end_time": "2022-01-14T13:42:57.731765Z",
     "start_time": "2022-01-14T13:42:57.573046Z"
    }
   },
   "outputs": [],
   "source": [
    "X_resample, y_resample = smote.fit_resample(X_train, y_train)"
   ]
  },
  {
   "cell_type": "code",
   "execution_count": 9,
   "id": "ea21875b",
   "metadata": {
    "ExecuteTime": {
     "end_time": "2022-01-14T13:42:57.750787Z",
     "start_time": "2022-01-14T13:42:57.736558Z"
    }
   },
   "outputs": [
    {
     "data": {
      "text/plain": [
       "0    489\n",
       "1    489\n",
       "Name: label, dtype: int64"
      ]
     },
     "execution_count": 9,
     "metadata": {},
     "output_type": "execute_result"
    }
   ],
   "source": [
    "y_resample.value_counts()"
   ]
  },
  {
   "cell_type": "code",
   "execution_count": 10,
   "id": "bdf1d363",
   "metadata": {
    "ExecuteTime": {
     "end_time": "2022-01-14T13:42:57.786936Z",
     "start_time": "2022-01-14T13:42:57.752437Z"
    }
   },
   "outputs": [],
   "source": [
    "X_resample1 = pd.get_dummies(X_resample)\n",
    "X_test1 = pd.get_dummies(X_test)"
   ]
  },
  {
   "cell_type": "markdown",
   "id": "edd210e1",
   "metadata": {},
   "source": [
    "# Baseline Model with Oversampling"
   ]
  },
  {
   "cell_type": "markdown",
   "id": "40b4284c",
   "metadata": {},
   "source": [
    "## Logistic Regression"
   ]
  },
  {
   "cell_type": "code",
   "execution_count": 11,
   "id": "3e842708",
   "metadata": {
    "ExecuteTime": {
     "end_time": "2022-01-14T13:42:59.119748Z",
     "start_time": "2022-01-14T13:42:57.789099Z"
    }
   },
   "outputs": [
    {
     "name": "stdout",
     "output_type": "stream",
     "text": [
      "Model: Logistic Regression without Balanced\n",
      "Cross Validation Performance\n",
      "CV Mean ROC AUC: 0.8990\n",
      "CV Variance ROC AUC: 0.0016\n",
      "\n",
      "\n",
      "Test Performance\n",
      "Test AUC: 0.6630\n",
      "\n",
      "\n",
      "              precision    recall  f1-score   support\n",
      "\n",
      "           0       0.80      0.79      0.79       211\n",
      "           1       0.52      0.54      0.53        89\n",
      "\n",
      "    accuracy                           0.71       300\n",
      "   macro avg       0.66      0.66      0.66       300\n",
      "weighted avg       0.72      0.71      0.72       300\n",
      "\n"
     ]
    }
   ],
   "source": [
    "model = LogisticRegression(random_state=SEED,\n",
    "                           solver='liblinear',\n",
    "                           max_iter=2000, \n",
    "                          )\n",
    "\n",
    "display_model_scores(model, X_resample1, y_resample, X_test1, y_test,\n",
    "                     'Logistic Regression without Balanced')"
   ]
  },
  {
   "cell_type": "code",
   "execution_count": 12,
   "id": "1e46417a",
   "metadata": {
    "ExecuteTime": {
     "end_time": "2022-01-14T13:42:59.198641Z",
     "start_time": "2022-01-14T13:42:59.121996Z"
    }
   },
   "outputs": [
    {
     "data": {
      "text/html": [
       "<div>\n",
       "<style scoped>\n",
       "    .dataframe tbody tr th:only-of-type {\n",
       "        vertical-align: middle;\n",
       "    }\n",
       "\n",
       "    .dataframe tbody tr th {\n",
       "        vertical-align: top;\n",
       "    }\n",
       "\n",
       "    .dataframe thead th {\n",
       "        text-align: right;\n",
       "    }\n",
       "</style>\n",
       "<table border=\"1\" class=\"dataframe\">\n",
       "  <thead>\n",
       "    <tr style=\"text-align: right;\">\n",
       "      <th></th>\n",
       "      <th>feature</th>\n",
       "      <th>coef</th>\n",
       "    </tr>\n",
       "  </thead>\n",
       "  <tbody>\n",
       "    <tr>\n",
       "      <th>17</th>\n",
       "      <td>purpose_A40</td>\n",
       "      <td>1.059837</td>\n",
       "    </tr>\n",
       "    <tr>\n",
       "      <th>8</th>\n",
       "      <td>existing_checking_account_status_A11</td>\n",
       "      <td>0.988241</td>\n",
       "    </tr>\n",
       "    <tr>\n",
       "      <th>27</th>\n",
       "      <td>saving_accounts_or_bonds_A61</td>\n",
       "      <td>0.800173</td>\n",
       "    </tr>\n",
       "    <tr>\n",
       "      <th>24</th>\n",
       "      <td>purpose_A46</td>\n",
       "      <td>0.751693</td>\n",
       "    </tr>\n",
       "    <tr>\n",
       "      <th>13</th>\n",
       "      <td>credit_history_A31</td>\n",
       "      <td>0.507920</td>\n",
       "    </tr>\n",
       "    <tr>\n",
       "      <th>46</th>\n",
       "      <td>property_A123</td>\n",
       "      <td>0.459888</td>\n",
       "    </tr>\n",
       "    <tr>\n",
       "      <th>34</th>\n",
       "      <td>present_employment_since_A73</td>\n",
       "      <td>0.432799</td>\n",
       "    </tr>\n",
       "    <tr>\n",
       "      <th>20</th>\n",
       "      <td>purpose_A42</td>\n",
       "      <td>0.376524</td>\n",
       "    </tr>\n",
       "    <tr>\n",
       "      <th>12</th>\n",
       "      <td>credit_history_A30</td>\n",
       "      <td>0.277263</td>\n",
       "    </tr>\n",
       "    <tr>\n",
       "      <th>5</th>\n",
       "      <td>no_of_existing_credits</td>\n",
       "      <td>0.251242</td>\n",
       "    </tr>\n",
       "    <tr>\n",
       "      <th>48</th>\n",
       "      <td>other_installment_plans_A141</td>\n",
       "      <td>0.176025</td>\n",
       "    </tr>\n",
       "    <tr>\n",
       "      <th>2</th>\n",
       "      <td>installment_rate_percent</td>\n",
       "      <td>0.157485</td>\n",
       "    </tr>\n",
       "    <tr>\n",
       "      <th>9</th>\n",
       "      <td>existing_checking_account_status_A12</td>\n",
       "      <td>0.150912</td>\n",
       "    </tr>\n",
       "    <tr>\n",
       "      <th>47</th>\n",
       "      <td>property_A124</td>\n",
       "      <td>0.133821</td>\n",
       "    </tr>\n",
       "    <tr>\n",
       "      <th>14</th>\n",
       "      <td>credit_history_A32</td>\n",
       "      <td>0.131195</td>\n",
       "    </tr>\n",
       "    <tr>\n",
       "      <th>28</th>\n",
       "      <td>saving_accounts_or_bonds_A62</td>\n",
       "      <td>0.128550</td>\n",
       "    </tr>\n",
       "    <tr>\n",
       "      <th>0</th>\n",
       "      <td>duration_mth</td>\n",
       "      <td>0.050329</td>\n",
       "    </tr>\n",
       "    <tr>\n",
       "      <th>33</th>\n",
       "      <td>present_employment_since_A72</td>\n",
       "      <td>0.045533</td>\n",
       "    </tr>\n",
       "    <tr>\n",
       "      <th>42</th>\n",
       "      <td>other_debtors_or_guarantors_A102</td>\n",
       "      <td>0.035007</td>\n",
       "    </tr>\n",
       "    <tr>\n",
       "      <th>37</th>\n",
       "      <td>personal_status_sex_A91</td>\n",
       "      <td>0.022921</td>\n",
       "    </tr>\n",
       "    <tr>\n",
       "      <th>29</th>\n",
       "      <td>saving_accounts_or_bonds_A63</td>\n",
       "      <td>0.017182</td>\n",
       "    </tr>\n",
       "    <tr>\n",
       "      <th>7</th>\n",
       "      <td>monthly_affordability_amount</td>\n",
       "      <td>0.002762</td>\n",
       "    </tr>\n",
       "    <tr>\n",
       "      <th>1</th>\n",
       "      <td>credit_amount</td>\n",
       "      <td>-0.000110</td>\n",
       "    </tr>\n",
       "    <tr>\n",
       "      <th>4</th>\n",
       "      <td>age_years</td>\n",
       "      <td>-0.010286</td>\n",
       "    </tr>\n",
       "    <tr>\n",
       "      <th>32</th>\n",
       "      <td>present_employment_since_A71</td>\n",
       "      <td>-0.055204</td>\n",
       "    </tr>\n",
       "    <tr>\n",
       "      <th>56</th>\n",
       "      <td>job_A173</td>\n",
       "      <td>-0.067244</td>\n",
       "    </tr>\n",
       "    <tr>\n",
       "      <th>3</th>\n",
       "      <td>present_residence_since</td>\n",
       "      <td>-0.070961</td>\n",
       "    </tr>\n",
       "    <tr>\n",
       "      <th>57</th>\n",
       "      <td>job_A174</td>\n",
       "      <td>-0.096336</td>\n",
       "    </tr>\n",
       "    <tr>\n",
       "      <th>38</th>\n",
       "      <td>personal_status_sex_A92</td>\n",
       "      <td>-0.104792</td>\n",
       "    </tr>\n",
       "    <tr>\n",
       "      <th>53</th>\n",
       "      <td>housing_A153</td>\n",
       "      <td>-0.149061</td>\n",
       "    </tr>\n",
       "    <tr>\n",
       "      <th>41</th>\n",
       "      <td>other_debtors_or_guarantors_A101</td>\n",
       "      <td>-0.155815</td>\n",
       "    </tr>\n",
       "    <tr>\n",
       "      <th>51</th>\n",
       "      <td>housing_A151</td>\n",
       "      <td>-0.168280</td>\n",
       "    </tr>\n",
       "    <tr>\n",
       "      <th>58</th>\n",
       "      <td>telephone_A191</td>\n",
       "      <td>-0.168338</td>\n",
       "    </tr>\n",
       "    <tr>\n",
       "      <th>55</th>\n",
       "      <td>job_A172</td>\n",
       "      <td>-0.175483</td>\n",
       "    </tr>\n",
       "    <tr>\n",
       "      <th>40</th>\n",
       "      <td>personal_status_sex_A94</td>\n",
       "      <td>-0.227315</td>\n",
       "    </tr>\n",
       "    <tr>\n",
       "      <th>22</th>\n",
       "      <td>purpose_A44</td>\n",
       "      <td>-0.237099</td>\n",
       "    </tr>\n",
       "    <tr>\n",
       "      <th>26</th>\n",
       "      <td>purpose_A49</td>\n",
       "      <td>-0.239352</td>\n",
       "    </tr>\n",
       "    <tr>\n",
       "      <th>23</th>\n",
       "      <td>purpose_A45</td>\n",
       "      <td>-0.260391</td>\n",
       "    </tr>\n",
       "    <tr>\n",
       "      <th>15</th>\n",
       "      <td>credit_history_A33</td>\n",
       "      <td>-0.303047</td>\n",
       "    </tr>\n",
       "    <tr>\n",
       "      <th>54</th>\n",
       "      <td>job_A171</td>\n",
       "      <td>-0.316441</td>\n",
       "    </tr>\n",
       "    <tr>\n",
       "      <th>36</th>\n",
       "      <td>present_employment_since_A75</td>\n",
       "      <td>-0.332331</td>\n",
       "    </tr>\n",
       "    <tr>\n",
       "      <th>52</th>\n",
       "      <td>housing_A152</td>\n",
       "      <td>-0.338163</td>\n",
       "    </tr>\n",
       "    <tr>\n",
       "      <th>25</th>\n",
       "      <td>purpose_A48</td>\n",
       "      <td>-0.338497</td>\n",
       "    </tr>\n",
       "    <tr>\n",
       "      <th>39</th>\n",
       "      <td>personal_status_sex_A93</td>\n",
       "      <td>-0.346319</td>\n",
       "    </tr>\n",
       "    <tr>\n",
       "      <th>49</th>\n",
       "      <td>other_installment_plans_A142</td>\n",
       "      <td>-0.389312</td>\n",
       "    </tr>\n",
       "    <tr>\n",
       "      <th>21</th>\n",
       "      <td>purpose_A43</td>\n",
       "      <td>-0.390998</td>\n",
       "    </tr>\n",
       "    <tr>\n",
       "      <th>6</th>\n",
       "      <td>no_of_ppl_liable</td>\n",
       "      <td>-0.408811</td>\n",
       "    </tr>\n",
       "    <tr>\n",
       "      <th>50</th>\n",
       "      <td>other_installment_plans_A143</td>\n",
       "      <td>-0.442218</td>\n",
       "    </tr>\n",
       "    <tr>\n",
       "      <th>45</th>\n",
       "      <td>property_A122</td>\n",
       "      <td>-0.468843</td>\n",
       "    </tr>\n",
       "    <tr>\n",
       "      <th>59</th>\n",
       "      <td>telephone_A192</td>\n",
       "      <td>-0.487166</td>\n",
       "    </tr>\n",
       "    <tr>\n",
       "      <th>19</th>\n",
       "      <td>purpose_A410</td>\n",
       "      <td>-0.506734</td>\n",
       "    </tr>\n",
       "    <tr>\n",
       "      <th>43</th>\n",
       "      <td>other_debtors_or_guarantors_A103</td>\n",
       "      <td>-0.534696</td>\n",
       "    </tr>\n",
       "    <tr>\n",
       "      <th>10</th>\n",
       "      <td>existing_checking_account_status_A13</td>\n",
       "      <td>-0.605994</td>\n",
       "    </tr>\n",
       "    <tr>\n",
       "      <th>35</th>\n",
       "      <td>present_employment_since_A74</td>\n",
       "      <td>-0.746301</td>\n",
       "    </tr>\n",
       "    <tr>\n",
       "      <th>30</th>\n",
       "      <td>saving_accounts_or_bonds_A64</td>\n",
       "      <td>-0.755935</td>\n",
       "    </tr>\n",
       "    <tr>\n",
       "      <th>44</th>\n",
       "      <td>property_A121</td>\n",
       "      <td>-0.780370</td>\n",
       "    </tr>\n",
       "    <tr>\n",
       "      <th>31</th>\n",
       "      <td>saving_accounts_or_bonds_A65</td>\n",
       "      <td>-0.845475</td>\n",
       "    </tr>\n",
       "    <tr>\n",
       "      <th>18</th>\n",
       "      <td>purpose_A41</td>\n",
       "      <td>-0.870488</td>\n",
       "    </tr>\n",
       "    <tr>\n",
       "      <th>11</th>\n",
       "      <td>existing_checking_account_status_A14</td>\n",
       "      <td>-1.188663</td>\n",
       "    </tr>\n",
       "    <tr>\n",
       "      <th>16</th>\n",
       "      <td>credit_history_A34</td>\n",
       "      <td>-1.268836</td>\n",
       "    </tr>\n",
       "  </tbody>\n",
       "</table>\n",
       "</div>"
      ],
      "text/plain": [
       "                                 feature      coef\n",
       "17                           purpose_A40  1.059837\n",
       "8   existing_checking_account_status_A11  0.988241\n",
       "27          saving_accounts_or_bonds_A61  0.800173\n",
       "24                           purpose_A46  0.751693\n",
       "13                    credit_history_A31  0.507920\n",
       "46                         property_A123  0.459888\n",
       "34          present_employment_since_A73  0.432799\n",
       "20                           purpose_A42  0.376524\n",
       "12                    credit_history_A30  0.277263\n",
       "5                 no_of_existing_credits  0.251242\n",
       "48          other_installment_plans_A141  0.176025\n",
       "2               installment_rate_percent  0.157485\n",
       "9   existing_checking_account_status_A12  0.150912\n",
       "47                         property_A124  0.133821\n",
       "14                    credit_history_A32  0.131195\n",
       "28          saving_accounts_or_bonds_A62  0.128550\n",
       "0                           duration_mth  0.050329\n",
       "33          present_employment_since_A72  0.045533\n",
       "42      other_debtors_or_guarantors_A102  0.035007\n",
       "37               personal_status_sex_A91  0.022921\n",
       "29          saving_accounts_or_bonds_A63  0.017182\n",
       "7           monthly_affordability_amount  0.002762\n",
       "1                          credit_amount -0.000110\n",
       "4                              age_years -0.010286\n",
       "32          present_employment_since_A71 -0.055204\n",
       "56                              job_A173 -0.067244\n",
       "3                present_residence_since -0.070961\n",
       "57                              job_A174 -0.096336\n",
       "38               personal_status_sex_A92 -0.104792\n",
       "53                          housing_A153 -0.149061\n",
       "41      other_debtors_or_guarantors_A101 -0.155815\n",
       "51                          housing_A151 -0.168280\n",
       "58                        telephone_A191 -0.168338\n",
       "55                              job_A172 -0.175483\n",
       "40               personal_status_sex_A94 -0.227315\n",
       "22                           purpose_A44 -0.237099\n",
       "26                           purpose_A49 -0.239352\n",
       "23                           purpose_A45 -0.260391\n",
       "15                    credit_history_A33 -0.303047\n",
       "54                              job_A171 -0.316441\n",
       "36          present_employment_since_A75 -0.332331\n",
       "52                          housing_A152 -0.338163\n",
       "25                           purpose_A48 -0.338497\n",
       "39               personal_status_sex_A93 -0.346319\n",
       "49          other_installment_plans_A142 -0.389312\n",
       "21                           purpose_A43 -0.390998\n",
       "6                       no_of_ppl_liable -0.408811\n",
       "50          other_installment_plans_A143 -0.442218\n",
       "45                         property_A122 -0.468843\n",
       "59                        telephone_A192 -0.487166\n",
       "19                          purpose_A410 -0.506734\n",
       "43      other_debtors_or_guarantors_A103 -0.534696\n",
       "10  existing_checking_account_status_A13 -0.605994\n",
       "35          present_employment_since_A74 -0.746301\n",
       "30          saving_accounts_or_bonds_A64 -0.755935\n",
       "44                         property_A121 -0.780370\n",
       "31          saving_accounts_or_bonds_A65 -0.845475\n",
       "18                           purpose_A41 -0.870488\n",
       "11  existing_checking_account_status_A14 -1.188663\n",
       "16                    credit_history_A34 -1.268836"
      ]
     },
     "execution_count": 12,
     "metadata": {},
     "output_type": "execute_result"
    }
   ],
   "source": [
    "model.fit(X_resample1, y_resample)\n",
    "coef_series = pd.Series(model.coef_.reshape(-1), name='coef')\n",
    "feature_names_series = pd.Series(model.feature_names_in_, name='feature')\n",
    "\n",
    "df_feature_importance = pd.concat([feature_names_series, coef_series], axis=1)\n",
    "df_feature_importance.sort_values(by='coef', ascending=False)"
   ]
  },
  {
   "cell_type": "markdown",
   "id": "3428d4d9",
   "metadata": {},
   "source": [
    "## Decision Tree"
   ]
  },
  {
   "cell_type": "code",
   "execution_count": 13,
   "id": "7440bb15",
   "metadata": {
    "ExecuteTime": {
     "end_time": "2022-01-14T13:42:59.390222Z",
     "start_time": "2022-01-14T13:42:59.200717Z"
    }
   },
   "outputs": [
    {
     "name": "stdout",
     "output_type": "stream",
     "text": [
      "Model: Decision Tree without Balanced\n",
      "Cross Validation Performance\n",
      "CV Mean ROC AUC: 0.8703\n",
      "CV Variance ROC AUC: 0.0016\n",
      "\n",
      "\n",
      "Test Performance\n",
      "Test AUC: 0.6799\n",
      "\n",
      "\n",
      "              precision    recall  f1-score   support\n",
      "\n",
      "           0       0.81      0.79      0.80       211\n",
      "           1       0.53      0.57      0.55        89\n",
      "\n",
      "    accuracy                           0.72       300\n",
      "   macro avg       0.67      0.68      0.68       300\n",
      "weighted avg       0.73      0.72      0.73       300\n",
      "\n"
     ]
    }
   ],
   "source": [
    "model = DecisionTreeClassifier(random_state=SEED,\n",
    "                               criterion='entropy',\n",
    "                               min_samples_split=100,\n",
    "                               )\n",
    "\n",
    "display_model_scores(model, X_resample1, y_resample, X_test1, y_test,\n",
    "                     'Decision Tree without Balanced')"
   ]
  },
  {
   "cell_type": "code",
   "execution_count": 14,
   "id": "dc2cdd2a",
   "metadata": {
    "ExecuteTime": {
     "end_time": "2022-01-14T13:42:59.409956Z",
     "start_time": "2022-01-14T13:42:59.391852Z"
    }
   },
   "outputs": [
    {
     "data": {
      "text/html": [
       "<div>\n",
       "<style scoped>\n",
       "    .dataframe tbody tr th:only-of-type {\n",
       "        vertical-align: middle;\n",
       "    }\n",
       "\n",
       "    .dataframe tbody tr th {\n",
       "        vertical-align: top;\n",
       "    }\n",
       "\n",
       "    .dataframe thead th {\n",
       "        text-align: right;\n",
       "    }\n",
       "</style>\n",
       "<table border=\"1\" class=\"dataframe\">\n",
       "  <thead>\n",
       "    <tr style=\"text-align: right;\">\n",
       "      <th></th>\n",
       "      <th>features</th>\n",
       "      <th>feature_importance</th>\n",
       "    </tr>\n",
       "  </thead>\n",
       "  <tbody>\n",
       "    <tr>\n",
       "      <th>8</th>\n",
       "      <td>existing_checking_account_status_A11</td>\n",
       "      <td>0.470836</td>\n",
       "    </tr>\n",
       "    <tr>\n",
       "      <th>46</th>\n",
       "      <td>property_A123</td>\n",
       "      <td>0.154438</td>\n",
       "    </tr>\n",
       "    <tr>\n",
       "      <th>9</th>\n",
       "      <td>existing_checking_account_status_A12</td>\n",
       "      <td>0.061129</td>\n",
       "    </tr>\n",
       "    <tr>\n",
       "      <th>34</th>\n",
       "      <td>present_employment_since_A73</td>\n",
       "      <td>0.058424</td>\n",
       "    </tr>\n",
       "    <tr>\n",
       "      <th>50</th>\n",
       "      <td>other_installment_plans_A143</td>\n",
       "      <td>0.051781</td>\n",
       "    </tr>\n",
       "    <tr>\n",
       "      <th>0</th>\n",
       "      <td>duration_mth</td>\n",
       "      <td>0.050646</td>\n",
       "    </tr>\n",
       "    <tr>\n",
       "      <th>21</th>\n",
       "      <td>purpose_A43</td>\n",
       "      <td>0.032814</td>\n",
       "    </tr>\n",
       "    <tr>\n",
       "      <th>1</th>\n",
       "      <td>credit_amount</td>\n",
       "      <td>0.026977</td>\n",
       "    </tr>\n",
       "    <tr>\n",
       "      <th>27</th>\n",
       "      <td>saving_accounts_or_bonds_A61</td>\n",
       "      <td>0.023723</td>\n",
       "    </tr>\n",
       "    <tr>\n",
       "      <th>31</th>\n",
       "      <td>saving_accounts_or_bonds_A65</td>\n",
       "      <td>0.013034</td>\n",
       "    </tr>\n",
       "    <tr>\n",
       "      <th>36</th>\n",
       "      <td>present_employment_since_A75</td>\n",
       "      <td>0.011574</td>\n",
       "    </tr>\n",
       "    <tr>\n",
       "      <th>15</th>\n",
       "      <td>credit_history_A33</td>\n",
       "      <td>0.011513</td>\n",
       "    </tr>\n",
       "    <tr>\n",
       "      <th>33</th>\n",
       "      <td>present_employment_since_A72</td>\n",
       "      <td>0.010957</td>\n",
       "    </tr>\n",
       "    <tr>\n",
       "      <th>58</th>\n",
       "      <td>telephone_A191</td>\n",
       "      <td>0.009788</td>\n",
       "    </tr>\n",
       "    <tr>\n",
       "      <th>24</th>\n",
       "      <td>purpose_A46</td>\n",
       "      <td>0.006206</td>\n",
       "    </tr>\n",
       "    <tr>\n",
       "      <th>5</th>\n",
       "      <td>no_of_existing_credits</td>\n",
       "      <td>0.006159</td>\n",
       "    </tr>\n",
       "  </tbody>\n",
       "</table>\n",
       "</div>"
      ],
      "text/plain": [
       "                                features  feature_importance\n",
       "8   existing_checking_account_status_A11            0.470836\n",
       "46                         property_A123            0.154438\n",
       "9   existing_checking_account_status_A12            0.061129\n",
       "34          present_employment_since_A73            0.058424\n",
       "50          other_installment_plans_A143            0.051781\n",
       "0                           duration_mth            0.050646\n",
       "21                           purpose_A43            0.032814\n",
       "1                          credit_amount            0.026977\n",
       "27          saving_accounts_or_bonds_A61            0.023723\n",
       "31          saving_accounts_or_bonds_A65            0.013034\n",
       "36          present_employment_since_A75            0.011574\n",
       "15                    credit_history_A33            0.011513\n",
       "33          present_employment_since_A72            0.010957\n",
       "58                        telephone_A191            0.009788\n",
       "24                           purpose_A46            0.006206\n",
       "5                 no_of_existing_credits            0.006159"
      ]
     },
     "execution_count": 14,
     "metadata": {},
     "output_type": "execute_result"
    }
   ],
   "source": [
    "model.fit(X_resample1, y_resample)\n",
    "feature_importance_series = pd.Series(model.feature_importances_, name='feature_importance')\n",
    "feature_series = pd.Series(model.feature_names_in_, name='features')\n",
    "\n",
    "df_feature_importance = pd.concat([feature_series, feature_importance_series], axis=1)\n",
    "df_feature_importance = df_feature_importance.sort_values(by='feature_importance', ascending=False)\n",
    "\n",
    "mask = df_feature_importance.feature_importance > 0\n",
    "df_feature_importance.loc[mask, :]"
   ]
  },
  {
   "cell_type": "markdown",
   "id": "2330a0b8",
   "metadata": {},
   "source": [
    "## SVM"
   ]
  },
  {
   "cell_type": "code",
   "execution_count": 15,
   "id": "a60ff8c2",
   "metadata": {
    "ExecuteTime": {
     "end_time": "2022-01-14T13:43:03.893235Z",
     "start_time": "2022-01-14T13:42:59.411594Z"
    }
   },
   "outputs": [
    {
     "name": "stdout",
     "output_type": "stream",
     "text": [
      "Model: SVM without Balanced\n",
      "Cross Validation Performance\n",
      "CV Mean ROC AUC: 0.5787\n",
      "CV Variance ROC AUC: 0.0029\n",
      "\n",
      "\n",
      "Test Performance\n",
      "Test AUC: 0.5184\n",
      "\n",
      "\n",
      "              precision    recall  f1-score   support\n",
      "\n",
      "           0       0.71      0.71      0.71       211\n",
      "           1       0.32      0.33      0.32        89\n",
      "\n",
      "    accuracy                           0.60       300\n",
      "   macro avg       0.52      0.52      0.52       300\n",
      "weighted avg       0.60      0.60      0.60       300\n",
      "\n"
     ]
    }
   ],
   "source": [
    "model = SVC(random_state=SEED,\n",
    "            kernel='rbf', \n",
    "            C=2,\n",
    "            probability=True,\n",
    "           )\n",
    "display_model_scores(model, X_resample1, y_resample, X_test1, y_test,\n",
    "                     'SVM without Balanced')"
   ]
  }
 ],
 "metadata": {
  "kernelspec": {
   "display_name": "research",
   "language": "python",
   "name": "research"
  },
  "language_info": {
   "codemirror_mode": {
    "name": "ipython",
    "version": 3
   },
   "file_extension": ".py",
   "mimetype": "text/x-python",
   "name": "python",
   "nbconvert_exporter": "python",
   "pygments_lexer": "ipython3",
   "version": "3.9.7"
  },
  "toc": {
   "base_numbering": 1,
   "nav_menu": {},
   "number_sections": true,
   "sideBar": true,
   "skip_h1_title": false,
   "title_cell": "Table of Contents",
   "title_sidebar": "Contents",
   "toc_cell": false,
   "toc_position": {},
   "toc_section_display": true,
   "toc_window_display": true
  },
  "varInspector": {
   "cols": {
    "lenName": 16,
    "lenType": 16,
    "lenVar": 40
   },
   "kernels_config": {
    "python": {
     "delete_cmd_postfix": "",
     "delete_cmd_prefix": "del ",
     "library": "var_list.py",
     "varRefreshCmd": "print(var_dic_list())"
    },
    "r": {
     "delete_cmd_postfix": ") ",
     "delete_cmd_prefix": "rm(",
     "library": "var_list.r",
     "varRefreshCmd": "cat(var_dic_list()) "
    }
   },
   "types_to_exclude": [
    "module",
    "function",
    "builtin_function_or_method",
    "instance",
    "_Feature"
   ],
   "window_display": false
  }
 },
 "nbformat": 4,
 "nbformat_minor": 5
}
