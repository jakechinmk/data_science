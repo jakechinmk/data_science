{
 "cells": [
  {
   "cell_type": "markdown",
   "id": "a5f1b8a2",
   "metadata": {},
   "source": [
    "# Setup"
   ]
  },
  {
   "cell_type": "markdown",
   "id": "8a6d8cbd",
   "metadata": {},
   "source": [
    "## Import Libraries"
   ]
  },
  {
   "cell_type": "code",
   "execution_count": 1,
   "id": "ca7e5947",
   "metadata": {
    "ExecuteTime": {
     "end_time": "2022-01-14T01:40:15.424673Z",
     "start_time": "2022-01-14T01:40:15.028395Z"
    }
   },
   "outputs": [],
   "source": [
    "import os\n",
    "import pandas as pd\n",
    "import numpy as np"
   ]
  },
  {
   "cell_type": "markdown",
   "id": "22d39dba",
   "metadata": {},
   "source": [
    "## Global Configurations"
   ]
  },
  {
   "cell_type": "code",
   "execution_count": 2,
   "id": "cd4292c8",
   "metadata": {
    "ExecuteTime": {
     "end_time": "2022-01-14T01:40:15.429667Z",
     "start_time": "2022-01-14T01:40:15.426139Z"
    }
   },
   "outputs": [],
   "source": [
    "INPUT_DIR = '../data/source/'\n",
    "INPUT_PATH = f'{INPUT_DIR}german.data'\n",
    "OUTPUT_DIR = '../data/input/'\n",
    "OUTPUT_FILE = f'{OUTPUT_DIR}german_data.csv'\n",
    "OUTPUT = True"
   ]
  },
  {
   "cell_type": "code",
   "execution_count": 3,
   "id": "510dd1d4",
   "metadata": {
    "ExecuteTime": {
     "end_time": "2022-01-14T01:40:15.437265Z",
     "start_time": "2022-01-14T01:40:15.433847Z"
    }
   },
   "outputs": [],
   "source": [
    "if not os.path.exists(INPUT_DIR):\n",
    "    os.makedirs(INPUT_DIR)"
   ]
  },
  {
   "cell_type": "code",
   "execution_count": 4,
   "id": "efe99948",
   "metadata": {
    "ExecuteTime": {
     "end_time": "2022-01-14T01:40:15.445061Z",
     "start_time": "2022-01-14T01:40:15.438954Z"
    }
   },
   "outputs": [],
   "source": [
    "if not os.path.exists(OUTPUT_DIR):\n",
    "    os.makedirs(OUTPUT_DIR)"
   ]
  },
  {
   "cell_type": "markdown",
   "id": "386da700",
   "metadata": {},
   "source": [
    "# Data"
   ]
  },
  {
   "cell_type": "markdown",
   "id": "fa81be19",
   "metadata": {},
   "source": [
    "## Download Data"
   ]
  },
  {
   "cell_type": "code",
   "execution_count": 5,
   "id": "b3f1a2fa",
   "metadata": {
    "ExecuteTime": {
     "end_time": "2022-01-14T01:40:17.254905Z",
     "start_time": "2022-01-14T01:40:15.446895Z"
    }
   },
   "outputs": [
    {
     "name": "stdout",
     "output_type": "stream",
     "text": [
      "--2022-01-14 09:40:15--  https://archive.ics.uci.edu/ml/machine-learning-databases/statlog/german/german.data\n",
      "Resolving archive.ics.uci.edu (archive.ics.uci.edu)... 128.195.10.252\n",
      "Connecting to archive.ics.uci.edu (archive.ics.uci.edu)|128.195.10.252|:443... connected.\n",
      "HTTP request sent, awaiting response... 200 OK\n",
      "Length: 79793 (78K) [application/x-httpd-php]\n",
      "Saving to: ‘german.data’\n",
      "\n",
      "100%[======================================>] 79,793       164KB/s   in 0.5s   \n",
      "\n",
      "2022-01-14 09:40:17 (164 KB/s) - ‘german.data’ saved [79793/79793]\n",
      "\n"
     ]
    }
   ],
   "source": [
    "![ -f ../data/source/german.data ] && echo \"File exist\" || (wget https://archive.ics.uci.edu/ml/machine-learning-databases/statlog/german/german.data && mv german.data ../data/source/)"
   ]
  },
  {
   "cell_type": "markdown",
   "id": "cee0c3b7",
   "metadata": {},
   "source": [
    "## Read Data"
   ]
  },
  {
   "cell_type": "code",
   "execution_count": 6,
   "id": "da6e6b2f",
   "metadata": {
    "ExecuteTime": {
     "end_time": "2022-01-14T01:40:17.278791Z",
     "start_time": "2022-01-14T01:40:17.261266Z"
    }
   },
   "outputs": [],
   "source": [
    "df = pd.read_csv(INPUT_PATH, header=None, sep=' ')\n",
    "cols  = [\n",
    "         'existing_checking_account_status',\n",
    "         'duration_mth',\n",
    "         'credit_history',\n",
    "         'purpose',\n",
    "         'credit_amount',\n",
    "         'saving_accounts_or_bonds',\n",
    "         'present_employment_since',\n",
    "         'installment_rate_percent', # disposable income\n",
    "         'personal_status_sex',\n",
    "         'other_debtors_or_guarantors',\n",
    "         'present_residence_since',\n",
    "         'property',\n",
    "         'age_years',\n",
    "         'other_installment_plans',\n",
    "         'housing',\n",
    "         'no_of_existing_credits', # in this bank\n",
    "         'job',\n",
    "         'no_of_ppl_liable',\n",
    "         'telephone',\n",
    "         'foreign_worker',\n",
    "         'label' \n",
    "]\n",
    "\n",
    "df.columns = cols\n",
    "df.loc[:, 'label'] = np.where(df.label == 2, 1, 0)\n",
    "df.loc[:, 'monthly_affordability_amount'] =  df.credit_amount * (1 + df.installment_rate_percent / 100 * df.duration_mth) / df.duration_mth "
   ]
  },
  {
   "cell_type": "code",
   "execution_count": 7,
   "id": "0cab71d9",
   "metadata": {
    "ExecuteTime": {
     "end_time": "2022-01-14T01:40:17.294502Z",
     "start_time": "2022-01-14T01:40:17.282034Z"
    }
   },
   "outputs": [
    {
     "data": {
      "text/plain": [
       "(1000, 22)"
      ]
     },
     "execution_count": 7,
     "metadata": {},
     "output_type": "execute_result"
    }
   ],
   "source": [
    "df.shape"
   ]
  },
  {
   "cell_type": "code",
   "execution_count": 8,
   "id": "ea7d3436",
   "metadata": {
    "ExecuteTime": {
     "end_time": "2022-01-14T01:40:17.305981Z",
     "start_time": "2022-01-14T01:40:17.296404Z"
    }
   },
   "outputs": [
    {
     "data": {
      "text/plain": [
       "0    700\n",
       "1    300\n",
       "Name: label, dtype: int64"
      ]
     },
     "metadata": {},
     "output_type": "display_data"
    },
    {
     "data": {
      "text/plain": [
       "0    0.7\n",
       "1    0.3\n",
       "Name: label, dtype: float64"
      ]
     },
     "metadata": {},
     "output_type": "display_data"
    }
   ],
   "source": [
    "display(\n",
    "    df.label.value_counts(),\n",
    "    df.label.value_counts(normalize=True)\n",
    ")"
   ]
  },
  {
   "cell_type": "code",
   "execution_count": 9,
   "id": "62b7648f",
   "metadata": {
    "ExecuteTime": {
     "end_time": "2022-01-14T01:40:17.316027Z",
     "start_time": "2022-01-14T01:40:17.310235Z"
    }
   },
   "outputs": [
    {
     "data": {
      "text/plain": [
       "Index(['existing_checking_account_status', 'duration_mth', 'credit_history',\n",
       "       'purpose', 'credit_amount', 'saving_accounts_or_bonds',\n",
       "       'present_employment_since', 'installment_rate_percent',\n",
       "       'personal_status_sex', 'other_debtors_or_guarantors',\n",
       "       'present_residence_since', 'property', 'age_years',\n",
       "       'other_installment_plans', 'housing', 'no_of_existing_credits', 'job',\n",
       "       'no_of_ppl_liable', 'telephone', 'foreign_worker', 'label',\n",
       "       'monthly_affordability_amount'],\n",
       "      dtype='object')"
      ]
     },
     "execution_count": 9,
     "metadata": {},
     "output_type": "execute_result"
    }
   ],
   "source": [
    "df.columns"
   ]
  },
  {
   "cell_type": "markdown",
   "id": "b3bc5eba",
   "metadata": {},
   "source": [
    "# Output"
   ]
  },
  {
   "cell_type": "code",
   "execution_count": 10,
   "id": "4adab83c",
   "metadata": {
    "ExecuteTime": {
     "end_time": "2022-01-14T01:40:17.335353Z",
     "start_time": "2022-01-14T01:40:17.318183Z"
    }
   },
   "outputs": [],
   "source": [
    "if OUTPUT:\n",
    "    df.to_csv(OUTPUT_FILE, index=False)"
   ]
  }
 ],
 "metadata": {
  "kernelspec": {
   "display_name": "research",
   "language": "python",
   "name": "research"
  },
  "language_info": {
   "codemirror_mode": {
    "name": "ipython",
    "version": 3
   },
   "file_extension": ".py",
   "mimetype": "text/x-python",
   "name": "python",
   "nbconvert_exporter": "python",
   "pygments_lexer": "ipython3",
   "version": "3.9.7"
  },
  "toc": {
   "base_numbering": 1,
   "nav_menu": {},
   "number_sections": true,
   "sideBar": true,
   "skip_h1_title": false,
   "title_cell": "Table of Contents",
   "title_sidebar": "Contents",
   "toc_cell": false,
   "toc_position": {},
   "toc_section_display": true,
   "toc_window_display": false
  },
  "varInspector": {
   "cols": {
    "lenName": 16,
    "lenType": 16,
    "lenVar": 40
   },
   "kernels_config": {
    "python": {
     "delete_cmd_postfix": "",
     "delete_cmd_prefix": "del ",
     "library": "var_list.py",
     "varRefreshCmd": "print(var_dic_list())"
    },
    "r": {
     "delete_cmd_postfix": ") ",
     "delete_cmd_prefix": "rm(",
     "library": "var_list.r",
     "varRefreshCmd": "cat(var_dic_list()) "
    }
   },
   "types_to_exclude": [
    "module",
    "function",
    "builtin_function_or_method",
    "instance",
    "_Feature"
   ],
   "window_display": false
  }
 },
 "nbformat": 4,
 "nbformat_minor": 5
}
