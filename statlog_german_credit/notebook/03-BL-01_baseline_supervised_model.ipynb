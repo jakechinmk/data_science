{
 "cells": [
  {
   "cell_type": "markdown",
   "id": "a1a2de51",
   "metadata": {},
   "source": [
    "# Setup"
   ]
  },
  {
   "cell_type": "markdown",
   "id": "f441557e",
   "metadata": {},
   "source": [
    "## Import Libraries"
   ]
  },
  {
   "cell_type": "code",
   "execution_count": 1,
   "id": "877fcdb8",
   "metadata": {
    "ExecuteTime": {
     "end_time": "2022-01-14T13:41:15.680109Z",
     "start_time": "2022-01-14T13:41:14.199552Z"
    }
   },
   "outputs": [],
   "source": [
    "import os\n",
    "import pandas as pd\n",
    "import numpy as np\n",
    "\n",
    "import matplotlib.pyplot as plt\n",
    "import seaborn as sns\n",
    "\n",
    "from sklearn.linear_model import LogisticRegression\n",
    "from sklearn.tree import DecisionTreeClassifier\n",
    "from sklearn.svm import SVC\n",
    "\n",
    "from sklearn.metrics import classification_report, roc_auc_score\n",
    "from sklearn.model_selection import cross_val_score, RepeatedStratifiedKFold\n",
    "from sklearn.model_selection import train_test_split"
   ]
  },
  {
   "cell_type": "markdown",
   "id": "a8540752",
   "metadata": {},
   "source": [
    "## Global Configurations"
   ]
  },
  {
   "cell_type": "code",
   "execution_count": 2,
   "id": "f9fcf9fa",
   "metadata": {
    "ExecuteTime": {
     "end_time": "2022-01-14T13:41:15.684498Z",
     "start_time": "2022-01-14T13:41:15.681760Z"
    }
   },
   "outputs": [],
   "source": [
    "INPUT_DIR = '../data/input/'\n",
    "INPUT_PATH = f'{INPUT_DIR}german_data.csv'\n",
    "OUTPUT_DIR = INPUT_DIR\n",
    "EDA_DIR = '../data/EDA/'\n",
    "PIPELINE_DIR = '../data/pipeline/'\n",
    "OUTPUT = False\n",
    "SEED = 888"
   ]
  },
  {
   "cell_type": "code",
   "execution_count": 3,
   "id": "38c7a3f9",
   "metadata": {
    "ExecuteTime": {
     "end_time": "2022-01-14T13:41:15.689841Z",
     "start_time": "2022-01-14T13:41:15.687239Z"
    }
   },
   "outputs": [],
   "source": [
    "if not os.path.exists(PIPELINE_DIR):\n",
    "    os.makedirs(PIPELINE_DIR)"
   ]
  },
  {
   "cell_type": "code",
   "execution_count": 4,
   "id": "52598471",
   "metadata": {
    "ExecuteTime": {
     "end_time": "2022-01-14T13:41:15.694178Z",
     "start_time": "2022-01-14T13:41:15.691250Z"
    }
   },
   "outputs": [],
   "source": [
    "pd.options.display.max_columns = None"
   ]
  },
  {
   "cell_type": "markdown",
   "id": "47ae1d9e",
   "metadata": {},
   "source": [
    "## Global Function"
   ]
  },
  {
   "cell_type": "code",
   "execution_count": 5,
   "id": "65b616bb",
   "metadata": {
    "ExecuteTime": {
     "end_time": "2022-01-14T13:41:15.700052Z",
     "start_time": "2022-01-14T13:41:15.695713Z"
    }
   },
   "outputs": [],
   "source": [
    "def display_scores(title, scores, y_test, y_pred):\n",
    "    print(f'Model: {title}')\n",
    "    print('Cross Validation Performance')\n",
    "    print(f'CV Mean ROC AUC: {np.mean(scores):.4f}')\n",
    "    print(f'CV Variance ROC AUC: {np.var(scores):.4f}')\n",
    "    print('\\n')\n",
    "\n",
    "    print('Test Performance')\n",
    "    print(f'Test AUC: {roc_auc_score(y_test, y_pred ):.4f}')\n",
    "    print('\\n')\n",
    "    print(classification_report(y_test, y_pred))\n",
    "\n",
    "\n",
    "def display_model_scores(model, X_train, y_train, X_test, y_test, title):\n",
    "    cv = RepeatedStratifiedKFold(n_splits=10,\n",
    "                                 n_repeats=5,\n",
    "                                 random_state=SEED\n",
    "                                 )\n",
    "    scores = cross_val_score(model, X_train, y_train,\n",
    "                             scoring='roc_auc', cv=cv, n_jobs=-1\n",
    "                             )\n",
    "    model.fit(X_train, y_train)\n",
    "    y_pred = model.predict(X_test)\n",
    "    display_scores(title, scores, y_test, y_pred)"
   ]
  },
  {
   "cell_type": "markdown",
   "id": "b3d37a44",
   "metadata": {},
   "source": [
    "# Data"
   ]
  },
  {
   "cell_type": "code",
   "execution_count": 6,
   "id": "cfb20b6d",
   "metadata": {
    "ExecuteTime": {
     "end_time": "2022-01-14T13:41:15.714726Z",
     "start_time": "2022-01-14T13:41:15.701450Z"
    }
   },
   "outputs": [
    {
     "name": "stdout",
     "output_type": "stream",
     "text": [
      "Train Bad Payer Proportion: 0.30142857142857143 (211)\n",
      "Test Bad Payer Proportion: 0.2966666666666667 (89)\n"
     ]
    }
   ],
   "source": [
    "df = pd.read_csv(INPUT_PATH)\n",
    "\n",
    "# dropping foreign worker columns because too less variation\n",
    "cols = ['label', 'foreign_worker']\n",
    "X = df.drop(cols, axis=1)\n",
    "y = df.label\n",
    "\n",
    "X_train, X_test, y_train, y_test = train_test_split(X, y,\n",
    "                                                    test_size=0.3,\n",
    "                                                    random_state=SEED,\n",
    "                                                    )\n",
    "\n",
    "print(f'Train Bad Payer Proportion: {y_train.sum()/ y_train.shape[0]} ({y_train.sum()})')\n",
    "print(f'Test Bad Payer Proportion: {y_test.sum()/ y_test.shape[0]} ({y_test.sum()})')"
   ]
  },
  {
   "cell_type": "markdown",
   "id": "505535c7",
   "metadata": {},
   "source": [
    "# Baseline Model"
   ]
  },
  {
   "cell_type": "code",
   "execution_count": 7,
   "id": "7d055a74",
   "metadata": {
    "ExecuteTime": {
     "end_time": "2022-01-14T13:41:15.743918Z",
     "start_time": "2022-01-14T13:41:15.716745Z"
    }
   },
   "outputs": [],
   "source": [
    "X_train1 = pd.get_dummies(X_train, drop_first=True)\n",
    "X_test1 = pd.get_dummies(X_test, drop_first=True)\n",
    "assert (X_train1.columns == X_test1.columns).all()"
   ]
  },
  {
   "cell_type": "markdown",
   "id": "1bd58d8e",
   "metadata": {},
   "source": [
    "## Logistic Regression"
   ]
  },
  {
   "cell_type": "markdown",
   "id": "31ed82f2",
   "metadata": {},
   "source": [
    "### Without Balanced"
   ]
  },
  {
   "cell_type": "code",
   "execution_count": 8,
   "id": "c325a0fd",
   "metadata": {
    "ExecuteTime": {
     "end_time": "2022-01-14T13:41:17.056647Z",
     "start_time": "2022-01-14T13:41:15.745805Z"
    }
   },
   "outputs": [
    {
     "name": "stdout",
     "output_type": "stream",
     "text": [
      "Model: Logistic Regression without Balanced\n",
      "Cross Validation Performance\n",
      "CV Mean ROC AUC: 0.7845\n",
      "CV Variance ROC AUC: 0.0027\n",
      "\n",
      "\n",
      "Test Performance\n",
      "Test AUC: 0.6400\n",
      "\n",
      "\n",
      "              precision    recall  f1-score   support\n",
      "\n",
      "           0       0.78      0.85      0.81       211\n",
      "           1       0.55      0.43      0.48        89\n",
      "\n",
      "    accuracy                           0.73       300\n",
      "   macro avg       0.66      0.64      0.65       300\n",
      "weighted avg       0.71      0.73      0.72       300\n",
      "\n"
     ]
    }
   ],
   "source": [
    "model = LogisticRegression(random_state=SEED,\n",
    "                           solver='liblinear',\n",
    "                           max_iter=2000, \n",
    "                          )\n",
    "\n",
    "display_model_scores(model, X_train1, y_train, X_test1, y_test,\n",
    "                     'Logistic Regression without Balanced')"
   ]
  },
  {
   "cell_type": "markdown",
   "id": "4aa41aaa",
   "metadata": {},
   "source": [
    "### Balanced"
   ]
  },
  {
   "cell_type": "code",
   "execution_count": 9,
   "id": "af39bf4f",
   "metadata": {
    "ExecuteTime": {
     "end_time": "2022-01-14T13:41:17.330003Z",
     "start_time": "2022-01-14T13:41:17.082920Z"
    }
   },
   "outputs": [
    {
     "name": "stdout",
     "output_type": "stream",
     "text": [
      "Model: Logistic Regression Balanced\n",
      "Cross Validation Performance\n",
      "CV Mean ROC AUC: 0.7822\n",
      "CV Variance ROC AUC: 0.0027\n",
      "\n",
      "\n",
      "Test Performance\n",
      "Test AUC: 0.6910\n",
      "\n",
      "\n",
      "              precision    recall  f1-score   support\n",
      "\n",
      "           0       0.84      0.70      0.76       211\n",
      "           1       0.49      0.69      0.57        89\n",
      "\n",
      "    accuracy                           0.69       300\n",
      "   macro avg       0.66      0.69      0.67       300\n",
      "weighted avg       0.74      0.69      0.70       300\n",
      "\n"
     ]
    }
   ],
   "source": [
    "model = LogisticRegression(random_state=SEED,\n",
    "                           solver='liblinear',\n",
    "                           max_iter=2000, \n",
    "                           class_weight='balanced',\n",
    "                          )\n",
    "\n",
    "display_model_scores(model, X_train1, y_train, X_test1, y_test,\n",
    "                     'Logistic Regression Balanced')"
   ]
  },
  {
   "cell_type": "code",
   "execution_count": 10,
   "id": "39fd1685",
   "metadata": {
    "ExecuteTime": {
     "end_time": "2022-01-14T13:41:17.384784Z",
     "start_time": "2022-01-14T13:41:17.333059Z"
    }
   },
   "outputs": [
    {
     "data": {
      "text/html": [
       "<div>\n",
       "<style scoped>\n",
       "    .dataframe tbody tr th:only-of-type {\n",
       "        vertical-align: middle;\n",
       "    }\n",
       "\n",
       "    .dataframe tbody tr th {\n",
       "        vertical-align: top;\n",
       "    }\n",
       "\n",
       "    .dataframe thead th {\n",
       "        text-align: right;\n",
       "    }\n",
       "</style>\n",
       "<table border=\"1\" class=\"dataframe\">\n",
       "  <thead>\n",
       "    <tr style=\"text-align: right;\">\n",
       "      <th></th>\n",
       "      <th>feature</th>\n",
       "      <th>coef</th>\n",
       "    </tr>\n",
       "  </thead>\n",
       "  <tbody>\n",
       "    <tr>\n",
       "      <th>38</th>\n",
       "      <td>property_A123</td>\n",
       "      <td>0.514532</td>\n",
       "    </tr>\n",
       "    <tr>\n",
       "      <th>11</th>\n",
       "      <td>credit_history_A31</td>\n",
       "      <td>0.459054</td>\n",
       "    </tr>\n",
       "    <tr>\n",
       "      <th>21</th>\n",
       "      <td>purpose_A46</td>\n",
       "      <td>0.435852</td>\n",
       "    </tr>\n",
       "    <tr>\n",
       "      <th>35</th>\n",
       "      <td>other_debtors_or_guarantors_A102</td>\n",
       "      <td>0.429551</td>\n",
       "    </tr>\n",
       "    <tr>\n",
       "      <th>39</th>\n",
       "      <td>property_A124</td>\n",
       "      <td>0.429359</td>\n",
       "    </tr>\n",
       "    <tr>\n",
       "      <th>5</th>\n",
       "      <td>no_of_existing_credits</td>\n",
       "      <td>0.410524</td>\n",
       "    </tr>\n",
       "    <tr>\n",
       "      <th>46</th>\n",
       "      <td>job_A174</td>\n",
       "      <td>0.349022</td>\n",
       "    </tr>\n",
       "    <tr>\n",
       "      <th>44</th>\n",
       "      <td>job_A172</td>\n",
       "      <td>0.340294</td>\n",
       "    </tr>\n",
       "    <tr>\n",
       "      <th>37</th>\n",
       "      <td>property_A122</td>\n",
       "      <td>0.319934</td>\n",
       "    </tr>\n",
       "    <tr>\n",
       "      <th>2</th>\n",
       "      <td>installment_rate_percent</td>\n",
       "      <td>0.287844</td>\n",
       "    </tr>\n",
       "    <tr>\n",
       "      <th>28</th>\n",
       "      <td>present_employment_since_A72</td>\n",
       "      <td>0.227744</td>\n",
       "    </tr>\n",
       "    <tr>\n",
       "      <th>29</th>\n",
       "      <td>present_employment_since_A73</td>\n",
       "      <td>0.206598</td>\n",
       "    </tr>\n",
       "    <tr>\n",
       "      <th>45</th>\n",
       "      <td>job_A173</td>\n",
       "      <td>0.200269</td>\n",
       "    </tr>\n",
       "    <tr>\n",
       "      <th>0</th>\n",
       "      <td>duration_mth</td>\n",
       "      <td>0.042915</td>\n",
       "    </tr>\n",
       "    <tr>\n",
       "      <th>6</th>\n",
       "      <td>no_of_ppl_liable</td>\n",
       "      <td>0.022575</td>\n",
       "    </tr>\n",
       "    <tr>\n",
       "      <th>7</th>\n",
       "      <td>monthly_affordability_amount</td>\n",
       "      <td>0.002181</td>\n",
       "    </tr>\n",
       "    <tr>\n",
       "      <th>1</th>\n",
       "      <td>credit_amount</td>\n",
       "      <td>-0.000032</td>\n",
       "    </tr>\n",
       "    <tr>\n",
       "      <th>4</th>\n",
       "      <td>age_years</td>\n",
       "      <td>-0.011654</td>\n",
       "    </tr>\n",
       "    <tr>\n",
       "      <th>43</th>\n",
       "      <td>housing_A153</td>\n",
       "      <td>-0.018140</td>\n",
       "    </tr>\n",
       "    <tr>\n",
       "      <th>32</th>\n",
       "      <td>personal_status_sex_A92</td>\n",
       "      <td>-0.027704</td>\n",
       "    </tr>\n",
       "    <tr>\n",
       "      <th>34</th>\n",
       "      <td>personal_status_sex_A94</td>\n",
       "      <td>-0.075647</td>\n",
       "    </tr>\n",
       "    <tr>\n",
       "      <th>3</th>\n",
       "      <td>present_residence_since</td>\n",
       "      <td>-0.077324</td>\n",
       "    </tr>\n",
       "    <tr>\n",
       "      <th>36</th>\n",
       "      <td>other_debtors_or_guarantors_A103</td>\n",
       "      <td>-0.131105</td>\n",
       "    </tr>\n",
       "    <tr>\n",
       "      <th>31</th>\n",
       "      <td>present_employment_since_A75</td>\n",
       "      <td>-0.143950</td>\n",
       "    </tr>\n",
       "    <tr>\n",
       "      <th>47</th>\n",
       "      <td>telephone_A192</td>\n",
       "      <td>-0.147038</td>\n",
       "    </tr>\n",
       "    <tr>\n",
       "      <th>25</th>\n",
       "      <td>saving_accounts_or_bonds_A63</td>\n",
       "      <td>-0.184999</td>\n",
       "    </tr>\n",
       "    <tr>\n",
       "      <th>17</th>\n",
       "      <td>purpose_A42</td>\n",
       "      <td>-0.190063</td>\n",
       "    </tr>\n",
       "    <tr>\n",
       "      <th>12</th>\n",
       "      <td>credit_history_A32</td>\n",
       "      <td>-0.238841</td>\n",
       "    </tr>\n",
       "    <tr>\n",
       "      <th>8</th>\n",
       "      <td>existing_checking_account_status_A12</td>\n",
       "      <td>-0.283595</td>\n",
       "    </tr>\n",
       "    <tr>\n",
       "      <th>20</th>\n",
       "      <td>purpose_A45</td>\n",
       "      <td>-0.288276</td>\n",
       "    </tr>\n",
       "    <tr>\n",
       "      <th>19</th>\n",
       "      <td>purpose_A44</td>\n",
       "      <td>-0.315571</td>\n",
       "    </tr>\n",
       "    <tr>\n",
       "      <th>13</th>\n",
       "      <td>credit_history_A33</td>\n",
       "      <td>-0.375249</td>\n",
       "    </tr>\n",
       "    <tr>\n",
       "      <th>24</th>\n",
       "      <td>saving_accounts_or_bonds_A62</td>\n",
       "      <td>-0.385240</td>\n",
       "    </tr>\n",
       "    <tr>\n",
       "      <th>42</th>\n",
       "      <td>housing_A152</td>\n",
       "      <td>-0.416919</td>\n",
       "    </tr>\n",
       "    <tr>\n",
       "      <th>40</th>\n",
       "      <td>other_installment_plans_A142</td>\n",
       "      <td>-0.422250</td>\n",
       "    </tr>\n",
       "    <tr>\n",
       "      <th>30</th>\n",
       "      <td>present_employment_since_A74</td>\n",
       "      <td>-0.459755</td>\n",
       "    </tr>\n",
       "    <tr>\n",
       "      <th>33</th>\n",
       "      <td>personal_status_sex_A93</td>\n",
       "      <td>-0.609679</td>\n",
       "    </tr>\n",
       "    <tr>\n",
       "      <th>22</th>\n",
       "      <td>purpose_A48</td>\n",
       "      <td>-0.614722</td>\n",
       "    </tr>\n",
       "    <tr>\n",
       "      <th>23</th>\n",
       "      <td>purpose_A49</td>\n",
       "      <td>-0.651875</td>\n",
       "    </tr>\n",
       "    <tr>\n",
       "      <th>9</th>\n",
       "      <td>existing_checking_account_status_A13</td>\n",
       "      <td>-0.707865</td>\n",
       "    </tr>\n",
       "    <tr>\n",
       "      <th>16</th>\n",
       "      <td>purpose_A410</td>\n",
       "      <td>-0.714072</td>\n",
       "    </tr>\n",
       "    <tr>\n",
       "      <th>18</th>\n",
       "      <td>purpose_A43</td>\n",
       "      <td>-0.715944</td>\n",
       "    </tr>\n",
       "    <tr>\n",
       "      <th>41</th>\n",
       "      <td>other_installment_plans_A143</td>\n",
       "      <td>-0.725660</td>\n",
       "    </tr>\n",
       "    <tr>\n",
       "      <th>26</th>\n",
       "      <td>saving_accounts_or_bonds_A64</td>\n",
       "      <td>-0.772159</td>\n",
       "    </tr>\n",
       "    <tr>\n",
       "      <th>27</th>\n",
       "      <td>saving_accounts_or_bonds_A65</td>\n",
       "      <td>-1.074036</td>\n",
       "    </tr>\n",
       "    <tr>\n",
       "      <th>14</th>\n",
       "      <td>credit_history_A34</td>\n",
       "      <td>-1.368773</td>\n",
       "    </tr>\n",
       "    <tr>\n",
       "      <th>15</th>\n",
       "      <td>purpose_A41</td>\n",
       "      <td>-1.375347</td>\n",
       "    </tr>\n",
       "    <tr>\n",
       "      <th>10</th>\n",
       "      <td>existing_checking_account_status_A14</td>\n",
       "      <td>-1.537403</td>\n",
       "    </tr>\n",
       "  </tbody>\n",
       "</table>\n",
       "</div>"
      ],
      "text/plain": [
       "                                 feature      coef\n",
       "38                         property_A123  0.514532\n",
       "11                    credit_history_A31  0.459054\n",
       "21                           purpose_A46  0.435852\n",
       "35      other_debtors_or_guarantors_A102  0.429551\n",
       "39                         property_A124  0.429359\n",
       "5                 no_of_existing_credits  0.410524\n",
       "46                              job_A174  0.349022\n",
       "44                              job_A172  0.340294\n",
       "37                         property_A122  0.319934\n",
       "2               installment_rate_percent  0.287844\n",
       "28          present_employment_since_A72  0.227744\n",
       "29          present_employment_since_A73  0.206598\n",
       "45                              job_A173  0.200269\n",
       "0                           duration_mth  0.042915\n",
       "6                       no_of_ppl_liable  0.022575\n",
       "7           monthly_affordability_amount  0.002181\n",
       "1                          credit_amount -0.000032\n",
       "4                              age_years -0.011654\n",
       "43                          housing_A153 -0.018140\n",
       "32               personal_status_sex_A92 -0.027704\n",
       "34               personal_status_sex_A94 -0.075647\n",
       "3                present_residence_since -0.077324\n",
       "36      other_debtors_or_guarantors_A103 -0.131105\n",
       "31          present_employment_since_A75 -0.143950\n",
       "47                        telephone_A192 -0.147038\n",
       "25          saving_accounts_or_bonds_A63 -0.184999\n",
       "17                           purpose_A42 -0.190063\n",
       "12                    credit_history_A32 -0.238841\n",
       "8   existing_checking_account_status_A12 -0.283595\n",
       "20                           purpose_A45 -0.288276\n",
       "19                           purpose_A44 -0.315571\n",
       "13                    credit_history_A33 -0.375249\n",
       "24          saving_accounts_or_bonds_A62 -0.385240\n",
       "42                          housing_A152 -0.416919\n",
       "40          other_installment_plans_A142 -0.422250\n",
       "30          present_employment_since_A74 -0.459755\n",
       "33               personal_status_sex_A93 -0.609679\n",
       "22                           purpose_A48 -0.614722\n",
       "23                           purpose_A49 -0.651875\n",
       "9   existing_checking_account_status_A13 -0.707865\n",
       "16                          purpose_A410 -0.714072\n",
       "18                           purpose_A43 -0.715944\n",
       "41          other_installment_plans_A143 -0.725660\n",
       "26          saving_accounts_or_bonds_A64 -0.772159\n",
       "27          saving_accounts_or_bonds_A65 -1.074036\n",
       "14                    credit_history_A34 -1.368773\n",
       "15                           purpose_A41 -1.375347\n",
       "10  existing_checking_account_status_A14 -1.537403"
      ]
     },
     "execution_count": 10,
     "metadata": {},
     "output_type": "execute_result"
    }
   ],
   "source": [
    "model.fit(X_train1, y_train)\n",
    "coef_series = pd.Series(model.coef_.reshape(-1), name='coef')\n",
    "feature_names_series = pd.Series(model.feature_names_in_, name='feature')\n",
    "\n",
    "df_feature_importance = pd.concat([feature_names_series, coef_series], axis=1)\n",
    "df_feature_importance.sort_values(by='coef', ascending=False)"
   ]
  },
  {
   "cell_type": "markdown",
   "id": "ae0b1025",
   "metadata": {},
   "source": [
    "## Decision Tree"
   ]
  },
  {
   "cell_type": "markdown",
   "id": "911a5db4",
   "metadata": {},
   "source": [
    "### Without Balanced"
   ]
  },
  {
   "cell_type": "code",
   "execution_count": 11,
   "id": "db360a48",
   "metadata": {
    "ExecuteTime": {
     "end_time": "2022-01-14T13:41:17.586400Z",
     "start_time": "2022-01-14T13:41:17.393110Z"
    }
   },
   "outputs": [
    {
     "name": "stdout",
     "output_type": "stream",
     "text": [
      "Model: Decision Tree without Balanced\n",
      "Cross Validation Performance\n",
      "CV Mean ROC AUC: 0.7166\n",
      "CV Variance ROC AUC: 0.0034\n",
      "\n",
      "\n",
      "Test Performance\n",
      "Test AUC: 0.6687\n",
      "\n",
      "\n",
      "              precision    recall  f1-score   support\n",
      "\n",
      "           0       0.79      0.88      0.83       211\n",
      "           1       0.61      0.46      0.53        89\n",
      "\n",
      "    accuracy                           0.75       300\n",
      "   macro avg       0.70      0.67      0.68       300\n",
      "weighted avg       0.74      0.75      0.74       300\n",
      "\n"
     ]
    }
   ],
   "source": [
    "model = DecisionTreeClassifier(random_state=SEED,\n",
    "                               criterion='entropy',\n",
    "                               min_samples_split=100,\n",
    "                               )\n",
    "\n",
    "display_model_scores(model, X_train1, y_train, X_test1, y_test,\n",
    "                     'Decision Tree without Balanced')"
   ]
  },
  {
   "cell_type": "markdown",
   "id": "0e540682",
   "metadata": {},
   "source": [
    "### Balanced"
   ]
  },
  {
   "cell_type": "code",
   "execution_count": 12,
   "id": "e76568f3",
   "metadata": {
    "ExecuteTime": {
     "end_time": "2022-01-14T13:41:17.739598Z",
     "start_time": "2022-01-14T13:41:17.588253Z"
    }
   },
   "outputs": [
    {
     "name": "stdout",
     "output_type": "stream",
     "text": [
      "Model: Decision Tree Balanced\n",
      "Cross Validation Performance\n",
      "CV Mean ROC AUC: 0.7168\n",
      "CV Variance ROC AUC: 0.0036\n",
      "\n",
      "\n",
      "Test Performance\n",
      "Test AUC: 0.6363\n",
      "\n",
      "\n",
      "              precision    recall  f1-score   support\n",
      "\n",
      "           0       0.81      0.62      0.70       211\n",
      "           1       0.42      0.65      0.51        89\n",
      "\n",
      "    accuracy                           0.63       300\n",
      "   macro avg       0.61      0.64      0.61       300\n",
      "weighted avg       0.69      0.63      0.65       300\n",
      "\n"
     ]
    }
   ],
   "source": [
    "model = DecisionTreeClassifier(random_state=SEED,\n",
    "                               criterion='entropy',\n",
    "                               min_samples_split=100,\n",
    "                               class_weight='balanced'\n",
    "                               )\n",
    "\n",
    "display_model_scores(model, X_train1, y_train, X_test1, y_test,\n",
    "                     'Decision Tree Balanced')"
   ]
  },
  {
   "cell_type": "code",
   "execution_count": 13,
   "id": "93334d6b",
   "metadata": {
    "ExecuteTime": {
     "end_time": "2022-01-14T13:41:17.757100Z",
     "start_time": "2022-01-14T13:41:17.740959Z"
    }
   },
   "outputs": [
    {
     "data": {
      "text/html": [
       "<div>\n",
       "<style scoped>\n",
       "    .dataframe tbody tr th:only-of-type {\n",
       "        vertical-align: middle;\n",
       "    }\n",
       "\n",
       "    .dataframe tbody tr th {\n",
       "        vertical-align: top;\n",
       "    }\n",
       "\n",
       "    .dataframe thead th {\n",
       "        text-align: right;\n",
       "    }\n",
       "</style>\n",
       "<table border=\"1\" class=\"dataframe\">\n",
       "  <thead>\n",
       "    <tr style=\"text-align: right;\">\n",
       "      <th></th>\n",
       "      <th>features</th>\n",
       "      <th>feature_importance</th>\n",
       "    </tr>\n",
       "  </thead>\n",
       "  <tbody>\n",
       "    <tr>\n",
       "      <th>10</th>\n",
       "      <td>existing_checking_account_status_A14</td>\n",
       "      <td>0.376498</td>\n",
       "    </tr>\n",
       "    <tr>\n",
       "      <th>0</th>\n",
       "      <td>duration_mth</td>\n",
       "      <td>0.188147</td>\n",
       "    </tr>\n",
       "    <tr>\n",
       "      <th>41</th>\n",
       "      <td>other_installment_plans_A143</td>\n",
       "      <td>0.088733</td>\n",
       "    </tr>\n",
       "    <tr>\n",
       "      <th>14</th>\n",
       "      <td>credit_history_A34</td>\n",
       "      <td>0.085541</td>\n",
       "    </tr>\n",
       "    <tr>\n",
       "      <th>7</th>\n",
       "      <td>monthly_affordability_amount</td>\n",
       "      <td>0.076667</td>\n",
       "    </tr>\n",
       "    <tr>\n",
       "      <th>27</th>\n",
       "      <td>saving_accounts_or_bonds_A65</td>\n",
       "      <td>0.076289</td>\n",
       "    </tr>\n",
       "    <tr>\n",
       "      <th>15</th>\n",
       "      <td>purpose_A41</td>\n",
       "      <td>0.043982</td>\n",
       "    </tr>\n",
       "    <tr>\n",
       "      <th>26</th>\n",
       "      <td>saving_accounts_or_bonds_A64</td>\n",
       "      <td>0.038232</td>\n",
       "    </tr>\n",
       "    <tr>\n",
       "      <th>39</th>\n",
       "      <td>property_A124</td>\n",
       "      <td>0.025913</td>\n",
       "    </tr>\n",
       "  </tbody>\n",
       "</table>\n",
       "</div>"
      ],
      "text/plain": [
       "                                features  feature_importance\n",
       "10  existing_checking_account_status_A14            0.376498\n",
       "0                           duration_mth            0.188147\n",
       "41          other_installment_plans_A143            0.088733\n",
       "14                    credit_history_A34            0.085541\n",
       "7           monthly_affordability_amount            0.076667\n",
       "27          saving_accounts_or_bonds_A65            0.076289\n",
       "15                           purpose_A41            0.043982\n",
       "26          saving_accounts_or_bonds_A64            0.038232\n",
       "39                         property_A124            0.025913"
      ]
     },
     "execution_count": 13,
     "metadata": {},
     "output_type": "execute_result"
    }
   ],
   "source": [
    "model.fit(X_train1, y_train)\n",
    "feature_importance_series = pd.Series(model.feature_importances_, name='feature_importance')\n",
    "feature_series = pd.Series(model.feature_names_in_, name='features')\n",
    "\n",
    "df_feature_importance = pd.concat([feature_series, feature_importance_series], axis=1)\n",
    "df_feature_importance = df_feature_importance.sort_values(by='feature_importance', ascending=False)\n",
    "\n",
    "mask = df_feature_importance.feature_importance > 0\n",
    "df_feature_importance.loc[mask, :]"
   ]
  },
  {
   "cell_type": "markdown",
   "id": "bc2f4dc8",
   "metadata": {},
   "source": [
    "## SVM"
   ]
  },
  {
   "cell_type": "markdown",
   "id": "72305793",
   "metadata": {},
   "source": [
    "### Without Balanced"
   ]
  },
  {
   "cell_type": "code",
   "execution_count": 14,
   "id": "4bb81ac6",
   "metadata": {
    "ExecuteTime": {
     "end_time": "2022-01-14T13:41:19.539769Z",
     "start_time": "2022-01-14T13:41:17.759138Z"
    }
   },
   "outputs": [
    {
     "name": "stdout",
     "output_type": "stream",
     "text": [
      "Model: SVM without Balanced\n",
      "Cross Validation Performance\n",
      "CV Mean ROC AUC: 0.5751\n",
      "CV Variance ROC AUC: 0.0067\n",
      "\n",
      "\n",
      "Test Performance\n",
      "Test AUC: 0.5234\n",
      "\n",
      "\n",
      "              precision    recall  f1-score   support\n",
      "\n",
      "           0       0.71      0.99      0.83       211\n",
      "           1       0.71      0.06      0.10        89\n",
      "\n",
      "    accuracy                           0.71       300\n",
      "   macro avg       0.71      0.52      0.47       300\n",
      "weighted avg       0.71      0.71      0.61       300\n",
      "\n"
     ]
    }
   ],
   "source": [
    "model = SVC(random_state=SEED,\n",
    "            kernel='rbf', \n",
    "            C=2,\n",
    "            probability=True,\n",
    "           )\n",
    "display_model_scores(model, X_train1, y_train, X_test1, y_test,\n",
    "                     'SVM without Balanced')"
   ]
  },
  {
   "cell_type": "markdown",
   "id": "175bfc42",
   "metadata": {},
   "source": [
    "### Balanced"
   ]
  },
  {
   "cell_type": "code",
   "execution_count": 15,
   "id": "1f4673f1",
   "metadata": {
    "ExecuteTime": {
     "end_time": "2022-01-14T13:41:21.365068Z",
     "start_time": "2022-01-14T13:41:19.541747Z"
    }
   },
   "outputs": [
    {
     "name": "stdout",
     "output_type": "stream",
     "text": [
      "Model: SVM Balanced\n",
      "Cross Validation Performance\n",
      "CV Mean ROC AUC: 0.5904\n",
      "CV Variance ROC AUC: 0.0064\n",
      "\n",
      "\n",
      "Test Performance\n",
      "Test AUC: 0.5418\n",
      "\n",
      "\n",
      "              precision    recall  f1-score   support\n",
      "\n",
      "           0       0.73      0.79      0.76       211\n",
      "           1       0.37      0.29      0.33        89\n",
      "\n",
      "    accuracy                           0.64       300\n",
      "   macro avg       0.55      0.54      0.54       300\n",
      "weighted avg       0.62      0.64      0.63       300\n",
      "\n"
     ]
    }
   ],
   "source": [
    "model = SVC(random_state=SEED,\n",
    "            kernel='rbf', \n",
    "            C=2,\n",
    "            probability=True,\n",
    "            class_weight='balanced'\n",
    "           )\n",
    "display_model_scores(model, X_train1, y_train, X_test1, y_test,\n",
    "                     'SVM Balanced')"
   ]
  }
 ],
 "metadata": {
  "kernelspec": {
   "display_name": "research",
   "language": "python",
   "name": "research"
  },
  "language_info": {
   "codemirror_mode": {
    "name": "ipython",
    "version": 3
   },
   "file_extension": ".py",
   "mimetype": "text/x-python",
   "name": "python",
   "nbconvert_exporter": "python",
   "pygments_lexer": "ipython3",
   "version": "3.9.7"
  },
  "toc": {
   "base_numbering": 1,
   "nav_menu": {},
   "number_sections": true,
   "sideBar": true,
   "skip_h1_title": false,
   "title_cell": "Table of Contents",
   "title_sidebar": "Contents",
   "toc_cell": false,
   "toc_position": {
    "height": "calc(100% - 180px)",
    "left": "10px",
    "top": "150px",
    "width": "213px"
   },
   "toc_section_display": true,
   "toc_window_display": false
  },
  "varInspector": {
   "cols": {
    "lenName": 16,
    "lenType": 16,
    "lenVar": 40
   },
   "kernels_config": {
    "python": {
     "delete_cmd_postfix": "",
     "delete_cmd_prefix": "del ",
     "library": "var_list.py",
     "varRefreshCmd": "print(var_dic_list())"
    },
    "r": {
     "delete_cmd_postfix": ") ",
     "delete_cmd_prefix": "rm(",
     "library": "var_list.r",
     "varRefreshCmd": "cat(var_dic_list()) "
    }
   },
   "types_to_exclude": [
    "module",
    "function",
    "builtin_function_or_method",
    "instance",
    "_Feature"
   ],
   "window_display": false
  }
 },
 "nbformat": 4,
 "nbformat_minor": 5
}
