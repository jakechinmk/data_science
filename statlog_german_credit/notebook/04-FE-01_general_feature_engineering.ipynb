{
 "cells": [
  {
   "cell_type": "markdown",
   "id": "8de24b01",
   "metadata": {},
   "source": [
    "# Setup"
   ]
  },
  {
   "cell_type": "markdown",
   "id": "60154122",
   "metadata": {},
   "source": [
    "## Import Libraries"
   ]
  },
  {
   "cell_type": "code",
   "execution_count": 1,
   "id": "b4d05191",
   "metadata": {
    "ExecuteTime": {
     "end_time": "2022-01-17T02:50:47.962486Z",
     "start_time": "2022-01-17T02:50:46.426530Z"
    }
   },
   "outputs": [],
   "source": [
    "import numpy as np\n",
    "import pandas as pd\n",
    "\n",
    "import matplotlib.pyplot as plt\n",
    "import seaborn as sns\n",
    "\n",
    "import os\n",
    "import joblib\n",
    "\n",
    "from sklearn.pipeline import Pipeline\n",
    "from sklearn.model_selection import train_test_split\n",
    "from sklearn.preprocessing import StandardScaler\n",
    "\n",
    "import feature_engine.encoding as enc\n",
    "import feature_engine.transformation as trans\n",
    "from feature_engine.wrappers import SklearnTransformerWrapper\n",
    "\n",
    "from imblearn.pipeline import Pipeline as ImbPipeline\n",
    "from imblearn.over_sampling import SMOTENC"
   ]
  },
  {
   "cell_type": "markdown",
   "id": "11009d7a",
   "metadata": {},
   "source": [
    "## Global Configuration"
   ]
  },
  {
   "cell_type": "code",
   "execution_count": 2,
   "id": "e653bad9",
   "metadata": {
    "ExecuteTime": {
     "end_time": "2022-01-17T02:50:47.967000Z",
     "start_time": "2022-01-17T02:50:47.964183Z"
    }
   },
   "outputs": [],
   "source": [
    "INPUT_DIR = '../data/input/'\n",
    "INPUT_PATH = f'{INPUT_DIR}german_data.csv'\n",
    "OUTPUT_DIR = INPUT_DIR\n",
    "EDA_DIR = '../data/EDA/'\n",
    "FEATURE_DIR = '../data/feature/step1/'\n",
    "PIPELINE_DIR = '../data/pipeline/step1/'\n",
    "OUTPUT = True\n",
    "SEED = 888"
   ]
  },
  {
   "cell_type": "code",
   "execution_count": 3,
   "id": "da49a1a8",
   "metadata": {
    "ExecuteTime": {
     "end_time": "2022-01-17T02:50:47.971925Z",
     "start_time": "2022-01-17T02:50:47.969052Z"
    }
   },
   "outputs": [],
   "source": [
    "if not os.path.exists(FEATURE_DIR):\n",
    "    os.makedirs(FEATURE_DIR)\n",
    "    \n",
    "if not os.path.exists(PIPELINE_DIR):\n",
    "    os.makedirs(PIPELINE_DIR)"
   ]
  },
  {
   "cell_type": "code",
   "execution_count": 4,
   "id": "42a8423d",
   "metadata": {
    "ExecuteTime": {
     "end_time": "2022-01-17T02:50:47.978380Z",
     "start_time": "2022-01-17T02:50:47.973678Z"
    }
   },
   "outputs": [],
   "source": [
    "pd.options.display.max_columns = None"
   ]
  },
  {
   "cell_type": "markdown",
   "id": "a7982c81",
   "metadata": {},
   "source": [
    "## Global Function"
   ]
  },
  {
   "cell_type": "code",
   "execution_count": 5,
   "id": "d2d26783",
   "metadata": {
    "ExecuteTime": {
     "end_time": "2022-01-17T02:50:47.994889Z",
     "start_time": "2022-01-17T02:50:47.980992Z"
    }
   },
   "outputs": [],
   "source": [
    "from typing import List, Optional, Union\n",
    "from sklearn.base import BaseEstimator, TransformerMixin, clone\n",
    "\n",
    "from feature_engine.dataframe_checks import (\n",
    "    _check_input_matches_training_df,\n",
    "    _is_dataframe,\n",
    ")\n",
    "from feature_engine.validation import _return_tags\n",
    "from feature_engine.variable_manipulation import (\n",
    "    _check_input_parameter_variables,\n",
    "    _find_all_variables,\n",
    "    _find_or_check_numerical_variables,\n",
    ")\n",
    "\n",
    "class Scaler(BaseEstimator, TransformerMixin):\n",
    "    def __init__(\n",
    "        self,\n",
    "        transformer,\n",
    "        variables: Union[None, int, str, List[Union[str, int]]] = None,\n",
    "    ) -> None:\n",
    "\n",
    "        if not issubclass(transformer.__class__, BaseEstimator):\n",
    "            raise TypeError(\n",
    "                \"transformer expected a Scikit-learn transformer, \"\n",
    "                f\"got {transformer} instead.\"\n",
    "            )\n",
    "\n",
    "        self.transformer = transformer\n",
    "        self.variables = _check_input_parameter_variables(variables)\n",
    "\n",
    "    def fit(self, X: pd.DataFrame, y: Optional[str] = None):\n",
    "        \"\"\"\n",
    "        Fits the Scikit-learn transformer to the selected variables.\n",
    "        Parameters\n",
    "        ----------\n",
    "        X: Pandas DataFrame\n",
    "            The dataset to fit the transformer.\n",
    "        y: pandas Series, default=None\n",
    "            The target variable.\n",
    "        \"\"\"\n",
    "\n",
    "        # check input dataframe\n",
    "        X = _is_dataframe(X)\n",
    "\n",
    "        self.transformer_ = clone(self.transformer)\n",
    "\n",
    "        if (\n",
    "            self.transformer_.__class__.__name__ == \"OneHotEncoder\"\n",
    "            and self.transformer_.sparse\n",
    "        ):\n",
    "            raise AttributeError(\n",
    "                \"The SklearnTransformerWrapper can only wrap the OneHotEncoder if you \"\n",
    "                \"set its sparse attribute to False\"\n",
    "            )\n",
    "\n",
    "        if self.transformer_.__class__.__name__ in [\n",
    "            \"OneHotEncoder\",\n",
    "            \"OrdinalEncoder\",\n",
    "            \"SimpleImputer\",\n",
    "        ]:\n",
    "            self.variables_ = _find_all_variables(X, self.variables)\n",
    "\n",
    "        else:\n",
    "            self.variables_ = _find_or_check_numerical_variables(X, self.variables)\n",
    "\n",
    "        self.transformer_.fit(X[self.variables_], y)\n",
    "\n",
    "        self.n_features_in_ = X.shape[1]\n",
    "\n",
    "        return self\n",
    "\n",
    "    def transform(self, X: pd.DataFrame) -> pd.DataFrame:\n",
    "        \"\"\"\n",
    "        Apply the transformation to the dataframe. Only the selected variables will be\n",
    "        modified.\n",
    "        **Note**\n",
    "        If the Scikit-learn transformer is the OneHotEncoder, the dummy features will\n",
    "        be concatenated to the input dataset. Note that the original categorical\n",
    "        variables will not be removed from the dataset after encoding. If this is the\n",
    "        desired effect, please use Feature-engine's OneHotEncoder instead.\n",
    "        Parameters\n",
    "        ----------\n",
    "        X: Pandas DataFrame\n",
    "            The data to transform\n",
    "        Returns\n",
    "        -------\n",
    "        X_new: Pandas DataFrame\n",
    "            The transformed dataset.\n",
    "        \"\"\"\n",
    "\n",
    "        # check that input is a dataframe\n",
    "        X = _is_dataframe(X)\n",
    "\n",
    "        # Check that input data contains same number of columns than\n",
    "        # the dataframe used to fit the imputer.\n",
    "\n",
    "        _check_input_matches_training_df(X, self.n_features_in_)\n",
    "\n",
    "        if self.transformer_.__class__.__name__ == \"OneHotEncoder\":\n",
    "            ohe_results_as_df = pd.DataFrame(\n",
    "                data=self.transformer_.transform(X[self.variables_]),\n",
    "                columns=self.transformer_.get_feature_names(self.variables_),\n",
    "            )\n",
    "            X = pd.concat([X, ohe_results_as_df], axis=1)\n",
    "\n",
    "        elif self.transformer_.__class__.__name__ in [\n",
    "            \"SelectKBest\",\n",
    "            \"SelectPercentile\",\n",
    "            \"SelectFromModel\",\n",
    "        ]:\n",
    "\n",
    "            # the variables selected by the transformer\n",
    "            selected_variables = X.columns[self.transformer_.get_support(indices=True)]\n",
    "\n",
    "            # the variables that were not examined, in case there are any\n",
    "            remaining_variables = [\n",
    "                var for var in X.columns if var not in self.variables_\n",
    "            ]\n",
    "\n",
    "            X = X[list(selected_variables) + list(remaining_variables)]\n",
    "\n",
    "        else:\n",
    "            X[self.variables_] = self.transformer_.transform(X[self.variables_])\n",
    "\n",
    "        return X\n",
    "\n",
    "    def _more_tags(self):\n",
    "        tags_dict = _return_tags()\n",
    "        # add additional test that fails\n",
    "        tags_dict[\"_xfail_checks\"][\"check_estimators_nan_inf\"] = \"transformer allows NA\"\n",
    "        tags_dict[\"_xfail_checks\"][\n",
    "            \"check_parameters_default_constructible\"\n",
    "        ] = \"transformer has 1 mandatory parameter\"\n",
    "        return tags_dict\n",
    "    \n",
    "    def inverse_transform(self, X: pd.DataFrame) -> pd.DataFrame:\n",
    "        X = _is_dataframe(X)\n",
    "        \n",
    "        _check_input_matches_training_df(X, self.n_features_in_)\n",
    "        \n",
    "        X_scaled = pd.DataFrame(\n",
    "            self.transformer_.inverse_transform(X.loc[:, self.variables_]),\n",
    "            columns=self.variables_,\n",
    "            index=X.index\n",
    "        )\n",
    "        remaining_variables = [\n",
    "            var for var in X.columns if var not in self.variables_\n",
    "        ]\n",
    "        df = pd.concat([X_scaled, X.loc[:, remaining_variables]], axis=1)\n",
    "        return df\n",
    "    "
   ]
  },
  {
   "cell_type": "code",
   "execution_count": 6,
   "id": "ec896de2",
   "metadata": {
    "ExecuteTime": {
     "end_time": "2022-01-17T02:50:48.003254Z",
     "start_time": "2022-01-17T02:50:47.996671Z"
    }
   },
   "outputs": [],
   "source": [
    "def output_file(file_name, df_train, df_test, pipeline):\n",
    "    df_train.to_csv(f'{FEATURE_DIR}{file_name}_train.csv', index=False)\n",
    "    df_test.to_csv(f'{FEATURE_DIR}{file_name}_test.csv', index=False)\n",
    "    joblib.dump(pipeline, f'{PIPELINE_DIR}{file_name}.pkl')\n",
    "    print('Done')"
   ]
  },
  {
   "cell_type": "markdown",
   "id": "0aa81ffe",
   "metadata": {},
   "source": [
    "# Data"
   ]
  },
  {
   "cell_type": "code",
   "execution_count": 7,
   "id": "57cec775",
   "metadata": {
    "ExecuteTime": {
     "end_time": "2022-01-17T02:50:48.022519Z",
     "start_time": "2022-01-17T02:50:48.006739Z"
    }
   },
   "outputs": [],
   "source": [
    "cols = ['foreign_worker']\n",
    "df = pd.read_csv(INPUT_PATH).drop(cols, axis=1)\n",
    "df_train, df_test = train_test_split(df,\n",
    "                                     test_size=0.3,\n",
    "                                     random_state=SEED)\n"
   ]
  },
  {
   "cell_type": "code",
   "execution_count": 8,
   "id": "58b0aa62",
   "metadata": {
    "ExecuteTime": {
     "end_time": "2022-01-17T02:50:48.031172Z",
     "start_time": "2022-01-17T02:50:48.024318Z"
    }
   },
   "outputs": [],
   "source": [
    "X_train = df_train.drop('label', axis=1)\n",
    "y_train = df_train.label\n",
    "\n",
    "X_test = df_test.drop('label', axis=1)\n",
    "y_test = df_test.label"
   ]
  },
  {
   "cell_type": "code",
   "execution_count": 9,
   "id": "ccf72b6e",
   "metadata": {
    "ExecuteTime": {
     "end_time": "2022-01-17T02:50:48.045182Z",
     "start_time": "2022-01-17T02:50:48.033987Z"
    }
   },
   "outputs": [
    {
     "data": {
      "text/plain": [
       "700"
      ]
     },
     "metadata": {},
     "output_type": "display_data"
    },
    {
     "data": {
      "text/plain": [
       "0    0.698571\n",
       "1    0.301429\n",
       "Name: label, dtype: float64"
      ]
     },
     "metadata": {},
     "output_type": "display_data"
    }
   ],
   "source": [
    "display(\n",
    "    y_train.shape[0],\n",
    "    y_train.value_counts(normalize=True)\n",
    ")"
   ]
  },
  {
   "cell_type": "code",
   "execution_count": 10,
   "id": "e67294cc",
   "metadata": {
    "ExecuteTime": {
     "end_time": "2022-01-17T02:50:48.053759Z",
     "start_time": "2022-01-17T02:50:48.046655Z"
    }
   },
   "outputs": [
    {
     "data": {
      "text/plain": [
       "300"
      ]
     },
     "metadata": {},
     "output_type": "display_data"
    },
    {
     "data": {
      "text/plain": [
       "0    0.703333\n",
       "1    0.296667\n",
       "Name: label, dtype: float64"
      ]
     },
     "metadata": {},
     "output_type": "display_data"
    }
   ],
   "source": [
    "display(\n",
    "    y_test.shape[0],\n",
    "    y_test.value_counts(normalize=True)\n",
    ")"
   ]
  },
  {
   "cell_type": "code",
   "execution_count": 11,
   "id": "7cf97810",
   "metadata": {
    "ExecuteTime": {
     "end_time": "2022-01-17T02:50:48.064982Z",
     "start_time": "2022-01-17T02:50:48.055413Z"
    }
   },
   "outputs": [
    {
     "name": "stdout",
     "output_type": "stream",
     "text": [
      "Categorical Columns: ['existing_checking_account_status', 'credit_history', 'purpose', 'saving_accounts_or_bonds', 'present_employment_since', 'personal_status_sex', 'other_debtors_or_guarantors', 'property', 'other_installment_plans', 'housing', 'job', 'telephone']\n",
      "Numerical Columns: ['duration_mth', 'credit_amount', 'installment_rate_percent', 'present_residence_since', 'age_years', 'no_of_existing_credits', 'no_of_ppl_liable', 'monthly_affordability_amount']\n",
      "Ordinal Columns: ['installment_rate_percent', 'present_residence_since', 'no_of_existing_credits', 'no_of_ppl_liable']\n",
      "Continuous Columns: ['duration_mth', 'credit_amount', 'age_years', 'monthly_affordability_amount']\n"
     ]
    }
   ],
   "source": [
    "categorical_cols = X_train.select_dtypes(object).columns.tolist()\n",
    "numerical_cols = [col for col in X_train.columns if col not in categorical_cols]\n",
    "\n",
    "ordinal_cols = [col for col in numerical_cols if X_train.loc[:, col].nunique() <= 5]\n",
    "continuous_cols = [col for col in numerical_cols if col not in ordinal_cols]\n",
    "\n",
    "print(f'Categorical Columns: {categorical_cols}')\n",
    "print(f'Numerical Columns: {numerical_cols}')\n",
    "print(f'Ordinal Columns: {ordinal_cols}')\n",
    "print(f'Continuous Columns: {continuous_cols}')"
   ]
  },
  {
   "cell_type": "markdown",
   "id": "a4acd474",
   "metadata": {},
   "source": [
    "# Exploration"
   ]
  },
  {
   "cell_type": "code",
   "execution_count": 12,
   "id": "bc94695e",
   "metadata": {
    "ExecuteTime": {
     "end_time": "2022-01-17T02:50:48.092725Z",
     "start_time": "2022-01-17T02:50:48.067346Z"
    }
   },
   "outputs": [
    {
     "name": "stdout",
     "output_type": "stream",
     "text": [
      "A14    0.398571\n",
      "A12    0.275714\n",
      "A11    0.265714\n",
      "A13    0.060000\n",
      "Name: existing_checking_account_status, dtype: float64\n",
      "\n",
      "\n",
      "A32    0.521429\n",
      "A34    0.300000\n",
      "A33    0.092857\n",
      "A31    0.048571\n",
      "A30    0.037143\n",
      "Name: credit_history, dtype: float64\n",
      "\n",
      "\n",
      "A43     0.282857\n",
      "A40     0.247143\n",
      "A42     0.167143\n",
      "A41     0.107143\n",
      "A49     0.100000\n",
      "A46     0.051429\n",
      "A45     0.018571\n",
      "A44     0.011429\n",
      "A48     0.008571\n",
      "A410    0.005714\n",
      "Name: purpose, dtype: float64\n",
      "\n",
      "\n",
      "A61    0.605714\n",
      "A65    0.178571\n",
      "A62    0.104286\n",
      "A63    0.065714\n",
      "A64    0.045714\n",
      "Name: saving_accounts_or_bonds, dtype: float64\n",
      "\n",
      "\n",
      "A73    0.337143\n",
      "A75    0.250000\n",
      "A72    0.185714\n",
      "A74    0.172857\n",
      "A71    0.054286\n",
      "Name: present_employment_since, dtype: float64\n",
      "\n",
      "\n",
      "A93    0.540000\n",
      "A92    0.304286\n",
      "A94    0.102857\n",
      "A91    0.052857\n",
      "Name: personal_status_sex, dtype: float64\n",
      "\n",
      "\n",
      "A101    0.911429\n",
      "A103    0.047143\n",
      "A102    0.041429\n",
      "Name: other_debtors_or_guarantors, dtype: float64\n",
      "\n",
      "\n",
      "A123    0.335714\n",
      "A121    0.288571\n",
      "A122    0.224286\n",
      "A124    0.151429\n",
      "Name: property, dtype: float64\n",
      "\n",
      "\n",
      "A143    0.828571\n",
      "A141    0.128571\n",
      "A142    0.042857\n",
      "Name: other_installment_plans, dtype: float64\n",
      "\n",
      "\n",
      "A152    0.717143\n",
      "A151    0.177143\n",
      "A153    0.105714\n",
      "Name: housing, dtype: float64\n",
      "\n",
      "\n",
      "A173    0.627143\n",
      "A172    0.207143\n",
      "A174    0.142857\n",
      "A171    0.022857\n",
      "Name: job, dtype: float64\n",
      "\n",
      "\n",
      "A191    0.605714\n",
      "A192    0.394286\n",
      "Name: telephone, dtype: float64\n",
      "\n",
      "\n"
     ]
    }
   ],
   "source": [
    "for col in categorical_cols:\n",
    "    print(X_train.loc[:, col].value_counts(normalize=True))\n",
    "    print('\\n')"
   ]
  },
  {
   "cell_type": "code",
   "execution_count": 13,
   "id": "a9e5bb41",
   "metadata": {
    "ExecuteTime": {
     "end_time": "2022-01-17T02:50:48.976833Z",
     "start_time": "2022-01-17T02:50:48.094359Z"
    }
   },
   "outputs": [
    {
     "data": {
      "image/png": "[encoded data removed]",
      "text/plain": [
       "<Figure size 432x288 with 9 Axes>"
      ]
     },
     "metadata": {
      "needs_background": "light"
     },
     "output_type": "display_data"
    }
   ],
   "source": [
    "X_train.hist()\n",
    "plt.tight_layout()\n",
    "plt.show()"
   ]
  },
  {
   "cell_type": "markdown",
   "id": "65ea2aab",
   "metadata": {},
   "source": [
    "# Feature Engineering"
   ]
  },
  {
   "cell_type": "code",
   "execution_count": 14,
   "id": "8ae5ca88",
   "metadata": {
    "ExecuteTime": {
     "end_time": "2022-01-17T02:50:48.982128Z",
     "start_time": "2022-01-17T02:50:48.978605Z"
    }
   },
   "outputs": [],
   "source": [
    "cols = ordinal_cols + categorical_cols\n",
    "categorical_cols_index = [col in cols for col in X_train.columns]"
   ]
  },
  {
   "cell_type": "code",
   "execution_count": 15,
   "id": "93350bc8",
   "metadata": {
    "ExecuteTime": {
     "end_time": "2022-01-17T02:50:48.988424Z",
     "start_time": "2022-01-17T02:50:48.983861Z"
    }
   },
   "outputs": [],
   "source": [
    "rare_encoder = enc.RareLabelEncoder(\n",
    "    variables=categorical_cols,\n",
    "    n_categories=1,\n",
    "    max_n_categories=4,\n",
    "    replace_with='RARE'\n",
    ")\n",
    "\n",
    "freq_encoder = enc.CountFrequencyEncoder(\n",
    "    encoding_method='frequency',\n",
    "    variables=categorical_cols,\n",
    ")\n",
    "\n",
    "ordinal_encoder = enc.OrdinalEncoder(\n",
    "    encoding_method='ordered',\n",
    "    variables=categorical_cols\n",
    ")\n",
    "\n",
    "log_transformer = trans.LogTransformer(\n",
    "    variables=continuous_cols,\n",
    ")\n",
    "\n",
    "scaler = Scaler(\n",
    "    transformer=StandardScaler(), \n",
    "    variables=continuous_cols\n",
    ")\n",
    "\n",
    "smote = SMOTENC(\n",
    "    random_state=SEED,\n",
    "    categorical_features=categorical_cols_index,\n",
    "    n_jobs=-1,\n",
    "    k_neighbors=100\n",
    ")"
   ]
  },
  {
   "cell_type": "markdown",
   "id": "16023135",
   "metadata": {},
   "source": [
    "## Numerical Pipeline (Log + Scaling)"
   ]
  },
  {
   "cell_type": "code",
   "execution_count": 16,
   "id": "1371703f",
   "metadata": {
    "ExecuteTime": {
     "end_time": "2022-01-17T02:50:49.058906Z",
     "start_time": "2022-01-17T02:50:48.990252Z"
    }
   },
   "outputs": [
    {
     "name": "stdout",
     "output_type": "stream",
     "text": [
      "Done\n"
     ]
    }
   ],
   "source": [
    "steps = [\n",
    "    ('Log Transformation', log_transformer),\n",
    "    ('Standard Scaling', scaler),\n",
    "]\n",
    "\n",
    "pipeline_numeric = Pipeline(steps=steps)\n",
    "pipeline_numeric.fit(X_train, y_train)\n",
    "\n",
    "X_train_transform = pipeline_numeric.transform(X_train)\n",
    "X_test_transform = pipeline_numeric.transform(X_test)\n",
    "\n",
    "df_train_transform = pd.concat([X_train_transform, y_train], axis=1)\n",
    "df_test_transform = pd.concat([X_test_transform, y_test], axis=1)\n",
    "\n",
    "file_name = '01_pipeline_numeric'\n",
    "if OUTPUT:\n",
    "    output_file(file_name, df_train_transform, df_test_transform, pipeline_numeric)"
   ]
  },
  {
   "cell_type": "markdown",
   "id": "47fea58b",
   "metadata": {},
   "source": [
    "## SMOTE"
   ]
  },
  {
   "cell_type": "code",
   "execution_count": 17,
   "id": "83f63ee3",
   "metadata": {
    "ExecuteTime": {
     "end_time": "2022-01-17T02:50:49.276245Z",
     "start_time": "2022-01-17T02:50:49.060355Z"
    }
   },
   "outputs": [
    {
     "name": "stdout",
     "output_type": "stream",
     "text": [
      "Done\n"
     ]
    }
   ],
   "source": [
    "steps = [\n",
    "    ('SMOTENC', smote)\n",
    "]\n",
    "pipeline_smote = ImbPipeline(steps=steps)\n",
    "X_train_smote, y_train_smote = pipeline_smote.fit_resample(X_train_transform, y_train)\n",
    "\n",
    "df_train_smote = pd.concat([X_train_smote, y_train_smote], axis=1)\n",
    "\n",
    "file_name = '02_pipeline_smote'\n",
    "if OUTPUT:\n",
    "    output_file(file_name, df_train_smote, df_test_transform, pipeline_smote)"
   ]
  },
  {
   "cell_type": "code",
   "execution_count": 18,
   "id": "e17ca51a",
   "metadata": {
    "ExecuteTime": {
     "end_time": "2022-01-17T02:50:49.285011Z",
     "start_time": "2022-01-17T02:50:49.278158Z"
    }
   },
   "outputs": [
    {
     "data": {
      "text/plain": [
       "700"
      ]
     },
     "metadata": {},
     "output_type": "display_data"
    },
    {
     "data": {
      "text/plain": [
       "0    0.5\n",
       "1    0.5\n",
       "Name: label, dtype: float64"
      ]
     },
     "metadata": {},
     "output_type": "display_data"
    }
   ],
   "source": [
    "display(\n",
    "    y_train.shape[0],\n",
    "    y_train_smote.value_counts(normalize=True)\n",
    ")"
   ]
  },
  {
   "cell_type": "markdown",
   "id": "aefca83f",
   "metadata": {},
   "source": [
    "## Categorical Encoding"
   ]
  },
  {
   "cell_type": "markdown",
   "id": "13b3c84c",
   "metadata": {},
   "source": [
    "### Rare -> Frequency"
   ]
  },
  {
   "cell_type": "code",
   "execution_count": 19,
   "id": "e6ea7bc9",
   "metadata": {
    "ExecuteTime": {
     "end_time": "2022-01-17T02:50:49.405837Z",
     "start_time": "2022-01-17T02:50:49.287106Z"
    }
   },
   "outputs": [
    {
     "name": "stdout",
     "output_type": "stream",
     "text": [
      "Done\n"
     ]
    }
   ],
   "source": [
    "steps = [\n",
    "    ('Rare Encoding', rare_encoder),\n",
    "    ('Frequency Encoding', freq_encoder)\n",
    "]\n",
    "\n",
    "pipeline_rare_freq = Pipeline(steps=steps)\n",
    "pipeline_rare_freq.fit(X_train, y_train)\n",
    "\n",
    "X_train_categorical = pipeline_rare_freq.transform(X_train_smote)\n",
    "X_test_categorical = pipeline_rare_freq.transform(X_test_transform)\n",
    "\n",
    "df_train_categorical = pd.concat([X_train_categorical, y_train_smote], axis=1)\n",
    "df_test_categorical = pd.concat([X_test_categorical, y_test], axis=1)\n",
    "\n",
    "file_name = '03_pipeline_rare_freq'\n",
    "if OUTPUT:\n",
    "    output_file(\n",
    "        file_name, \n",
    "        df_train_categorical, \n",
    "        df_test_categorical, \n",
    "        pipeline_rare_freq\n",
    "    )"
   ]
  },
  {
   "cell_type": "markdown",
   "id": "d94c140e",
   "metadata": {},
   "source": [
    "### Rare -> Ordinal"
   ]
  },
  {
   "cell_type": "code",
   "execution_count": 20,
   "id": "dbfb753f",
   "metadata": {
    "ExecuteTime": {
     "end_time": "2022-01-17T02:50:49.503849Z",
     "start_time": "2022-01-17T02:50:49.407448Z"
    }
   },
   "outputs": [
    {
     "name": "stdout",
     "output_type": "stream",
     "text": [
      "Done\n"
     ]
    }
   ],
   "source": [
    "steps = [\n",
    "    ('Rare Encoding', rare_encoder),\n",
    "    ('Ordinal Encoding', ordinal_encoder)\n",
    "]\n",
    "\n",
    "pipeline_rare_ordinal = Pipeline(steps=steps)\n",
    "pipeline_rare_ordinal.fit(X_train, y_train)\n",
    "\n",
    "X_train_categorical = pipeline_rare_ordinal.transform(X_train_smote)\n",
    "X_test_categorical = pipeline_rare_ordinal.transform(X_test_transform)\n",
    "\n",
    "df_train_categorical = pd.concat([X_train_categorical, y_train_smote], axis=1)\n",
    "df_test_categorical = pd.concat([X_test_categorical, y_test], axis=1)\n",
    "\n",
    "file_name = '03_pipeline_rare_ordinal'\n",
    "if OUTPUT:\n",
    "    output_file(\n",
    "        file_name, \n",
    "        df_train_categorical, \n",
    "        df_test_categorical, \n",
    "        pipeline_rare_ordinal\n",
    "    )"
   ]
  }
 ],
 "metadata": {
  "kernelspec": {
   "display_name": "research",
   "language": "python",
   "name": "research"
  },
  "language_info": {
   "codemirror_mode": {
    "name": "ipython",
    "version": 3
   },
   "file_extension": ".py",
   "mimetype": "text/x-python",
   "name": "python",
   "nbconvert_exporter": "python",
   "pygments_lexer": "ipython3",
   "version": "3.9.7"
  },
  "toc": {
   "base_numbering": 1,
   "nav_menu": {},
   "number_sections": true,
   "sideBar": true,
   "skip_h1_title": false,
   "title_cell": "Table of Contents",
   "title_sidebar": "Contents",
   "toc_cell": false,
   "toc_position": {},
   "toc_section_display": true,
   "toc_window_display": false
  },
  "varInspector": {
   "cols": {
    "lenName": 16,
    "lenType": 16,
    "lenVar": 40
   },
   "kernels_config": {
    "python": {
     "delete_cmd_postfix": "",
     "delete_cmd_prefix": "del ",
     "library": "var_list.py",
     "varRefreshCmd": "print(var_dic_list())"
    },
    "r": {
     "delete_cmd_postfix": ") ",
     "delete_cmd_prefix": "rm(",
     "library": "var_list.r",
     "varRefreshCmd": "cat(var_dic_list()) "
    }
   },
   "types_to_exclude": [
    "module",
    "function",
    "builtin_function_or_method",
    "instance",
    "_Feature"
   ],
   "window_display": false
  }
 },
 "nbformat": 4,
 "nbformat_minor": 5
}
