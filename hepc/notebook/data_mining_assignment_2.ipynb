{
 "cells": [
  {
   "cell_type": "markdown",
   "metadata": {},
   "source": [
    "# Setup"
   ]
  },
  {
   "cell_type": "markdown",
   "metadata": {},
   "source": [
    "## Load Libraries"
   ]
  },
  {
   "cell_type": "code",
   "execution_count": 1,
   "metadata": {},
   "outputs": [
    {
     "name": "stderr",
     "output_type": "stream",
     "text": [
      "Loading required package: lattice\n",
      "Loading required package: ggplot2\n",
      "Registered S3 methods overwritten by 'ggplot2':\n",
      "  method         from \n",
      "  [.quosures     rlang\n",
      "  c.quosures     rlang\n",
      "  print.quosures rlang\n",
      "Warning message:\n",
      "\"package 'kableExtra' was built under R version 3.6.3\"Registered S3 method overwritten by 'rvest':\n",
      "  method            from\n",
      "  read_xml.response xml2\n"
     ]
    }
   ],
   "source": [
    "library(caret)\n",
    "library(e1071)\n",
    "library(IRdisplay)\n",
    "library(knitr)\n",
    "library(kableExtra)"
   ]
  },
  {
   "cell_type": "code",
   "execution_count": 2,
   "metadata": {},
   "outputs": [],
   "source": [
    "Sys.setenv(MLFLOW_BIN=system(\"C:/Users/ONYX/Anaconda3/envs/r-mlflow-1.13.1/Scripts/mlflow.exe\"))\n",
    "Sys.setenv(MLFLOW_PYTHON_BIN='C:/Users/ONYX/Anaconda3/envs/r-mlflow-1.13.1/python.exe')"
   ]
  },
  {
   "cell_type": "markdown",
   "metadata": {},
   "source": [
    "## Global Configurations"
   ]
  },
  {
   "cell_type": "code",
   "execution_count": 3,
   "metadata": {},
   "outputs": [],
   "source": [
    "set.seed(8888)"
   ]
  },
  {
   "cell_type": "markdown",
   "metadata": {},
   "source": [
    "## Global Functions"
   ]
  },
  {
   "cell_type": "code",
   "execution_count": 4,
   "metadata": {},
   "outputs": [],
   "source": [
    "draw_confusion_matrix <- function(cm) {\n",
    "\n",
    "  layout(matrix(c(1,1,2)))\n",
    "  par(mar=c(2,2,2,2))\n",
    "  plot(c(100, 345), c(300, 450), type = \"n\", xlab=\"\", ylab=\"\", xaxt='n', yaxt='n')\n",
    "  title('CONFUSION MATRIX', cex.main=2)\n",
    "\n",
    "  # create the matrix \n",
    "  rect(150, 430, 240, 370, col='#3F97D0')\n",
    "  text(195, 435, 'Negative Class (-1)', cex=1.2)\n",
    "  rect(250, 430, 340, 370, col='#F7AD50')\n",
    "  text(295, 435, 'Positive Class (+1)', cex=1.2)\n",
    "  text(125, 370, 'Predicted', cex=1.3, srt=90, font=2)\n",
    "  text(245, 450, 'Actual', cex=1.3, font=2)\n",
    "  rect(150, 305, 240, 365, col='#F7AD50')\n",
    "  rect(250, 305, 340, 365, col='#3F97D0')\n",
    "  text(140, 400, 'Negative Class (-1)', cex=1.2, srt=90)\n",
    "  text(140, 335, 'Positive Class (+1)', cex=1.2, srt=90)\n",
    "\n",
    "  # add in the cm results \n",
    "  res <- as.numeric(cm$table)\n",
    "  text(195, 400, res[1], cex=1.6, font=2, col='black')\n",
    "  text(195, 335, res[2], cex=1.6, font=2, col='black')\n",
    "  text(295, 400, res[3], cex=1.6, font=2, col='black')\n",
    "  text(295, 335, res[4], cex=1.6, font=2, col='black')\n",
    "\n",
    "  # add in the specifics \n",
    "  plot(c(100, 0), c(100, 0), type = \"n\", xlab=\"\", ylab=\"\", main = \"DETAILS\", xaxt='n', yaxt='n')\n",
    "  text(10, 85, names(cm$overall[1]), cex=1.2, font=2)\n",
    "  text(10, 70, round(as.numeric(cm$overall[1]), 3), cex=1.2)\n",
    "  text(30, 85, names(cm$overall[2]), cex=1.2, font=2)\n",
    "  text(30, 70, round(as.numeric(cm$overall[2]), 3), cex=1.2)\n",
    "  text(50, 85, names(cm$byClass[5]), cex=1.2, font=2)\n",
    "  text(50, 70, round(as.numeric(cm$byClass[5]), 3), cex=1.2)\n",
    "  text(70, 85, names(cm$byClass[6]), cex=1.2, font=2)\n",
    "  text(70, 70, round(as.numeric(cm$byClass[6]), 3), cex=1.2)\n",
    "  text(90, 85, names(cm$byClass[7]), cex=1.2, font=2)\n",
    "  text(90, 70, round(as.numeric(cm$byClass[7]), 3), cex=1.2)\n",
    "\n",
    "  # add in the accuracy information \n",
    "  text(30, 35, names(cm$byClass[1]), cex=1.5, font=2)\n",
    "  text(30, 20, round(as.numeric(cm$byClass[1]), 3), cex=1.4)\n",
    "  text(70, 35, names(cm$byClass[2]), cex=1.5, font=2)\n",
    "  text(70, 20, round(as.numeric(cm$byClass[2]), 3), cex=1.4)\n",
    "}  "
   ]
  },
  {
   "cell_type": "markdown",
   "metadata": {},
   "source": [
    "# Data"
   ]
  },
  {
   "cell_type": "markdown",
   "metadata": {},
   "source": [
    "## Read Data and Preprocess Data"
   ]
  },
  {
   "cell_type": "code",
   "execution_count": 5,
   "metadata": {},
   "outputs": [
    {
     "data": {
      "text/html": [
       "<ol class=list-inline>\n",
       "\t<li>'ALB'</li>\n",
       "\t<li>'ALP'</li>\n",
       "\t<li>'ALT'</li>\n",
       "\t<li>'CHOL'</li>\n",
       "\t<li>'PROT'</li>\n",
       "</ol>\n"
      ],
      "text/latex": [
       "\\begin{enumerate*}\n",
       "\\item 'ALB'\n",
       "\\item 'ALP'\n",
       "\\item 'ALT'\n",
       "\\item 'CHOL'\n",
       "\\item 'PROT'\n",
       "\\end{enumerate*}\n"
      ],
      "text/markdown": [
       "1. 'ALB'\n",
       "2. 'ALP'\n",
       "3. 'ALT'\n",
       "4. 'CHOL'\n",
       "5. 'PROT'\n",
       "\n",
       "\n"
      ],
      "text/plain": [
       "[1] \"ALB\"  \"ALP\"  \"ALT\"  \"CHOL\" \"PROT\""
      ]
     },
     "metadata": {},
     "output_type": "display_data"
    },
    {
     "data": {
      "text/html": [
       "<dl class=dl-horizontal>\n",
       "\t<dt>Blood Donor</dt>\n",
       "\t\t<dd>533</dd>\n",
       "\t<dt>Cirrhosis</dt>\n",
       "\t\t<dd>30</dd>\n",
       "\t<dt>Fibrosis</dt>\n",
       "\t\t<dd>21</dd>\n",
       "\t<dt>Hepatitis</dt>\n",
       "\t\t<dd>24</dd>\n",
       "</dl>\n"
      ],
      "text/latex": [
       "\\begin{description*}\n",
       "\\item[Blood Donor] 533\n",
       "\\item[Cirrhosis] 30\n",
       "\\item[Fibrosis] 21\n",
       "\\item[Hepatitis] 24\n",
       "\\end{description*}\n"
      ],
      "text/markdown": [
       "Blood Donor\n",
       ":   533Cirrhosis\n",
       ":   30Fibrosis\n",
       ":   21Hepatitis\n",
       ":   24\n",
       "\n"
      ],
      "text/plain": [
       "Blood Donor   Cirrhosis    Fibrosis   Hepatitis \n",
       "        533          30          21          24 "
      ]
     },
     "metadata": {},
     "output_type": "display_data"
    },
    {
     "data": {
      "text/html": [
       "<dl class=dl-horizontal>\n",
       "\t<dt>Blood Donor</dt>\n",
       "\t\t<dd>533</dd>\n",
       "\t<dt>Hepatitis</dt>\n",
       "\t\t<dd>75</dd>\n",
       "</dl>\n"
      ],
      "text/latex": [
       "\\begin{description*}\n",
       "\\item[Blood Donor] 533\n",
       "\\item[Hepatitis] 75\n",
       "\\end{description*}\n"
      ],
      "text/markdown": [
       "Blood Donor\n",
       ":   533Hepatitis\n",
       ":   75\n",
       "\n"
      ],
      "text/plain": [
       "Blood Donor   Hepatitis \n",
       "        533          75 "
      ]
     },
     "metadata": {},
     "output_type": "display_data"
    }
   ],
   "source": [
    "path <- '../data/hepatitisC.csv'\n",
    "hepc.backup <- read.csv(path)\n",
    "hepc <- read.csv(path)\n",
    "\n",
    "# taking missing columns\n",
    "missing_cols <- colnames(hepc)[colSums(is.na(hepc)) > 0]\n",
    "missing_cols\n",
    "\n",
    "# impute missing value with median for each columns by category\n",
    "for (col in missing_cols){\n",
    "    hepc[, col] <- ave(hepc[, col], \n",
    "                       hepc$Category, \n",
    "                       FUN = function(x) ifelse(is.na(x), median(x, na.rm=TRUE), x)\n",
    "                      )\n",
    "}\n",
    "\n",
    "# filter the suspect blood donor\n",
    "mask <- hepc$Category != 'suspect Blood Donor'\n",
    "hepc <- hepc[mask,]\n",
    "\n",
    "# change the category\n",
    "mask <- hepc$Category != 'Blood Donor'\n",
    "hepc[mask, 'general_category'] <- 'Hepatitis'\n",
    "hepc[!mask, 'general_category'] <- 'Blood Donor'\n",
    "\n",
    "# remove unwanted category\n",
    "hepc$Category <- factor(hepc$Category)\n",
    "hepc$general_category <- factor(hepc$general_category)\n",
    "\n",
    "summary(hepc$Category)\n",
    "summary(hepc$general_category)\n",
    "\n",
    "\n",
    "hepc$general_category <- c(-1, 1)[unclass(as.factor(hepc$general_category))]\n",
    "hepc$general_category <- as.factor(hepc$general_category)"
   ]
  },
  {
   "cell_type": "markdown",
   "metadata": {},
   "source": [
    "## Train Valid Split"
   ]
  },
  {
   "cell_type": "code",
   "execution_count": 6,
   "metadata": {},
   "outputs": [],
   "source": [
    "set.seed(8888)\n",
    "trainIndex <- createDataPartition(hepc$general_category, p = .7,\n",
    "                                  list = FALSE,\n",
    "                                  times = 1)\n",
    "train <- hepc[trainIndex, ]\n",
    "valid <- hepc[-trainIndex,]"
   ]
  },
  {
   "cell_type": "markdown",
   "metadata": {},
   "source": [
    "## Features Selected"
   ]
  },
  {
   "cell_type": "code",
   "execution_count": 7,
   "metadata": {},
   "outputs": [],
   "source": [
    "all_features <- c('Age', 'ALB', 'ALP', 'ALT', 'AST', 'BIL', 'CHE', 'CHOL', 'CREA', 'GGT', 'PROT', 'general_category')\n",
    "selected_features <- c('AST', 'ALP', 'ALT', 'GGT', 'BIL', 'general_category')"
   ]
  },
  {
   "cell_type": "code",
   "execution_count": 8,
   "metadata": {},
   "outputs": [],
   "source": [
    "train.1 <- train[, all_features]\n",
    "train.2 <- train[, selected_features]"
   ]
  },
  {
   "cell_type": "markdown",
   "metadata": {},
   "source": [
    "# Models"
   ]
  },
  {
   "cell_type": "markdown",
   "metadata": {},
   "source": [
    "## SVM with Linear Kernel (All Features)"
   ]
  },
  {
   "cell_type": "code",
   "execution_count": 9,
   "metadata": {
    "scrolled": false
   },
   "outputs": [
    {
     "data": {
      "text/plain": [
       "Confusion Matrix and Statistics\n",
       "\n",
       "          Reference\n",
       "Prediction  -1   1\n",
       "        -1 157   9\n",
       "        1    2  13\n",
       "                                          \n",
       "               Accuracy : 0.9392          \n",
       "                 95% CI : (0.8939, 0.9693)\n",
       "    No Information Rate : 0.8785          \n",
       "    P-Value [Acc > NIR] : 0.005133        \n",
       "                                          \n",
       "                  Kappa : 0.6702          \n",
       "                                          \n",
       " Mcnemar's Test P-Value : 0.070440        \n",
       "                                          \n",
       "            Sensitivity : 0.59091         \n",
       "            Specificity : 0.98742         \n",
       "         Pos Pred Value : 0.86667         \n",
       "         Neg Pred Value : 0.94578         \n",
       "             Prevalence : 0.12155         \n",
       "         Detection Rate : 0.07182         \n",
       "   Detection Prevalence : 0.08287         \n",
       "      Balanced Accuracy : 0.78917         \n",
       "                                          \n",
       "       'Positive' Class : 1               \n",
       "                                          "
      ]
     },
     "metadata": {},
     "output_type": "display_data"
    },
    {
     "data": {
      "image/png": "[encoded data removed]",
      "text/plain": [
       "Plot with title \"DETAILS\""
      ]
     },
     "metadata": {},
     "output_type": "display_data"
    }
   ],
   "source": [
    "classifier <- svm(formula= general_category ~ ., \n",
    "                  data=train.1,\n",
    "                  type='C-classification',\n",
    "                  kernel='linear',\n",
    "                  cross=5\n",
    "                 )\n",
    "\n",
    "y_pred <- predict(classifier, newdata=valid)\n",
    "cm <- confusionMatrix(y_pred, valid[, 'general_category'], positive=\"1\")\n",
    "cm\n",
    "draw_confusion_matrix(cm)"
   ]
  },
  {
   "cell_type": "markdown",
   "metadata": {},
   "source": [
    "## SVM with Linear Kernel (Selected Features)"
   ]
  },
  {
   "cell_type": "code",
   "execution_count": 10,
   "metadata": {},
   "outputs": [
    {
     "data": {
      "text/plain": [
       "Confusion Matrix and Statistics\n",
       "\n",
       "          Reference\n",
       "Prediction  -1   1\n",
       "        -1 158   8\n",
       "        1    1  14\n",
       "                                         \n",
       "               Accuracy : 0.9503         \n",
       "                 95% CI : (0.9077, 0.977)\n",
       "    No Information Rate : 0.8785         \n",
       "    P-Value [Acc > NIR] : 0.0008783      \n",
       "                                         \n",
       "                  Kappa : 0.7302         \n",
       "                                         \n",
       " Mcnemar's Test P-Value : 0.0455003      \n",
       "                                         \n",
       "            Sensitivity : 0.63636        \n",
       "            Specificity : 0.99371        \n",
       "         Pos Pred Value : 0.93333        \n",
       "         Neg Pred Value : 0.95181        \n",
       "             Prevalence : 0.12155        \n",
       "         Detection Rate : 0.07735        \n",
       "   Detection Prevalence : 0.08287        \n",
       "      Balanced Accuracy : 0.81504        \n",
       "                                         \n",
       "       'Positive' Class : 1              \n",
       "                                         "
      ]
     },
     "metadata": {},
     "output_type": "display_data"
    },
    {
     "data": {
      "image/png": "[encoded data removed]",
      "text/plain": [
       "Plot with title \"DETAILS\""
      ]
     },
     "metadata": {},
     "output_type": "display_data"
    }
   ],
   "source": [
    "classifier <- svm(formula= general_category ~ ., \n",
    "                  data=train.2,\n",
    "                  type='C-classification',\n",
    "                  kernel='linear',\n",
    "                  cross=5\n",
    "                 )\n",
    "\n",
    "y_pred <- predict(classifier, newdata=valid)\n",
    "cm <- confusionMatrix(y_pred, valid[, 'general_category'], positive=\"1\")\n",
    "cm\n",
    "draw_confusion_matrix(cm)"
   ]
  },
  {
   "cell_type": "markdown",
   "metadata": {},
   "source": [
    "We can see there's obvious improvement after using only several features. Hence we will go with the one with lesser features."
   ]
  },
  {
   "cell_type": "markdown",
   "metadata": {},
   "source": [
    "## Selected Features & Class Weight"
   ]
  },
  {
   "cell_type": "markdown",
   "metadata": {},
   "source": [
    "### SVM with Linear Kernel"
   ]
  },
  {
   "cell_type": "code",
   "execution_count": 11,
   "metadata": {},
   "outputs": [],
   "source": [
    "weights <- 100 / table(train$general_category)"
   ]
  },
  {
   "cell_type": "code",
   "execution_count": 12,
   "metadata": {},
   "outputs": [
    {
     "data": {
      "text/plain": [
       "Confusion Matrix and Statistics\n",
       "\n",
       "          Reference\n",
       "Prediction  -1   1\n",
       "        -1 147   1\n",
       "        1   12  21\n",
       "                                          \n",
       "               Accuracy : 0.9282          \n",
       "                 95% CI : (0.8803, 0.9612)\n",
       "    No Information Rate : 0.8785          \n",
       "    P-Value [Acc > NIR] : 0.021066        \n",
       "                                          \n",
       "                  Kappa : 0.7233          \n",
       "                                          \n",
       " Mcnemar's Test P-Value : 0.005546        \n",
       "                                          \n",
       "            Sensitivity : 0.9545          \n",
       "            Specificity : 0.9245          \n",
       "         Pos Pred Value : 0.6364          \n",
       "         Neg Pred Value : 0.9932          \n",
       "             Prevalence : 0.1215          \n",
       "         Detection Rate : 0.1160          \n",
       "   Detection Prevalence : 0.1823          \n",
       "      Balanced Accuracy : 0.9395          \n",
       "                                          \n",
       "       'Positive' Class : 1               \n",
       "                                          "
      ]
     },
     "metadata": {},
     "output_type": "display_data"
    },
    {
     "data": {
      "image/png": "[encoded data removed]",
      "text/plain": [
       "Plot with title \"DETAILS\""
      ]
     },
     "metadata": {},
     "output_type": "display_data"
    }
   ],
   "source": [
    "classifier1 <- svm(formula= general_category ~ ., \n",
    "                   data=train.2,\n",
    "                   type='C-classification',\n",
    "                   kernel='linear',\n",
    "                   cross=5,\n",
    "                   class.weights=weights\n",
    "                  )\n",
    "\n",
    "y_pred <- predict(classifier1, newdata=valid)\n",
    "cm <- confusionMatrix(y_pred, valid[, 'general_category'], positive=\"1\")\n",
    "cm\n",
    "draw_confusion_matrix(cm)"
   ]
  },
  {
   "cell_type": "markdown",
   "metadata": {},
   "source": [
    "After imposing the class weights, we found out that the model is relatively accurate compare to the one without any class weight."
   ]
  },
  {
   "cell_type": "code",
   "execution_count": 13,
   "metadata": {},
   "outputs": [
    {
     "data": {
      "text/plain": [
       "Confusion Matrix and Statistics\n",
       "\n",
       "          Reference\n",
       "Prediction  -1   1\n",
       "        -1 148   1\n",
       "        1   11  21\n",
       "                                          \n",
       "               Accuracy : 0.9337          \n",
       "                 95% CI : (0.8871, 0.9653)\n",
       "    No Information Rate : 0.8785          \n",
       "    P-Value [Acc > NIR] : 0.010826        \n",
       "                                          \n",
       "                  Kappa : 0.7404          \n",
       "                                          \n",
       " Mcnemar's Test P-Value : 0.009375        \n",
       "                                          \n",
       "            Sensitivity : 0.9545          \n",
       "            Specificity : 0.9308          \n",
       "         Pos Pred Value : 0.6562          \n",
       "         Neg Pred Value : 0.9933          \n",
       "             Prevalence : 0.1215          \n",
       "         Detection Rate : 0.1160          \n",
       "   Detection Prevalence : 0.1768          \n",
       "      Balanced Accuracy : 0.9427          \n",
       "                                          \n",
       "       'Positive' Class : 1               \n",
       "                                          "
      ]
     },
     "metadata": {},
     "output_type": "display_data"
    },
    {
     "data": {
      "image/png": "[encoded data removed]",
      "text/plain": [
       "Plot with title \"DETAILS\""
      ]
     },
     "metadata": {},
     "output_type": "display_data"
    }
   ],
   "source": [
    "classifier1.cost.1000 <- svm(formula= general_category ~ ., \n",
    "                            data=train.2,\n",
    "                            type='C-classification',\n",
    "                            kernel='linear',\n",
    "                            cross=5,\n",
    "                            class.weights=weights,\n",
    "                            cost=1000\n",
    "                           )\n",
    "\n",
    "y_pred <- predict(classifier1.cost.1000, newdata=valid)\n",
    "cm <- confusionMatrix(y_pred, valid[, 'general_category'], positive=\"1\")\n",
    "cm\n",
    "draw_confusion_matrix(cm)"
   ]
  },
  {
   "cell_type": "markdown",
   "metadata": {},
   "source": [
    "Seems like cost = 1 and cost = 1000 got no difference, hence we will stick to cost =1"
   ]
  },
  {
   "cell_type": "markdown",
   "metadata": {},
   "source": [
    "### SVM with Polynomial Kernel (Degree 2)"
   ]
  },
  {
   "cell_type": "code",
   "execution_count": 14,
   "metadata": {},
   "outputs": [
    {
     "data": {
      "text/plain": [
       "Confusion Matrix and Statistics\n",
       "\n",
       "          Reference\n",
       "Prediction  -1   1\n",
       "        -1 145   9\n",
       "        1   14  13\n",
       "                                          \n",
       "               Accuracy : 0.8729          \n",
       "                 95% CI : (0.8155, 0.9177)\n",
       "    No Information Rate : 0.8785          \n",
       "    P-Value [Acc > NIR] : 0.6430          \n",
       "                                          \n",
       "                  Kappa : 0.458           \n",
       "                                          \n",
       " Mcnemar's Test P-Value : 0.4042          \n",
       "                                          \n",
       "            Sensitivity : 0.59091         \n",
       "            Specificity : 0.91195         \n",
       "         Pos Pred Value : 0.48148         \n",
       "         Neg Pred Value : 0.94156         \n",
       "             Prevalence : 0.12155         \n",
       "         Detection Rate : 0.07182         \n",
       "   Detection Prevalence : 0.14917         \n",
       "      Balanced Accuracy : 0.75143         \n",
       "                                          \n",
       "       'Positive' Class : 1               \n",
       "                                          "
      ]
     },
     "metadata": {},
     "output_type": "display_data"
    },
    {
     "data": {
      "image/png": "[encoded data removed]",
      "text/plain": [
       "Plot with title \"DETAILS\""
      ]
     },
     "metadata": {},
     "output_type": "display_data"
    }
   ],
   "source": [
    "classifier2 <- svm(formula= general_category ~ ., \n",
    "                   data=train.2,\n",
    "                   type='C-classification',\n",
    "                   kernel='polynomial',\n",
    "                   cross=5,\n",
    "                   degree=2,\n",
    "                   class.weights=weights\n",
    "                  )\n",
    "\n",
    "y_pred <- predict(classifier2, newdata=valid)\n",
    "cm <- confusionMatrix(y_pred, valid[, 'general_category'], positive=\"1\")\n",
    "cm\n",
    "draw_confusion_matrix(cm)"
   ]
  },
  {
   "cell_type": "markdown",
   "metadata": {},
   "source": [
    "### SVM with Polynomial Kernel (Degree 3)"
   ]
  },
  {
   "cell_type": "code",
   "execution_count": 15,
   "metadata": {},
   "outputs": [
    {
     "data": {
      "text/plain": [
       "Confusion Matrix and Statistics\n",
       "\n",
       "          Reference\n",
       "Prediction  -1   1\n",
       "        -1 156   6\n",
       "        1    3  16\n",
       "                                         \n",
       "               Accuracy : 0.9503         \n",
       "                 95% CI : (0.9077, 0.977)\n",
       "    No Information Rate : 0.8785         \n",
       "    P-Value [Acc > NIR] : 0.0008783      \n",
       "                                         \n",
       "                  Kappa : 0.7526         \n",
       "                                         \n",
       " Mcnemar's Test P-Value : 0.5049851      \n",
       "                                         \n",
       "            Sensitivity : 0.7273         \n",
       "            Specificity : 0.9811         \n",
       "         Pos Pred Value : 0.8421         \n",
       "         Neg Pred Value : 0.9630         \n",
       "             Prevalence : 0.1215         \n",
       "         Detection Rate : 0.0884         \n",
       "   Detection Prevalence : 0.1050         \n",
       "      Balanced Accuracy : 0.8542         \n",
       "                                         \n",
       "       'Positive' Class : 1              \n",
       "                                         "
      ]
     },
     "metadata": {},
     "output_type": "display_data"
    },
    {
     "data": {
      "image/png": "[encoded data removed]",
      "text/plain": [
       "Plot with title \"DETAILS\""
      ]
     },
     "metadata": {},
     "output_type": "display_data"
    }
   ],
   "source": [
    "classifier3 <- svm(formula= general_category ~ ., \n",
    "                   data=train.2,\n",
    "                   type='C-classification',\n",
    "                   kernel='polynomial',\n",
    "                   cross=5,\n",
    "                   class.weights=weights\n",
    "                  )\n",
    "\n",
    "y_pred <- predict(classifier3, newdata=valid)\n",
    "cm <- confusionMatrix(y_pred, valid[, 'general_category'], positive=\"1\")\n",
    "cm\n",
    "draw_confusion_matrix(cm)"
   ]
  },
  {
   "cell_type": "code",
   "execution_count": 16,
   "metadata": {},
   "outputs": [
    {
     "data": {
      "text/plain": [
       "Confusion Matrix and Statistics\n",
       "\n",
       "          Reference\n",
       "Prediction  -1   1\n",
       "        -1 156   6\n",
       "        1    3  16\n",
       "                                         \n",
       "               Accuracy : 0.9503         \n",
       "                 95% CI : (0.9077, 0.977)\n",
       "    No Information Rate : 0.8785         \n",
       "    P-Value [Acc > NIR] : 0.0008783      \n",
       "                                         \n",
       "                  Kappa : 0.7526         \n",
       "                                         \n",
       " Mcnemar's Test P-Value : 0.5049851      \n",
       "                                         \n",
       "            Sensitivity : 0.7273         \n",
       "            Specificity : 0.9811         \n",
       "         Pos Pred Value : 0.8421         \n",
       "         Neg Pred Value : 0.9630         \n",
       "             Prevalence : 0.1215         \n",
       "         Detection Rate : 0.0884         \n",
       "   Detection Prevalence : 0.1050         \n",
       "      Balanced Accuracy : 0.8542         \n",
       "                                         \n",
       "       'Positive' Class : 1              \n",
       "                                         "
      ]
     },
     "metadata": {},
     "output_type": "display_data"
    },
    {
     "data": {
      "image/png": "[encoded data removed]",
      "text/plain": [
       "Plot with title \"DETAILS\""
      ]
     },
     "metadata": {},
     "output_type": "display_data"
    }
   ],
   "source": [
    "classifier3.cost.1000 <- svm(formula= general_category ~ ., \n",
    "                             data=train.2,\n",
    "                             type='C-classification',\n",
    "                             kernel='polynomial',\n",
    "                             cross=5,\n",
    "                             class.weights=weights,\n",
    "                             C=1000\n",
    "                            )\n",
    "\n",
    "y_pred <- predict(classifier3.cost.1000, newdata=valid)\n",
    "cm <- confusionMatrix(y_pred, valid[, 'general_category'], positive=\"1\")\n",
    "cm\n",
    "draw_confusion_matrix(cm)"
   ]
  },
  {
   "cell_type": "markdown",
   "metadata": {},
   "source": [
    "### SVM with Sigmoid Kernel"
   ]
  },
  {
   "cell_type": "code",
   "execution_count": 17,
   "metadata": {},
   "outputs": [
    {
     "data": {
      "text/plain": [
       "Confusion Matrix and Statistics\n",
       "\n",
       "          Reference\n",
       "Prediction  -1   1\n",
       "        -1 129   8\n",
       "        1   30  14\n",
       "                                          \n",
       "               Accuracy : 0.7901          \n",
       "                 95% CI : (0.7234, 0.8469)\n",
       "    No Information Rate : 0.8785          \n",
       "    P-Value [Acc > NIR] : 0.9997394       \n",
       "                                          \n",
       "                  Kappa : 0.3129          \n",
       "                                          \n",
       " Mcnemar's Test P-Value : 0.0006577       \n",
       "                                          \n",
       "            Sensitivity : 0.63636         \n",
       "            Specificity : 0.81132         \n",
       "         Pos Pred Value : 0.31818         \n",
       "         Neg Pred Value : 0.94161         \n",
       "             Prevalence : 0.12155         \n",
       "         Detection Rate : 0.07735         \n",
       "   Detection Prevalence : 0.24309         \n",
       "      Balanced Accuracy : 0.72384         \n",
       "                                          \n",
       "       'Positive' Class : 1               \n",
       "                                          "
      ]
     },
     "metadata": {},
     "output_type": "display_data"
    },
    {
     "data": {
      "image/png": "[encoded data removed]",
      "text/plain": [
       "Plot with title \"DETAILS\""
      ]
     },
     "metadata": {},
     "output_type": "display_data"
    }
   ],
   "source": [
    "classifier4 <- svm(formula= general_category ~ ., \n",
    "                   data=train.2,\n",
    "                   type='C-classification',\n",
    "                   kernel='sigmoid',\n",
    "                   cross=5,\n",
    "                   class.weights=weights\n",
    "                  )\n",
    "\n",
    "y_pred <- predict(classifier4, newdata=valid)\n",
    "cm <- confusionMatrix(y_pred, valid[, 'general_category'], positive=\"1\")\n",
    "cm\n",
    "draw_confusion_matrix(cm)"
   ]
  },
  {
   "cell_type": "markdown",
   "metadata": {},
   "source": [
    "### SVM with Radial Kernel"
   ]
  },
  {
   "cell_type": "code",
   "execution_count": 18,
   "metadata": {},
   "outputs": [
    {
     "data": {
      "text/plain": [
       "Confusion Matrix and Statistics\n",
       "\n",
       "          Reference\n",
       "Prediction  -1   1\n",
       "        -1 157   5\n",
       "        1    2  17\n",
       "                                          \n",
       "               Accuracy : 0.9613          \n",
       "                 95% CI : (0.9219, 0.9843)\n",
       "    No Information Rate : 0.8785          \n",
       "    P-Value [Acc > NIR] : 9.765e-05       \n",
       "                                          \n",
       "                  Kappa : 0.8076          \n",
       "                                          \n",
       " Mcnemar's Test P-Value : 0.4497          \n",
       "                                          \n",
       "            Sensitivity : 0.77273         \n",
       "            Specificity : 0.98742         \n",
       "         Pos Pred Value : 0.89474         \n",
       "         Neg Pred Value : 0.96914         \n",
       "             Prevalence : 0.12155         \n",
       "         Detection Rate : 0.09392         \n",
       "   Detection Prevalence : 0.10497         \n",
       "      Balanced Accuracy : 0.88007         \n",
       "                                          \n",
       "       'Positive' Class : 1               \n",
       "                                          "
      ]
     },
     "metadata": {},
     "output_type": "display_data"
    },
    {
     "data": {
      "image/png": "[encoded data removed]",
      "text/plain": [
       "Plot with title \"DETAILS\""
      ]
     },
     "metadata": {},
     "output_type": "display_data"
    }
   ],
   "source": [
    "classifier5 <- svm(formula= general_category ~ ., \n",
    "                   data=train.2,\n",
    "                   type='C-classification',\n",
    "                   kernel='radial',\n",
    "                   cross=5\n",
    "                  )\n",
    "\n",
    "y_pred <- predict(classifier5, newdata=valid)\n",
    "cm <- confusionMatrix(y_pred, valid[, 'general_category'], positive=\"1\")\n",
    "cm\n",
    "draw_confusion_matrix(cm)"
   ]
  },
  {
   "cell_type": "markdown",
   "metadata": {},
   "source": [
    "# Observe Performance"
   ]
  },
  {
   "cell_type": "markdown",
   "metadata": {},
   "source": [
    "## Classifier 1"
   ]
  },
  {
   "cell_type": "code",
   "execution_count": 19,
   "metadata": {},
   "outputs": [],
   "source": [
    "test <- hepc.backup\n",
    "missing_cols <- colnames(test)[colSums(is.na(test)) > 0]\n",
    "\n",
    "# impute missing value with median for each columns by category\n",
    "for (col in missing_cols){\n",
    "    test[, col] <- ave(test[, col], \n",
    "                       test$Category, \n",
    "                       FUN = function(x) ifelse(is.na(x), median(x, na.rm=TRUE), x)\n",
    "                      )\n",
    "}\n",
    "\n",
    "# filter the suspect blood donor\n",
    "mask <- test$Category != 'suspect Blood Donor'\n",
    "test <- test[mask,]\n",
    "\n",
    "\n",
    "# change the category\n",
    "mask <- test$Category != 'Blood Donor'\n",
    "test[mask, 'general_category'] <- 'Hepatitis'\n",
    "test[!mask, 'general_category'] <- 'Blood Donor'\n",
    "\n",
    "# remove unwanted category\n",
    "test$Category <- factor(test$Category)\n",
    "test$general_category <- factor(test$general_category)\n",
    "\n",
    "\n",
    "test$general_category <- c(-1, 1)[unclass(as.factor(test$general_category))]\n",
    "test$general_category <- as.factor(test$general_category)\n",
    "\n",
    "\n",
    "y_pred <- predict(classifier1, test)\n",
    "\n",
    "test[, 'predict'] = y_pred"
   ]
  },
  {
   "cell_type": "markdown",
   "metadata": {},
   "source": [
    "### Cirrhosis"
   ]
  },
  {
   "cell_type": "code",
   "execution_count": 20,
   "metadata": {},
   "outputs": [
    {
     "data": {
      "image/png": "[encoded data removed]",
      "text/plain": [
       "Plot with title \"DETAILS\""
      ]
     },
     "metadata": {},
     "output_type": "display_data"
    }
   ],
   "source": [
    "mask <- test$Category == 'Cirrhosis'\n",
    "cm <- confusionMatrix(test[mask, 'predict'], test[mask, 'general_category'])\n",
    "draw_confusion_matrix(cm)"
   ]
  },
  {
   "cell_type": "markdown",
   "metadata": {},
   "source": [
    "### Fibrosis"
   ]
  },
  {
   "cell_type": "code",
   "execution_count": 21,
   "metadata": {},
   "outputs": [
    {
     "data": {
      "image/png": "[encoded data removed]",
      "text/plain": [
       "Plot with title \"DETAILS\""
      ]
     },
     "metadata": {},
     "output_type": "display_data"
    }
   ],
   "source": [
    "mask <- test$Category == 'Fibrosis'\n",
    "cm <- confusionMatrix(test[mask, 'predict'], test[mask, 'general_category'])\n",
    "draw_confusion_matrix(cm)"
   ]
  },
  {
   "cell_type": "markdown",
   "metadata": {},
   "source": [
    "### Hepatitis"
   ]
  },
  {
   "cell_type": "code",
   "execution_count": 22,
   "metadata": {},
   "outputs": [
    {
     "data": {
      "image/png": "[encoded data removed]",
      "text/plain": [
       "Plot with title \"DETAILS\""
      ]
     },
     "metadata": {},
     "output_type": "display_data"
    }
   ],
   "source": [
    "mask <- test$Category == 'Hepatitis'\n",
    "cm <- confusionMatrix(test[mask, 'predict'], test[mask, 'general_category'])\n",
    "draw_confusion_matrix(cm)"
   ]
  },
  {
   "cell_type": "markdown",
   "metadata": {},
   "source": [
    "### Blood Donor"
   ]
  },
  {
   "cell_type": "code",
   "execution_count": 23,
   "metadata": {},
   "outputs": [
    {
     "data": {
      "image/png": "[encoded data removed]",
      "text/plain": [
       "Plot with title \"DETAILS\""
      ]
     },
     "metadata": {},
     "output_type": "display_data"
    }
   ],
   "source": [
    "mask <- test$Category == 'Blood Donor'\n",
    "cm <- confusionMatrix(test[mask, 'predict'], test[mask, 'general_category'])\n",
    "draw_confusion_matrix(cm)"
   ]
  },
  {
   "cell_type": "markdown",
   "metadata": {},
   "source": [
    "### Suspect Blood Donor"
   ]
  },
  {
   "cell_type": "code",
   "execution_count": 24,
   "metadata": {},
   "outputs": [
    {
     "data": {
      "text/html": [
       "<table>\n",
       "<thead><tr><th></th><th scope=col>Category</th><th scope=col>Age</th><th scope=col>Sex</th><th scope=col>ALB</th><th scope=col>ALP</th><th scope=col>ALT</th><th scope=col>AST</th><th scope=col>BIL</th><th scope=col>CHE</th><th scope=col>CHOL</th><th scope=col>CREA</th><th scope=col>GGT</th><th scope=col>PROT</th><th scope=col>predict</th></tr></thead>\n",
       "<tbody>\n",
       "\t<tr><th scope=row>534</th><td>suspect Blood Donor</td><td>47                 </td><td>m                  </td><td>22.5               </td><td>124.0              </td><td> 79.5              </td><td> 46.7              </td><td>2.3                </td><td> 6.83              </td><td>4.30               </td><td>170                </td><td>345.6              </td><td>58.6               </td><td>1                  </td></tr>\n",
       "\t<tr><th scope=row>535</th><td>suspect Blood Donor</td><td>48                 </td><td>m                  </td><td>24.9               </td><td>116.9              </td><td> 49.2              </td><td> 24.3              </td><td>4.9                </td><td> 3.44              </td><td>5.25               </td><td> 29                </td><td> 83.0              </td><td>47.8               </td><td>-1                 </td></tr>\n",
       "\t<tr><th scope=row>536</th><td>suspect Blood Donor</td><td>49                 </td><td>m                  </td><td>21.6               </td><td> 42.2              </td><td>  9.5              </td><td> 10.6              </td><td>2.4                </td><td> 3.75              </td><td>3.01               </td><td> 64                </td><td> 38.9              </td><td>44.8               </td><td>-1                 </td></tr>\n",
       "\t<tr><th scope=row>537</th><td>suspect Blood Donor</td><td>55                 </td><td>m                  </td><td>47.3               </td><td>106.0              </td><td>208.8              </td><td>130.6              </td><td>0.8                </td><td>14.80              </td><td>8.08               </td><td> 76                </td><td> 71.6              </td><td>78.3               </td><td>1                  </td></tr>\n",
       "\t<tr><th scope=row>538</th><td>suspect Blood Donor</td><td>71                 </td><td>m                  </td><td>14.9               </td><td> 69.8              </td><td> 19.7              </td><td> 95.2              </td><td>9.8                </td><td>13.30              </td><td>2.61               </td><td>  9                </td><td>  7.6              </td><td>47.0               </td><td>1                  </td></tr>\n",
       "\t<tr><th scope=row>539</th><td>suspect Blood Donor</td><td>74                 </td><td>m                  </td><td>20.3               </td><td> 84.0              </td><td> 22.8              </td><td> 43.0              </td><td>5.7                </td><td> 4.91              </td><td>3.19               </td><td> 52                </td><td>218.3              </td><td>47.8               </td><td>1                  </td></tr>\n",
       "\t<tr><th scope=row>540</th><td>suspect Blood Donor</td><td>59                 </td><td>f                  </td><td>19.3               </td><td>208.2              </td><td>325.3              </td><td>146.6              </td><td>6.9                </td><td> 5.33              </td><td>4.72               </td><td> 32                </td><td>295.6              </td><td>53.1               </td><td>1                  </td></tr>\n",
       "</tbody>\n",
       "</table>\n"
      ],
      "text/latex": [
       "\\begin{tabular}{r|llllllllllllll}\n",
       "  & Category & Age & Sex & ALB & ALP & ALT & AST & BIL & CHE & CHOL & CREA & GGT & PROT & predict\\\\\n",
       "\\hline\n",
       "\t534 & suspect Blood Donor & 47                  & m                   & 22.5                & 124.0               &  79.5               &  46.7               & 2.3                 &  6.83               & 4.30                & 170                 & 345.6               & 58.6                & 1                  \\\\\n",
       "\t535 & suspect Blood Donor & 48                  & m                   & 24.9                & 116.9               &  49.2               &  24.3               & 4.9                 &  3.44               & 5.25                &  29                 &  83.0               & 47.8                & -1                 \\\\\n",
       "\t536 & suspect Blood Donor & 49                  & m                   & 21.6                &  42.2               &   9.5               &  10.6               & 2.4                 &  3.75               & 3.01                &  64                 &  38.9               & 44.8                & -1                 \\\\\n",
       "\t537 & suspect Blood Donor & 55                  & m                   & 47.3                & 106.0               & 208.8               & 130.6               & 0.8                 & 14.80               & 8.08                &  76                 &  71.6               & 78.3                & 1                  \\\\\n",
       "\t538 & suspect Blood Donor & 71                  & m                   & 14.9                &  69.8               &  19.7               &  95.2               & 9.8                 & 13.30               & 2.61                &   9                 &   7.6               & 47.0                & 1                  \\\\\n",
       "\t539 & suspect Blood Donor & 74                  & m                   & 20.3                &  84.0               &  22.8               &  43.0               & 5.7                 &  4.91               & 3.19                &  52                 & 218.3               & 47.8                & 1                  \\\\\n",
       "\t540 & suspect Blood Donor & 59                  & f                   & 19.3                & 208.2               & 325.3               & 146.6               & 6.9                 &  5.33               & 4.72                &  32                 & 295.6               & 53.1                & 1                  \\\\\n",
       "\\end{tabular}\n"
      ],
      "text/markdown": [
       "\n",
       "| <!--/--> | Category | Age | Sex | ALB | ALP | ALT | AST | BIL | CHE | CHOL | CREA | GGT | PROT | predict |\n",
       "|---|---|---|---|---|---|---|---|---|---|---|---|---|---|---|\n",
       "| 534 | suspect Blood Donor | 47                  | m                   | 22.5                | 124.0               |  79.5               |  46.7               | 2.3                 |  6.83               | 4.30                | 170                 | 345.6               | 58.6                | 1                   |\n",
       "| 535 | suspect Blood Donor | 48                  | m                   | 24.9                | 116.9               |  49.2               |  24.3               | 4.9                 |  3.44               | 5.25                |  29                 |  83.0               | 47.8                | -1                  |\n",
       "| 536 | suspect Blood Donor | 49                  | m                   | 21.6                |  42.2               |   9.5               |  10.6               | 2.4                 |  3.75               | 3.01                |  64                 |  38.9               | 44.8                | -1                  |\n",
       "| 537 | suspect Blood Donor | 55                  | m                   | 47.3                | 106.0               | 208.8               | 130.6               | 0.8                 | 14.80               | 8.08                |  76                 |  71.6               | 78.3                | 1                   |\n",
       "| 538 | suspect Blood Donor | 71                  | m                   | 14.9                |  69.8               |  19.7               |  95.2               | 9.8                 | 13.30               | 2.61                |   9                 |   7.6               | 47.0                | 1                   |\n",
       "| 539 | suspect Blood Donor | 74                  | m                   | 20.3                |  84.0               |  22.8               |  43.0               | 5.7                 |  4.91               | 3.19                |  52                 | 218.3               | 47.8                | 1                   |\n",
       "| 540 | suspect Blood Donor | 59                  | f                   | 19.3                | 208.2               | 325.3               | 146.6               | 6.9                 |  5.33               | 4.72                |  32                 | 295.6               | 53.1                | 1                   |\n",
       "\n"
      ],
      "text/plain": [
       "    Category            Age Sex ALB  ALP   ALT   AST   BIL CHE   CHOL CREA\n",
       "534 suspect Blood Donor 47  m   22.5 124.0  79.5  46.7 2.3  6.83 4.30 170 \n",
       "535 suspect Blood Donor 48  m   24.9 116.9  49.2  24.3 4.9  3.44 5.25  29 \n",
       "536 suspect Blood Donor 49  m   21.6  42.2   9.5  10.6 2.4  3.75 3.01  64 \n",
       "537 suspect Blood Donor 55  m   47.3 106.0 208.8 130.6 0.8 14.80 8.08  76 \n",
       "538 suspect Blood Donor 71  m   14.9  69.8  19.7  95.2 9.8 13.30 2.61   9 \n",
       "539 suspect Blood Donor 74  m   20.3  84.0  22.8  43.0 5.7  4.91 3.19  52 \n",
       "540 suspect Blood Donor 59  f   19.3 208.2 325.3 146.6 6.9  5.33 4.72  32 \n",
       "    GGT   PROT predict\n",
       "534 345.6 58.6 1      \n",
       "535  83.0 47.8 -1     \n",
       "536  38.9 44.8 -1     \n",
       "537  71.6 78.3 1      \n",
       "538   7.6 47.0 1      \n",
       "539 218.3 47.8 1      \n",
       "540 295.6 53.1 1      "
      ]
     },
     "metadata": {},
     "output_type": "display_data"
    }
   ],
   "source": [
    "test <- hepc.backup\n",
    "missing_cols <- colnames(test)[colSums(is.na(test)) > 0]\n",
    "\n",
    "# impute missing value with median for each columns by category\n",
    "for (col in missing_cols){\n",
    "    test[, col] <- ave(test[, col], \n",
    "                       test$Category, \n",
    "                       FUN = function(x) ifelse(is.na(x), median(x, na.rm=TRUE), x)\n",
    "                      )\n",
    "}\n",
    "\n",
    "# filter the suspect blood donor\n",
    "mask <- test$Category == 'suspect Blood Donor'\n",
    "test <- test[mask,]\n",
    "y_pred <- predict(classifier1, test)\n",
    "test[, 'predict'] = y_pred\n",
    "\n",
    "test"
   ]
  },
  {
   "cell_type": "markdown",
   "metadata": {},
   "source": [
    "## Classifier 5"
   ]
  },
  {
   "cell_type": "code",
   "execution_count": 25,
   "metadata": {},
   "outputs": [],
   "source": [
    "test <- hepc.backup\n",
    "missing_cols <- colnames(test)[colSums(is.na(test)) > 0]\n",
    "\n",
    "# impute missing value with median for each columns by category\n",
    "for (col in missing_cols){\n",
    "    test[, col] <- ave(test[, col], \n",
    "                       test$Category, \n",
    "                       FUN = function(x) ifelse(is.na(x), median(x, na.rm=TRUE), x)\n",
    "                      )\n",
    "}\n",
    "\n",
    "# filter the suspect blood donor\n",
    "mask <- test$Category != 'suspect Blood Donor'\n",
    "test <- test[mask,]\n",
    "\n",
    "\n",
    "# change the category\n",
    "mask <- test$Category != 'Blood Donor'\n",
    "test[mask, 'general_category'] <- 'Hepatitis'\n",
    "test[!mask, 'general_category'] <- 'Blood Donor'\n",
    "\n",
    "# remove unwanted category\n",
    "test$Category <- factor(test$Category)\n",
    "test$general_category <- factor(test$general_category)\n",
    "\n",
    "\n",
    "test$general_category <- c(-1, 1)[unclass(as.factor(test$general_category))]\n",
    "test$general_category <- as.factor(test$general_category)\n",
    "\n",
    "\n",
    "y_pred <- predict(classifier5, test)\n",
    "\n",
    "test[, 'predict'] = y_pred"
   ]
  },
  {
   "cell_type": "markdown",
   "metadata": {},
   "source": [
    "### Cirrhosis"
   ]
  },
  {
   "cell_type": "code",
   "execution_count": 26,
   "metadata": {},
   "outputs": [
    {
     "data": {
      "image/png": "[encoded data removed]",
      "text/plain": [
       "Plot with title \"DETAILS\""
      ]
     },
     "metadata": {},
     "output_type": "display_data"
    }
   ],
   "source": [
    "mask <- test$Category == 'Cirrhosis'\n",
    "cm <- confusionMatrix(test[mask, 'predict'], test[mask, 'general_category'])\n",
    "draw_confusion_matrix(cm)"
   ]
  },
  {
   "cell_type": "markdown",
   "metadata": {},
   "source": [
    "### Fibrosis"
   ]
  },
  {
   "cell_type": "code",
   "execution_count": 27,
   "metadata": {},
   "outputs": [
    {
     "data": {
      "image/png": "[encoded data removed]",
      "text/plain": [
       "Plot with title \"DETAILS\""
      ]
     },
     "metadata": {},
     "output_type": "display_data"
    }
   ],
   "source": [
    "mask <- test$Category == 'Fibrosis'\n",
    "cm <- confusionMatrix(test[mask, 'predict'], test[mask, 'general_category'])\n",
    "draw_confusion_matrix(cm)"
   ]
  },
  {
   "cell_type": "markdown",
   "metadata": {},
   "source": [
    "### Hepatitis"
   ]
  },
  {
   "cell_type": "code",
   "execution_count": 28,
   "metadata": {},
   "outputs": [
    {
     "data": {
      "image/png": "[encoded data removed]",
      "text/plain": [
       "Plot with title \"DETAILS\""
      ]
     },
     "metadata": {},
     "output_type": "display_data"
    }
   ],
   "source": [
    "mask <- test$Category == 'Hepatitis'\n",
    "cm <- confusionMatrix(test[mask, 'predict'], test[mask, 'general_category'])\n",
    "draw_confusion_matrix(cm)"
   ]
  },
  {
   "cell_type": "markdown",
   "metadata": {},
   "source": [
    "### Blood Donor"
   ]
  },
  {
   "cell_type": "code",
   "execution_count": 29,
   "metadata": {},
   "outputs": [
    {
     "data": {
      "image/png": "[encoded data removed]",
      "text/plain": [
       "Plot with title \"DETAILS\""
      ]
     },
     "metadata": {},
     "output_type": "display_data"
    }
   ],
   "source": [
    "mask <- test$Category == 'Blood Donor'\n",
    "cm <- confusionMatrix(test[mask, 'predict'], test[mask, 'general_category'])\n",
    "draw_confusion_matrix(cm)"
   ]
  },
  {
   "cell_type": "markdown",
   "metadata": {},
   "source": [
    "### Suspect Blood Donor"
   ]
  },
  {
   "cell_type": "code",
   "execution_count": 30,
   "metadata": {},
   "outputs": [
    {
     "data": {
      "text/html": [
       "<table>\n",
       "<thead><tr><th></th><th scope=col>Category</th><th scope=col>Age</th><th scope=col>Sex</th><th scope=col>ALB</th><th scope=col>ALP</th><th scope=col>ALT</th><th scope=col>AST</th><th scope=col>BIL</th><th scope=col>CHE</th><th scope=col>CHOL</th><th scope=col>CREA</th><th scope=col>GGT</th><th scope=col>PROT</th><th scope=col>predict</th></tr></thead>\n",
       "<tbody>\n",
       "\t<tr><th scope=row>534</th><td>suspect Blood Donor</td><td>47                 </td><td>m                  </td><td>22.5               </td><td>124.0              </td><td> 79.5              </td><td> 46.7              </td><td>2.3                </td><td> 6.83              </td><td>4.30               </td><td>170                </td><td>345.6              </td><td>58.6               </td><td>1                  </td></tr>\n",
       "\t<tr><th scope=row>535</th><td>suspect Blood Donor</td><td>48                 </td><td>m                  </td><td>24.9               </td><td>116.9              </td><td> 49.2              </td><td> 24.3              </td><td>4.9                </td><td> 3.44              </td><td>5.25               </td><td> 29                </td><td> 83.0              </td><td>47.8               </td><td>-1                 </td></tr>\n",
       "\t<tr><th scope=row>536</th><td>suspect Blood Donor</td><td>49                 </td><td>m                  </td><td>21.6               </td><td> 42.2              </td><td>  9.5              </td><td> 10.6              </td><td>2.4                </td><td> 3.75              </td><td>3.01               </td><td> 64                </td><td> 38.9              </td><td>44.8               </td><td>-1                 </td></tr>\n",
       "\t<tr><th scope=row>537</th><td>suspect Blood Donor</td><td>55                 </td><td>m                  </td><td>47.3               </td><td>106.0              </td><td>208.8              </td><td>130.6              </td><td>0.8                </td><td>14.80              </td><td>8.08               </td><td> 76                </td><td> 71.6              </td><td>78.3               </td><td>1                  </td></tr>\n",
       "\t<tr><th scope=row>538</th><td>suspect Blood Donor</td><td>71                 </td><td>m                  </td><td>14.9               </td><td> 69.8              </td><td> 19.7              </td><td> 95.2              </td><td>9.8                </td><td>13.30              </td><td>2.61               </td><td>  9                </td><td>  7.6              </td><td>47.0               </td><td>1                  </td></tr>\n",
       "\t<tr><th scope=row>539</th><td>suspect Blood Donor</td><td>74                 </td><td>m                  </td><td>20.3               </td><td> 84.0              </td><td> 22.8              </td><td> 43.0              </td><td>5.7                </td><td> 4.91              </td><td>3.19               </td><td> 52                </td><td>218.3              </td><td>47.8               </td><td>1                  </td></tr>\n",
       "\t<tr><th scope=row>540</th><td>suspect Blood Donor</td><td>59                 </td><td>f                  </td><td>19.3               </td><td>208.2              </td><td>325.3              </td><td>146.6              </td><td>6.9                </td><td> 5.33              </td><td>4.72               </td><td> 32                </td><td>295.6              </td><td>53.1               </td><td>1                  </td></tr>\n",
       "</tbody>\n",
       "</table>\n"
      ],
      "text/latex": [
       "\\begin{tabular}{r|llllllllllllll}\n",
       "  & Category & Age & Sex & ALB & ALP & ALT & AST & BIL & CHE & CHOL & CREA & GGT & PROT & predict\\\\\n",
       "\\hline\n",
       "\t534 & suspect Blood Donor & 47                  & m                   & 22.5                & 124.0               &  79.5               &  46.7               & 2.3                 &  6.83               & 4.30                & 170                 & 345.6               & 58.6                & 1                  \\\\\n",
       "\t535 & suspect Blood Donor & 48                  & m                   & 24.9                & 116.9               &  49.2               &  24.3               & 4.9                 &  3.44               & 5.25                &  29                 &  83.0               & 47.8                & -1                 \\\\\n",
       "\t536 & suspect Blood Donor & 49                  & m                   & 21.6                &  42.2               &   9.5               &  10.6               & 2.4                 &  3.75               & 3.01                &  64                 &  38.9               & 44.8                & -1                 \\\\\n",
       "\t537 & suspect Blood Donor & 55                  & m                   & 47.3                & 106.0               & 208.8               & 130.6               & 0.8                 & 14.80               & 8.08                &  76                 &  71.6               & 78.3                & 1                  \\\\\n",
       "\t538 & suspect Blood Donor & 71                  & m                   & 14.9                &  69.8               &  19.7               &  95.2               & 9.8                 & 13.30               & 2.61                &   9                 &   7.6               & 47.0                & 1                  \\\\\n",
       "\t539 & suspect Blood Donor & 74                  & m                   & 20.3                &  84.0               &  22.8               &  43.0               & 5.7                 &  4.91               & 3.19                &  52                 & 218.3               & 47.8                & 1                  \\\\\n",
       "\t540 & suspect Blood Donor & 59                  & f                   & 19.3                & 208.2               & 325.3               & 146.6               & 6.9                 &  5.33               & 4.72                &  32                 & 295.6               & 53.1                & 1                  \\\\\n",
       "\\end{tabular}\n"
      ],
      "text/markdown": [
       "\n",
       "| <!--/--> | Category | Age | Sex | ALB | ALP | ALT | AST | BIL | CHE | CHOL | CREA | GGT | PROT | predict |\n",
       "|---|---|---|---|---|---|---|---|---|---|---|---|---|---|---|\n",
       "| 534 | suspect Blood Donor | 47                  | m                   | 22.5                | 124.0               |  79.5               |  46.7               | 2.3                 |  6.83               | 4.30                | 170                 | 345.6               | 58.6                | 1                   |\n",
       "| 535 | suspect Blood Donor | 48                  | m                   | 24.9                | 116.9               |  49.2               |  24.3               | 4.9                 |  3.44               | 5.25                |  29                 |  83.0               | 47.8                | -1                  |\n",
       "| 536 | suspect Blood Donor | 49                  | m                   | 21.6                |  42.2               |   9.5               |  10.6               | 2.4                 |  3.75               | 3.01                |  64                 |  38.9               | 44.8                | -1                  |\n",
       "| 537 | suspect Blood Donor | 55                  | m                   | 47.3                | 106.0               | 208.8               | 130.6               | 0.8                 | 14.80               | 8.08                |  76                 |  71.6               | 78.3                | 1                   |\n",
       "| 538 | suspect Blood Donor | 71                  | m                   | 14.9                |  69.8               |  19.7               |  95.2               | 9.8                 | 13.30               | 2.61                |   9                 |   7.6               | 47.0                | 1                   |\n",
       "| 539 | suspect Blood Donor | 74                  | m                   | 20.3                |  84.0               |  22.8               |  43.0               | 5.7                 |  4.91               | 3.19                |  52                 | 218.3               | 47.8                | 1                   |\n",
       "| 540 | suspect Blood Donor | 59                  | f                   | 19.3                | 208.2               | 325.3               | 146.6               | 6.9                 |  5.33               | 4.72                |  32                 | 295.6               | 53.1                | 1                   |\n",
       "\n"
      ],
      "text/plain": [
       "    Category            Age Sex ALB  ALP   ALT   AST   BIL CHE   CHOL CREA\n",
       "534 suspect Blood Donor 47  m   22.5 124.0  79.5  46.7 2.3  6.83 4.30 170 \n",
       "535 suspect Blood Donor 48  m   24.9 116.9  49.2  24.3 4.9  3.44 5.25  29 \n",
       "536 suspect Blood Donor 49  m   21.6  42.2   9.5  10.6 2.4  3.75 3.01  64 \n",
       "537 suspect Blood Donor 55  m   47.3 106.0 208.8 130.6 0.8 14.80 8.08  76 \n",
       "538 suspect Blood Donor 71  m   14.9  69.8  19.7  95.2 9.8 13.30 2.61   9 \n",
       "539 suspect Blood Donor 74  m   20.3  84.0  22.8  43.0 5.7  4.91 3.19  52 \n",
       "540 suspect Blood Donor 59  f   19.3 208.2 325.3 146.6 6.9  5.33 4.72  32 \n",
       "    GGT   PROT predict\n",
       "534 345.6 58.6 1      \n",
       "535  83.0 47.8 -1     \n",
       "536  38.9 44.8 -1     \n",
       "537  71.6 78.3 1      \n",
       "538   7.6 47.0 1      \n",
       "539 218.3 47.8 1      \n",
       "540 295.6 53.1 1      "
      ]
     },
     "metadata": {},
     "output_type": "display_data"
    }
   ],
   "source": [
    "test <- hepc.backup\n",
    "missing_cols <- colnames(test)[colSums(is.na(test)) > 0]\n",
    "\n",
    "# impute missing value with median for each columns by category\n",
    "for (col in missing_cols){\n",
    "    test[, col] <- ave(test[, col], \n",
    "                       test$Category, \n",
    "                       FUN = function(x) ifelse(is.na(x), median(x, na.rm=TRUE), x)\n",
    "                      )\n",
    "}\n",
    "\n",
    "# filter the suspect blood donor\n",
    "mask <- test$Category == 'suspect Blood Donor'\n",
    "test <- test[mask,]\n",
    "y_pred <- predict(classifier1, test)\n",
    "test[, 'predict'] = y_pred\n",
    "\n",
    "test"
   ]
  }
 ],
 "metadata": {
  "kernelspec": {
   "display_name": "R",
   "language": "R",
   "name": "ir"
  },
  "language_info": {
   "codemirror_mode": "r",
   "file_extension": ".r",
   "mimetype": "text/x-r-source",
   "name": "R",
   "pygments_lexer": "r",
   "version": "3.6.1"
  },
  "toc": {
   "base_numbering": 1,
   "nav_menu": {},
   "number_sections": true,
   "sideBar": true,
   "skip_h1_title": false,
   "title_cell": "Table of Contents",
   "title_sidebar": "Contents",
   "toc_cell": false,
   "toc_position": {
    "height": "calc(100% - 180px)",
    "left": "10px",
    "top": "150px",
    "width": "384px"
   },
   "toc_section_display": true,
   "toc_window_display": true
  },
  "varInspector": {
   "cols": {
    "lenName": 16,
    "lenType": 16,
    "lenVar": 40
   },
   "kernels_config": {
    "python": {
     "delete_cmd_postfix": "",
     "delete_cmd_prefix": "del ",
     "library": "var_list.py",
     "varRefreshCmd": "print(var_dic_list())"
    },
    "r": {
     "delete_cmd_postfix": ") ",
     "delete_cmd_prefix": "rm(",
     "library": "var_list.r",
     "varRefreshCmd": "cat(var_dic_list()) "
    }
   },
   "types_to_exclude": [
    "module",
    "function",
    "builtin_function_or_method",
    "instance",
    "_Feature"
   ],
   "window_display": false
  }
 },
 "nbformat": 4,
 "nbformat_minor": 4
}
